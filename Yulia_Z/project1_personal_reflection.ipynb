{
 "cells": [
  {
   "cell_type": "markdown",
   "metadata": {},
   "source": [
    "Personal reflection on the project (London housing prices)\n",
    "\n",
    "The project aimed to create a basic linear regression model with multiple features, using a dataset from Kaggle data repository.  The first stage of the work involved exploring the dataset and preparing it for using in the model. While being a less technical phase, this part of the project was the most time-consuming, as it proved to be a challenging and complex task to identify the most appropriate data to use as features for the model, as well as to tailor it for achieving the desired outcomes.\n",
    "\n",
    "The second stage was mostly coding, which was performed with the substantial usage of AI and help from more experienced colleagues. The independent work at this phase was not possible due to lack of programming skills and insufficient knowledge of Python programming language.\n",
    "\n",
    "The overall result of the project appears moderately satisfying. While technically the aim was achieved and the working model created and tested, the quality of the model's predictions was not high enough to allow to use it in real life projects. There is still room for improvement and further developement of the model."
   ]
  }
 ],
 "metadata": {
  "language_info": {
   "name": "python"
  }
 },
 "nbformat": 4,
 "nbformat_minor": 2
}

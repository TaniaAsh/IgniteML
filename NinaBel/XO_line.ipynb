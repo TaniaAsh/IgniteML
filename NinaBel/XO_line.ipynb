{
 "cells": [
  {
   "cell_type": "markdown",
   "id": "ad734b5e-17f3-40ed-9da9-857f1ebc937e",
   "metadata": {},
   "source": [
    "# КРЕСТИКИ-НОЛИКИ В ЛИНИЮ"
   ]
  },
  {
   "cell_type": "markdown",
   "id": "0ed97f51-080d-4cd7-b357-475b45474215",
   "metadata": {},
   "source": [
    "## Класс хранит текущее состояние игрового поля, позволяет сделать ход и оценивает, закончилась ли игра."
   ]
  },
  {
   "cell_type": "code",
   "execution_count": 1,
   "id": "44cd4782-cd89-4ba8-b6c3-84d4edd0922c",
   "metadata": {},
   "outputs": [],
   "source": [
    "class X0_line:\n",
    "    def __init__(self, n=10):\n",
    "        # инициализация игрового поля\n",
    "        if n<7:\n",
    "            raise ValueError('Игровое поле слишком короткое.')\n",
    "        self.field = n*'-'\n",
    "        self.symbol = 'X'\n",
    "\n",
    "    def __str__(self):\n",
    "        # возвращает строку с текущим игровым полем\n",
    "        return self.field\n",
    "\n",
    "    def turn(self, position):\n",
    "        # ход \n",
    "        if position<0 or position>=len(self.field):\n",
    "            raise ValueError('Ячейка за пределами поля.')\n",
    "        if self.field[position] != '-':\n",
    "            raise ValueError('Ячейка уже занята.')\n",
    "        self.field = self.field[:position]+self.symbol+self.field[position+1:]\n",
    "        self.symbol = '0' if self.symbol == 'X' else 'X'\n",
    "        print(self)\n",
    "\n",
    "    def check(self):\n",
    "        # проверка условий окончания игры\n",
    "        if 'XXX' in self.field:\n",
    "            return 'X' # выиграл игрок Х\n",
    "        if '000' in self.field:\n",
    "            return '0' # выиграл игрок 0\n",
    "        if '-' not in self.field:\n",
    "            return '!' # ничья\n",
    "        return '-' # есть свободные поля\n",
    "        \n",
    "            "
   ]
  },
  {
   "cell_type": "code",
   "execution_count": 2,
   "id": "b0d5174d-a968-4b91-94c1-0c9b4bb05cb1",
   "metadata": {},
   "outputs": [
    {
     "name": "stdout",
     "output_type": "stream",
     "text": [
      "Игровое поле слишком короткое.\n"
     ]
    }
   ],
   "source": [
    "try:\n",
    "    game = X0_line(3)\n",
    "except Exception as x:\n",
    "    print(x)"
   ]
  },
  {
   "cell_type": "code",
   "execution_count": 3,
   "id": "dad9cdcd-8158-4b83-b6f8-297a8f78d7ed",
   "metadata": {},
   "outputs": [
    {
     "name": "stdout",
     "output_type": "stream",
     "text": [
      "division by zero\n"
     ]
    }
   ],
   "source": [
    "try:\n",
    "    a = 6/0\n",
    "except Exception as ex:\n",
    "    print(ex)"
   ]
  },
  {
   "cell_type": "code",
   "execution_count": 4,
   "id": "b397d5ec-9810-4f16-8022-26df0bf10a6e",
   "metadata": {},
   "outputs": [],
   "source": [
    "try:\n",
    "    game = X0_line(10)\n",
    "except Exception as x:\n",
    "    print(x)"
   ]
  },
  {
   "cell_type": "code",
   "execution_count": 5,
   "id": "dd750667-e23c-4ea3-86f6-0c8e3ac05624",
   "metadata": {},
   "outputs": [
    {
     "name": "stdout",
     "output_type": "stream",
     "text": [
      "----------\n"
     ]
    }
   ],
   "source": [
    "print(game)"
   ]
  },
  {
   "cell_type": "code",
   "execution_count": 7,
   "id": "f6aa0a45-38fe-4ebc-9471-fb788a937e9a",
   "metadata": {},
   "outputs": [
    {
     "name": "stdout",
     "output_type": "stream",
     "text": [
      "---------X\n"
     ]
    }
   ],
   "source": [
    "game.turn('X', 9)"
   ]
  },
  {
   "cell_type": "code",
   "execution_count": 8,
   "id": "15436ef2-8f0e-4d1b-82e8-5322ae30a991",
   "metadata": {},
   "outputs": [
    {
     "name": "stdout",
     "output_type": "stream",
     "text": [
      "---------X\n"
     ]
    },
    {
     "name": "stdin",
     "output_type": "stream",
     "text": [
      "Введите позицию 2\n"
     ]
    }
   ],
   "source": [
    "print(game)\n",
    "p = int(input('Введите позицию'))"
   ]
  },
  {
   "cell_type": "code",
   "execution_count": 9,
   "id": "199ec671-3412-4644-ac9d-fd9ae5cd29a7",
   "metadata": {},
   "outputs": [
    {
     "name": "stdout",
     "output_type": "stream",
     "text": [
      "--0------X\n"
     ]
    }
   ],
   "source": [
    "game.turn('0',p)"
   ]
  },
  {
   "cell_type": "markdown",
   "id": "f9c4966f-83ce-4a20-8840-4a10b0bf7377",
   "metadata": {},
   "source": [
    "## Игра"
   ]
  },
  {
   "cell_type": "code",
   "execution_count": 2,
   "id": "43f51f41-2172-438f-8c72-3d8f693cd466",
   "metadata": {},
   "outputs": [
    {
     "name": "stdin",
     "output_type": "stream",
     "text": [
      "Введите позицию для игрока X:  6\n"
     ]
    },
    {
     "name": "stdout",
     "output_type": "stream",
     "text": [
      "------X-----\n"
     ]
    },
    {
     "name": "stdin",
     "output_type": "stream",
     "text": [
      "Введите позицию для игрока 0:  3\n"
     ]
    },
    {
     "name": "stdout",
     "output_type": "stream",
     "text": [
      "---0--X-----\n"
     ]
    },
    {
     "name": "stdin",
     "output_type": "stream",
     "text": [
      "Введите позицию для игрока X:  7\n"
     ]
    },
    {
     "name": "stdout",
     "output_type": "stream",
     "text": [
      "---0--XX----\n"
     ]
    },
    {
     "name": "stdin",
     "output_type": "stream",
     "text": [
      "Введите позицию для игрока 0:  5\n"
     ]
    },
    {
     "name": "stdout",
     "output_type": "stream",
     "text": [
      "---0-0XX----\n"
     ]
    },
    {
     "name": "stdin",
     "output_type": "stream",
     "text": [
      "Введите позицию для игрока X:  8\n"
     ]
    },
    {
     "name": "stdout",
     "output_type": "stream",
     "text": [
      "---0-0XXX---\n",
      "X\n"
     ]
    }
   ],
   "source": [
    "game = X0_line(12)\n",
    "while game.check()=='-':\n",
    "    try:\n",
    "        p = int(input(f'Введите позицию для игрока {game.symbol}: '))\n",
    "        game.turn(p)\n",
    "    except Exception as ex:     \n",
    "        print(ex)\n",
    "print(game.check())"
   ]
  },
  {
   "cell_type": "markdown",
   "id": "4dd8e352-06c7-4c88-817c-4e3cf8193885",
   "metadata": {},
   "source": [
    "## Дополните класс X0_line методом, который будет делать ход за компьютер."
   ]
  },
  {
   "cell_type": "code",
   "execution_count": 3,
   "id": "27c2d82a-4468-48f6-ad46-6f0ac2bfce30",
   "metadata": {},
   "outputs": [],
   "source": [
    "s = 'Hello, world'"
   ]
  },
  {
   "cell_type": "code",
   "execution_count": 4,
   "id": "da739a4c-0f35-4e19-9d13-b540665c5306",
   "metadata": {},
   "outputs": [
    {
     "data": {
      "text/plain": [
       "12"
      ]
     },
     "execution_count": 4,
     "metadata": {},
     "output_type": "execute_result"
    }
   ],
   "source": [
    "len(s)"
   ]
  },
  {
   "cell_type": "code",
   "execution_count": 5,
   "id": "2e403798-28d7-4ceb-a3d6-19c26fe20707",
   "metadata": {},
   "outputs": [
    {
     "data": {
      "text/plain": [
       "'H'"
      ]
     },
     "execution_count": 5,
     "metadata": {},
     "output_type": "execute_result"
    }
   ],
   "source": [
    "s[0]"
   ]
  },
  {
   "cell_type": "code",
   "execution_count": 6,
   "id": "64a006e9-7fc9-45a5-9e92-f570a185f8cc",
   "metadata": {},
   "outputs": [
    {
     "data": {
      "text/plain": [
       "'o, '"
      ]
     },
     "execution_count": 6,
     "metadata": {},
     "output_type": "execute_result"
    }
   ],
   "source": [
    "s[4:7]"
   ]
  },
  {
   "cell_type": "code",
   "execution_count": 7,
   "id": "704a4032-8019-45e2-9fef-33dcf493a9db",
   "metadata": {},
   "outputs": [
    {
     "data": {
      "text/plain": [
       "'Hello'"
      ]
     },
     "execution_count": 7,
     "metadata": {},
     "output_type": "execute_result"
    }
   ],
   "source": [
    "s[:5]"
   ]
  },
  {
   "cell_type": "code",
   "execution_count": 8,
   "id": "8a25c466-152f-4b68-86c6-c8d9d12001d2",
   "metadata": {},
   "outputs": [
    {
     "data": {
      "text/plain": [
       "'world'"
      ]
     },
     "execution_count": 8,
     "metadata": {},
     "output_type": "execute_result"
    }
   ],
   "source": [
    "s[-5:]"
   ]
  },
  {
   "cell_type": "code",
   "execution_count": 9,
   "id": "16730c20-8c5c-447c-af8c-bf4c0e90a16e",
   "metadata": {},
   "outputs": [],
   "source": [
    "s = 10*'-'"
   ]
  },
  {
   "cell_type": "code",
   "execution_count": 10,
   "id": "4de7ebad-74bc-4b64-b6ee-e1f8a15c2778",
   "metadata": {},
   "outputs": [
    {
     "data": {
      "text/plain": [
       "'-----'"
      ]
     },
     "execution_count": 10,
     "metadata": {},
     "output_type": "execute_result"
    }
   ],
   "source": [
    "s[:5]"
   ]
  },
  {
   "cell_type": "code",
   "execution_count": 12,
   "id": "aa2ef848-1429-49ee-ac84-f6520b56cc42",
   "metadata": {},
   "outputs": [
    {
     "data": {
      "text/plain": [
       "'----'"
      ]
     },
     "execution_count": 12,
     "metadata": {},
     "output_type": "execute_result"
    }
   ],
   "source": [
    "s[5+1:]"
   ]
  },
  {
   "cell_type": "code",
   "execution_count": 13,
   "id": "f485d329-a23b-46f9-b817-5389be73376b",
   "metadata": {},
   "outputs": [
    {
     "data": {
      "text/plain": [
       "'-----*----'"
      ]
     },
     "execution_count": 13,
     "metadata": {},
     "output_type": "execute_result"
    }
   ],
   "source": [
    "s = s[:5] + '*' + s[5+1:]\n",
    "s"
   ]
  },
  {
   "cell_type": "code",
   "execution_count": null,
   "id": "99776c1b-2dc9-412c-baa1-cf9fc0f19b2e",
   "metadata": {},
   "outputs": [],
   "source": []
  }
 ],
 "metadata": {
  "kernelspec": {
   "display_name": "Python 3 (ipykernel)",
   "language": "python",
   "name": "python3"
  },
  "language_info": {
   "codemirror_mode": {
    "name": "ipython",
    "version": 3
   },
   "file_extension": ".py",
   "mimetype": "text/x-python",
   "name": "python",
   "nbconvert_exporter": "python",
   "pygments_lexer": "ipython3",
   "version": "3.13.0"
  }
 },
 "nbformat": 4,
 "nbformat_minor": 5
}

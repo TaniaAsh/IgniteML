{
 "cells": [
  {
   "cell_type": "markdown",
   "id": "d72f5c54-a7b7-4229-a0db-fdf28065b1bb",
   "metadata": {},
   "source": [
    "# Тренировочные задачи"
   ]
  },
  {
   "cell_type": "markdown",
   "id": "2076e9f7-49a8-4cc1-b490-25f0edeb48cc",
   "metadata": {},
   "source": [
    "1. Напиши функцию **print_N_krat**, которая принимает в качестве аргументов строку и число N и печатает полученную строку N раз через пробел.\n",
    "   \n",
    "   *Подсказка:* строки можно складывать и умножать на число"
   ]
  },
  {
   "cell_type": "code",
   "execution_count": null,
   "id": "b85b7afa-8f99-46da-b7b2-dd2835eeb75c",
   "metadata": {},
   "outputs": [],
   "source": []
  },
  {
   "cell_type": "code",
   "execution_count": null,
   "id": "a9a7efbf-7507-4bb2-9e75-526bfa234771",
   "metadata": {},
   "outputs": [],
   "source": [
    "print_N_krat(\"ужас\", 3)"
   ]
  },
  {
   "cell_type": "markdown",
   "id": "a2c3548d-92c9-4b28-af42-9e0e71cf701c",
   "metadata": {},
   "source": [
    "2. Напиши функцию **delimost**, которая принимает в качестве аргументов два числа и определяет, делится ли первое число на второе нацело.\n",
    "\n",
    "   *Подсказка:* в Python есть три оператора деления:\n",
    "   - **/** просто деление\n",
    "   - **//** деление нацело\n",
    "   - **%** остаток от деления нацело"
   ]
  },
  {
   "cell_type": "code",
   "execution_count": null,
   "id": "7cb07eb6-149f-4a33-b434-2871bebe24d6",
   "metadata": {},
   "outputs": [],
   "source": []
  },
  {
   "cell_type": "code",
   "execution_count": null,
   "id": "c8c1f2ff-baee-4237-bb94-f9374eb29766",
   "metadata": {},
   "outputs": [],
   "source": [
    "delimost(6795,9)"
   ]
  },
  {
   "cell_type": "code",
   "execution_count": null,
   "id": "2a3eeeb3-4ee4-4709-9d57-1891677070d0",
   "metadata": {},
   "outputs": [],
   "source": [
    "delimost(1303,17)"
   ]
  },
  {
   "cell_type": "markdown",
   "id": "dac077e7-e59e-43d6-9b30-93a53930dac1",
   "metadata": {},
   "source": [
    "Измени эту функцию, чтобы по умолчанию она проверяла деление на 3."
   ]
  },
  {
   "cell_type": "code",
   "execution_count": null,
   "id": "210a002d-b57f-4d28-ba7e-31d5ddbd3be9",
   "metadata": {},
   "outputs": [],
   "source": [
    "delimost(123)"
   ]
  },
  {
   "cell_type": "markdown",
   "id": "b9491b82-c07a-4028-bdb9-83ae3146603e",
   "metadata": {},
   "source": [
    "3. Напиши функцию **root_number**, которая получает аргументы числа a, b, c и возвращает количество корней уравнения ax<sup>2</sup> + bx + c."
   ]
  },
  {
   "cell_type": "code",
   "execution_count": null,
   "id": "c2622986-67dc-45ae-8dbe-e229d698e0a2",
   "metadata": {},
   "outputs": [],
   "source": []
  },
  {
   "cell_type": "code",
   "execution_count": null,
   "id": "417c6042-313c-4029-8266-6ae906ed3917",
   "metadata": {},
   "outputs": [],
   "source": [
    "root_number(a=1, b=-2, c=1)"
   ]
  },
  {
   "cell_type": "code",
   "execution_count": null,
   "id": "31170d0b-de9b-44b5-bc89-5c2f20785d59",
   "metadata": {},
   "outputs": [],
   "source": [
    "root_number(a=2, b=1, c=10)"
   ]
  },
  {
   "cell_type": "code",
   "execution_count": null,
   "id": "83e59fc0-9078-48a3-bacf-0094be6c670a",
   "metadata": {},
   "outputs": [],
   "source": [
    "root_number(a=1, b=3, c=-2)"
   ]
  },
  {
   "cell_type": "markdown",
   "id": "fa928229-3191-4ef0-9e49-ea408dbd5a1e",
   "metadata": {},
   "source": [
    "4. Напиши функцию **factorial**, которая вычисляет факториал заданного числа."
   ]
  },
  {
   "cell_type": "code",
   "execution_count": null,
   "id": "08ee6f9c-c2a3-4140-ab23-f3330d022e61",
   "metadata": {},
   "outputs": [],
   "source": []
  },
  {
   "cell_type": "code",
   "execution_count": null,
   "id": "31bd9ee3-6b87-4052-a4c8-3259575cf841",
   "metadata": {},
   "outputs": [],
   "source": [
    "print('5! =', factorial(5))"
   ]
  },
  {
   "cell_type": "code",
   "execution_count": null,
   "id": "8f660785-a519-4fa0-ac2b-c0e084e07db0",
   "metadata": {},
   "outputs": [],
   "source": [
    "print('1! =', factorial(1))"
   ]
  },
  {
   "cell_type": "markdown",
   "id": "7a7f4861-eec7-48ef-ac1d-2c585a5d6cc7",
   "metadata": {},
   "source": [
    "5.  Напиши функцию **statistics**, которая принимает в качестве аргументов имя функции и список чисел, печатает описание функции по-русски и возвращает результат применения соответствующей функции из модуля numpy к списку. Выбери несколько функций и составь для них словарь. Если имени функции нет в твоём словаре, программа должна что-то сказать об этом.\n",
    "   *Подсказка:* `<имя_модуля>.__dict__` - словарь всех элементов (в том числе функций), импортированных вместе с модулем."
   ]
  },
  {
   "cell_type": "code",
   "execution_count": null,
   "id": "8eb88a83-0c4e-488c-b0d8-71a1ed1d0bd0",
   "metadata": {},
   "outputs": [],
   "source": [
    "import numpy as np\n",
    "random_numbers = np.random.rand(10) * 10 # 10 случайных чисел от 0 до 10\n",
    "random_numbers"
   ]
  },
  {
   "cell_type": "code",
   "execution_count": null,
   "id": "9e4e0a6d-9da1-45d1-9946-d6ec09523dae",
   "metadata": {},
   "outputs": [],
   "source": []
  },
  {
   "cell_type": "code",
   "execution_count": null,
   "id": "42575d6d-d0c8-4ccd-87d4-7eeb93ef7e5d",
   "metadata": {},
   "outputs": [],
   "source": [
    "statistics('max', random_numbers)"
   ]
  },
  {
   "cell_type": "code",
   "execution_count": null,
   "id": "a075b416-b633-463a-911b-61d653e4a338",
   "metadata": {},
   "outputs": [],
   "source": [
    "statistics('var', random_numbers)"
   ]
  },
  {
   "cell_type": "code",
   "execution_count": null,
   "id": "457b0f48-b7dd-4783-b17e-ff6c6a685524",
   "metadata": {},
   "outputs": [],
   "source": [
    "statistics('something', random_numbers)"
   ]
  }
 ],
 "metadata": {
  "kernelspec": {
   "display_name": "Python 3 (ipykernel)",
   "language": "python",
   "name": "python3"
  },
  "language_info": {
   "codemirror_mode": {
    "name": "ipython",
    "version": 3
   },
   "file_extension": ".py",
   "mimetype": "text/x-python",
   "name": "python",
   "nbconvert_exporter": "python",
   "pygments_lexer": "ipython3",
   "version": "3.13.0"
  }
 },
 "nbformat": 4,
 "nbformat_minor": 5
}

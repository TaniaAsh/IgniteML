{
 "cells": [
  {
   "cell_type": "markdown",
   "id": "f6c26ee2-c443-4882-a514-f07c3e24da5f",
   "metadata": {},
   "source": [
    "# Область видимости переменных внутри функции"
   ]
  },
  {
   "cell_type": "code",
   "execution_count": 1,
   "id": "ad8171be-9ef7-4556-ba74-5f7077b36c29",
   "metadata": {},
   "outputs": [],
   "source": [
    "def plus(a):\n",
    "    print ('a =', a)\n",
    "    return b + a"
   ]
  },
  {
   "cell_type": "code",
   "execution_count": 2,
   "id": "e04bdeef-0a7b-4f73-90c7-2bcfec7256a0",
   "metadata": {},
   "outputs": [
    {
     "name": "stdout",
     "output_type": "stream",
     "text": [
      "a = 5\n"
     ]
    },
    {
     "ename": "NameError",
     "evalue": "name 'b' is not defined",
     "output_type": "error",
     "traceback": [
      "\u001b[1;31m---------------------------------------------------------------------------\u001b[0m",
      "\u001b[1;31mNameError\u001b[0m                                 Traceback (most recent call last)",
      "Cell \u001b[1;32mIn[2], line 1\u001b[0m\n\u001b[1;32m----> 1\u001b[0m \u001b[43mplus\u001b[49m\u001b[43m(\u001b[49m\u001b[38;5;241;43m5\u001b[39;49m\u001b[43m)\u001b[49m\n",
      "Cell \u001b[1;32mIn[1], line 3\u001b[0m, in \u001b[0;36mplus\u001b[1;34m(a)\u001b[0m\n\u001b[0;32m      1\u001b[0m \u001b[38;5;28;01mdef\u001b[39;00m\u001b[38;5;250m \u001b[39m\u001b[38;5;21mplus\u001b[39m(a):\n\u001b[0;32m      2\u001b[0m     \u001b[38;5;28mprint\u001b[39m (\u001b[38;5;124m'\u001b[39m\u001b[38;5;124ma =\u001b[39m\u001b[38;5;124m'\u001b[39m, a)\n\u001b[1;32m----> 3\u001b[0m     \u001b[38;5;28;01mreturn\u001b[39;00m \u001b[43mb\u001b[49m \u001b[38;5;241m+\u001b[39m a\n",
      "\u001b[1;31mNameError\u001b[0m: name 'b' is not defined"
     ]
    }
   ],
   "source": [
    "plus(5)"
   ]
  },
  {
   "cell_type": "code",
   "execution_count": 3,
   "id": "a138c5a8-75f6-413e-bc4b-f44b78a207c3",
   "metadata": {},
   "outputs": [
    {
     "name": "stdout",
     "output_type": "stream",
     "text": [
      "a = 5\n"
     ]
    },
    {
     "data": {
      "text/plain": [
       "12"
      ]
     },
     "execution_count": 3,
     "metadata": {},
     "output_type": "execute_result"
    }
   ],
   "source": [
    "b = 7\n",
    "plus(5)"
   ]
  },
  {
   "cell_type": "code",
   "execution_count": 4,
   "id": "aa34f1c7-949d-4abd-8eff-193c241419eb",
   "metadata": {},
   "outputs": [
    {
     "name": "stdout",
     "output_type": "stream",
     "text": [
      "a = 5\n"
     ]
    },
    {
     "data": {
      "text/plain": [
       "12"
      ]
     },
     "execution_count": 4,
     "metadata": {},
     "output_type": "execute_result"
    }
   ],
   "source": [
    "a = 0\n",
    "plus(5)"
   ]
  },
  {
   "cell_type": "code",
   "execution_count": 5,
   "id": "79cdab6a-d734-46ed-a6af-8641b3ff4f5e",
   "metadata": {},
   "outputs": [],
   "source": [
    "def oper(a, b, f = pow):\n",
    "    print ('a =', a, 'b =', b, 'function:', f.__name__)\n",
    "    return f(a, b)"
   ]
  },
  {
   "cell_type": "code",
   "execution_count": 6,
   "id": "8cbae094-8eea-4622-8253-a1bcff3f3f5f",
   "metadata": {},
   "outputs": [
    {
     "name": "stdout",
     "output_type": "stream",
     "text": [
      "a = 3 b = 3 function: pow\n"
     ]
    },
    {
     "data": {
      "text/plain": [
       "27"
      ]
     },
     "execution_count": 6,
     "metadata": {},
     "output_type": "execute_result"
    }
   ],
   "source": [
    "oper(3, 3)"
   ]
  },
  {
   "cell_type": "code",
   "execution_count": 7,
   "id": "7e5ef3a2-09dd-4e14-8e40-7580d2a42b15",
   "metadata": {},
   "outputs": [
    {
     "data": {
      "text/plain": [
       "0"
      ]
     },
     "execution_count": 7,
     "metadata": {},
     "output_type": "execute_result"
    }
   ],
   "source": [
    "a"
   ]
  },
  {
   "cell_type": "code",
   "execution_count": 8,
   "id": "4e072225-ca67-42ee-ad90-c0cd1013c296",
   "metadata": {},
   "outputs": [
    {
     "name": "stdout",
     "output_type": "stream",
     "text": [
      "a = 2 b = 4 function: pow\n"
     ]
    },
    {
     "data": {
      "text/plain": [
       "16"
      ]
     },
     "execution_count": 8,
     "metadata": {},
     "output_type": "execute_result"
    }
   ],
   "source": [
    "b = 2\n",
    "a = 4\n",
    "oper(b, a)"
   ]
  },
  {
   "cell_type": "code",
   "execution_count": 9,
   "id": "bbbe31c7-49dc-4fa8-b0ea-c1bf0588a566",
   "metadata": {},
   "outputs": [
    {
     "name": "stdout",
     "output_type": "stream",
     "text": [
      "a = 4 b = 2 function: max\n"
     ]
    },
    {
     "data": {
      "text/plain": [
       "4"
      ]
     },
     "execution_count": 9,
     "metadata": {},
     "output_type": "execute_result"
    }
   ],
   "source": [
    "\n",
    "oper(a, b, max)"
   ]
  },
  {
   "cell_type": "code",
   "execution_count": 10,
   "id": "983d79d7-dfea-4a89-825b-7b6e0a0d3481",
   "metadata": {},
   "outputs": [
    {
     "data": {
      "text/plain": [
       "-8"
      ]
     },
     "execution_count": 10,
     "metadata": {},
     "output_type": "execute_result"
    }
   ],
   "source": [
    "abr = min\n",
    "abr(8, 5, 12, -8)"
   ]
  },
  {
   "cell_type": "code",
   "execution_count": 11,
   "id": "0856b0e7-a249-436c-9507-38a0c7556e59",
   "metadata": {},
   "outputs": [
    {
     "name": "stdout",
     "output_type": "stream",
     "text": [
      "6\n"
     ]
    }
   ],
   "source": [
    "c = 0\n",
    "\n",
    "def print_c():\n",
    "    print(c)\n",
    "\n",
    "def set_c():\n",
    "    globals()['c'] = 6\n",
    "    #print_c()\n",
    "\n",
    "set_c()\n",
    "print_c()\n"
   ]
  },
  {
   "cell_type": "code",
   "execution_count": 12,
   "id": "6f8f5ae3-b72f-4162-91c6-f6ec2806862b",
   "metadata": {},
   "outputs": [
    {
     "data": {
      "text/plain": [
       "6"
      ]
     },
     "execution_count": 12,
     "metadata": {},
     "output_type": "execute_result"
    }
   ],
   "source": [
    "c"
   ]
  },
  {
   "cell_type": "code",
   "execution_count": 13,
   "id": "7e89bf82-9afe-4e6d-ab9e-26ef1b147a66",
   "metadata": {},
   "outputs": [
    {
     "data": {
      "text/plain": [
       "'__main__'"
      ]
     },
     "execution_count": 13,
     "metadata": {},
     "output_type": "execute_result"
    }
   ],
   "source": [
    "globals()['__name__']"
   ]
  },
  {
   "cell_type": "code",
   "execution_count": 14,
   "id": "6bc33903-818d-4a29-8c73-97db7a4c464e",
   "metadata": {},
   "outputs": [
    {
     "name": "stdout",
     "output_type": "stream",
     "text": [
      "6\n"
     ]
    }
   ],
   "source": [
    "def set_c():\n",
    "    def print_c():\n",
    "        print(c)\n",
    "\n",
    "    c = 6\n",
    "    print_c()\n",
    "\n",
    "set_c()\n"
   ]
  },
  {
   "cell_type": "markdown",
   "id": "8cb6bbb9-5fff-4afb-af49-3b79323ab63e",
   "metadata": {},
   "source": [
    "У каждого модуля свой контекст. Переменные и функции, определённые в модуле, не видны, пока их не импортируют."
   ]
  },
  {
   "cell_type": "markdown",
   "id": "eb2b394d-4a79-4e03-9f65-77c3fc59fa5c",
   "metadata": {},
   "source": [
    "matplotlib.pyplot - набор функций"
   ]
  },
  {
   "cell_type": "code",
   "execution_count": 15,
   "id": "25224572-71db-4d19-ad5b-200b27bcdb0b",
   "metadata": {},
   "outputs": [
    {
     "ename": "NameError",
     "evalue": "name 'plt' is not defined",
     "output_type": "error",
     "traceback": [
      "\u001b[1;31m---------------------------------------------------------------------------\u001b[0m",
      "\u001b[1;31mNameError\u001b[0m                                 Traceback (most recent call last)",
      "Cell \u001b[1;32mIn[15], line 1\u001b[0m\n\u001b[1;32m----> 1\u001b[0m \u001b[43mplt\u001b[49m\u001b[38;5;241m.\u001b[39mplot([\u001b[38;5;241m1\u001b[39m, \u001b[38;5;241m2\u001b[39m], [\u001b[38;5;241m1\u001b[39m, \u001b[38;5;241m4\u001b[39m])\n\u001b[0;32m      2\u001b[0m plt\u001b[38;5;241m.\u001b[39mshow()\n",
      "\u001b[1;31mNameError\u001b[0m: name 'plt' is not defined"
     ]
    }
   ],
   "source": [
    "plt.plot([1, 2], [1, 4])\n",
    "plt.show()"
   ]
  },
  {
   "cell_type": "code",
   "execution_count": null,
   "id": "fa033cff-b5a2-497d-8a80-3aba29ff9700",
   "metadata": {},
   "outputs": [],
   "source": [
    "X = range(10) # список из чисел от 0 до 9\n",
    "y = [x*x for x in X] #                                     \n",
    "plt.plot(X, y)\n",
    "plt.xlabel('x')\n",
    "plt.ylabel('y=$x^2$')\n",
    "plt.show()"
   ]
  },
  {
   "cell_type": "code",
   "execution_count": null,
   "id": "4970ad88-66eb-4fbd-9896-ce95d9b17231",
   "metadata": {},
   "outputs": [],
   "source": [
    "plt.plot(X, y)"
   ]
  },
  {
   "cell_type": "code",
   "execution_count": null,
   "id": "78f0446a-3ed0-4d11-85c2-529c078ced74",
   "metadata": {},
   "outputs": [],
   "source": [
    "plt.plot(X, y, 'go--') # format, g - green, o - dots"
   ]
  },
  {
   "cell_type": "code",
   "execution_count": null,
   "id": "a578a6b9-0808-483a-96ff-04ec874d613e",
   "metadata": {},
   "outputs": [],
   "source": [
    "plt.plot(X, y, ':', color='grey', linewidth=2)\n",
    "plt.show()"
   ]
  },
  {
   "cell_type": "code",
   "execution_count": null,
   "id": "eb4f5445-f480-46bc-88e1-0861d4ca54b7",
   "metadata": {},
   "outputs": [],
   "source": [
    "import pandas as pd\n",
    "# Create x values\n",
    "x_values = range(-3, 4)  # Including -3 to 3\n",
    "\n",
    "# Create the DataFrame with x, x^2, and x^3\n",
    "df = pd.DataFrame({\n",
    "    'x': x_values,\n",
    "    'x^2': [x**2 for x in x_values],\n",
    "    'x^3': [x**3 for x in x_values]\n",
    "})\n",
    "plt.plot('x', 'x^3', data=df, label='$x^3$')\n",
    "plt.show()"
   ]
  },
  {
   "cell_type": "code",
   "execution_count": null,
   "id": "fd651ba5-a9b1-49e0-abcb-46c2d395fb65",
   "metadata": {},
   "outputs": [],
   "source": [
    "# Plot x, x^2, and x^3\n",
    "plt.figure(figsize=(8, 6))\n",
    "plt.plot(df['x'], df['x'], label='x', marker='o')\n",
    "plt.bar(df['x'], df['x^2'], label='$x^2$', facecolor=\"red\")\n",
    "plt.bar(df['x'], df['x^3'], label='$x^3$', fill=False)\n",
    "\n",
    "# Add labels and title\n",
    "plt.xlabel('x')\n",
    "plt.ylabel('Value')\n",
    "plt.title('Plot of x, $x^2$, and $x^3$')\n",
    "plt.axhline(0, color='black', linewidth=0.8, linestyle='--')\n",
    "plt.axvline(0, color='black', linewidth=0.8, linestyle='--')\n",
    "\n",
    "# Add legend\n",
    "plt.legend()\n",
    "\n",
    "# Show the plot\n",
    "plt.grid(True)\n",
    "plt.show()"
   ]
  },
  {
   "cell_type": "code",
   "execution_count": null,
   "id": "29214da9-1838-4f87-aaca-fa6c19c2b902",
   "metadata": {},
   "outputs": [],
   "source": [
    "import matplotlib.pyplot as plt\n",
    "import numpy as np\n",
    "\n",
    "from matplotlib.patches import Ellipse, Polygon\n",
    "\n",
    "x = np.arange(1, 5)\n",
    "y1 = np.arange(1, 5)\n",
    "y2 = np.ones(y1.shape) * 4\n",
    "\n",
    "fig = plt.figure()\n",
    "fig.suptitle('Mosaic plots')\n",
    "fig.patch.set_facecolor('xkcd:mint green')\n",
    "axs = fig.subplot_mosaic([['bar1', 'patches'], ['bar2', 'patches']])\n",
    "\n",
    "axs['bar1'].bar(x, y1, edgecolor='black', hatch=\"/\")\n",
    "axs['bar1'].bar(x, y2, bottom=y1, edgecolor='black', hatch='//')\n",
    "\n",
    "axs['bar2'].bar(x, y1, edgecolor='black', hatch=['--', '+', 'x', '\\\\'])\n",
    "axs['bar2'].bar(x, y2, bottom=y1, edgecolor='black',\n",
    "                hatch=['*', 'o', 'O', '.'])\n",
    "axs['bar2'].set_aspect(0.25)\n",
    "axs['bar2'].set_title('Bar 2')\n",
    "\n",
    "x = np.arange(0, 50, 0.2)\n",
    "axs['patches'].fill_between(x, np.sin(x) * 4 + 30, y2=0,\n",
    "                            hatch='///', zorder=2, fc='c')\n",
    "axs['patches'].add_patch(Ellipse((4, 50), 10, 10, fill=True,\n",
    "                                 hatch='*', facecolor='y'))\n",
    "axs['patches'].add_patch(Polygon([(10, 20), (30, 50), (50, 10)],\n",
    "                                 hatch='\\\\/...', facecolor='g'))\n",
    "axs['patches'].set_xlim([0, 40])\n",
    "axs['patches'].set_ylim([10, 60])\n",
    "axs['patches'].set_aspect(1)\n",
    "axs['patches'].set_xticklabels([])\n",
    "axs['patches'].set_yticklabels([])\n",
    "axs['patches'].set_xticks([])\n",
    "axs['patches'].set_yticks([])\n",
    "plt.show()"
   ]
  },
  {
   "cell_type": "code",
   "execution_count": null,
   "id": "f8f6440b-3260-495c-b56d-db861faf17fa",
   "metadata": {},
   "outputs": [],
   "source": []
  },
  {
   "cell_type": "code",
   "execution_count": null,
   "id": "b2a59824-6b3f-4a0a-b8f7-c31e7f4b8f3b",
   "metadata": {},
   "outputs": [],
   "source": []
  },
  {
   "cell_type": "code",
   "execution_count": null,
   "id": "1aea68ba-d645-43a6-b67c-db172c9d19d7",
   "metadata": {},
   "outputs": [],
   "source": []
  }
 ],
 "metadata": {
  "kernelspec": {
   "display_name": "Python 3 (ipykernel)",
   "language": "python",
   "name": "python3"
  },
  "language_info": {
   "codemirror_mode": {
    "name": "ipython",
    "version": 3
   },
   "file_extension": ".py",
   "mimetype": "text/x-python",
   "name": "python",
   "nbconvert_exporter": "python",
   "pygments_lexer": "ipython3",
   "version": "3.13.0"
  }
 },
 "nbformat": 4,
 "nbformat_minor": 5
}

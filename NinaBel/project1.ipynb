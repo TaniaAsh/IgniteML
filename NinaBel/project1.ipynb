{
 "cells": [
  {
   "cell_type": "markdown",
   "id": "f69ef3ac-6445-49eb-9e1e-6e7592a02066",
   "metadata": {},
   "source": [
    "# Python для Machine Learning\n",
    "\n",
    "Python - высокоуровневый язык. У него есть довольно простая основа, для которой уже написано множество библиотек, позволяющих решать разнообразные задачи, не изобретая велосипед заново. \n",
    "\n",
    "https://docs.python.org/3/library/functions.html - встроенные функции\n",
    "https://docs.python.org/3/library/stdtypes.html - встроенные типы\n",
    "\n",
    "\n",
    "## Модули\n",
    "\n",
    "Модуль - то, что можно импортировать. Целиком, или отдельными объектами.\n",
    "После импорта мы можем использовать это в своей программе, обращаясь по имени."
   ]
  },
  {
   "cell_type": "code",
   "execution_count": 2,
   "id": "223ba746-358d-44a0-81d9-3e0382c148a5",
   "metadata": {},
   "outputs": [
    {
     "ename": "NameError",
     "evalue": "name 'sqrt' is not defined",
     "output_type": "error",
     "traceback": [
      "\u001b[1;31m---------------------------------------------------------------------------\u001b[0m",
      "\u001b[1;31mNameError\u001b[0m                                 Traceback (most recent call last)",
      "Cell \u001b[1;32mIn[2], line 1\u001b[0m\n\u001b[1;32m----> 1\u001b[0m \u001b[43msqrt\u001b[49m(\u001b[38;5;241m4\u001b[39m)\n",
      "\u001b[1;31mNameError\u001b[0m: name 'sqrt' is not defined"
     ]
    }
   ],
   "source": [
    "sqrt(4)"
   ]
  },
  {
   "cell_type": "code",
   "execution_count": 3,
   "id": "df1b7baa-6bc4-499e-9ed9-24e21764049e",
   "metadata": {},
   "outputs": [
    {
     "data": {
      "text/plain": [
       "2.0"
      ]
     },
     "execution_count": 3,
     "metadata": {},
     "output_type": "execute_result"
    }
   ],
   "source": [
    "import math\n",
    "\n",
    "math.sqrt(4)"
   ]
  },
  {
   "cell_type": "code",
   "execution_count": 4,
   "id": "7a24a946-74e1-4574-b36c-1c387279aaad",
   "metadata": {},
   "outputs": [
    {
     "data": {
      "text/plain": [
       "3.0"
      ]
     },
     "execution_count": 4,
     "metadata": {},
     "output_type": "execute_result"
    }
   ],
   "source": [
    "from math import sqrt\n",
    "\n",
    "sqrt(9)"
   ]
  },
  {
   "attachments": {},
   "cell_type": "markdown",
   "id": "bdab9bcd-b847-4641-9523-93b7d21053cd",
   "metadata": {},
   "source": [
    "Есть вариант \n",
    "```\n",
    "from module import *\n",
    "```\n",
    "но его рекомендуется избегать."
   ]
  },
  {
   "cell_type": "code",
   "execution_count": 5,
   "id": "b3591d91-6e82-49fa-a1a4-822a24d70ec9",
   "metadata": {},
   "outputs": [
    {
     "data": {
      "text/plain": [
       "1000"
      ]
     },
     "execution_count": 5,
     "metadata": {},
     "output_type": "execute_result"
    }
   ],
   "source": [
    "pow(10,3)"
   ]
  },
  {
   "cell_type": "code",
   "execution_count": 6,
   "id": "5f36ab55-6ffa-4a89-bf3d-83edb86013a3",
   "metadata": {},
   "outputs": [
    {
     "data": {
      "text/plain": [
       "1000.0"
      ]
     },
     "execution_count": 6,
     "metadata": {},
     "output_type": "execute_result"
    }
   ],
   "source": [
    "math.pow(10,3)"
   ]
  },
  {
   "cell_type": "code",
   "execution_count": 7,
   "id": "84859f79-8951-4c95-a27f-01290d62ab3c",
   "metadata": {
    "scrolled": true
   },
   "outputs": [],
   "source": [
    "import matplotlib.pyplot as plt\n",
    "import numpy as np\n",
    "import pandas as pd\n",
    "from sklearn.linear_model import LinearRegression"
   ]
  },
  {
   "cell_type": "markdown",
   "id": "61222f08-774e-4dc1-9bab-76619a0f6872",
   "metadata": {},
   "source": [
    "## Функции\n",
    "\n",
    "Для получения новых значений можно использовать операторы, как в математике.\n",
    "В Python доступны такие:\n",
    "```\n",
    " == != < > <= >= := | ^ & << >> + - * @ / // % ~ ** [ ] ( ) { } .\n",
    "```\n",
    "\n",
    "Для действий, которые нельза записать операторами, используются функции.\n",
    "```\n",
    "f(a1, a2, ..., key1=v1, key2=v2, ...)\n",
    "```\n",
    "Функции возвращают значение. Но могут быть и функции, которые не возвращают значения, а что-то делают."
   ]
  },
  {
   "cell_type": "code",
   "execution_count": 8,
   "id": "00c2591e-4717-429a-91e8-0eb4570a51d2",
   "metadata": {},
   "outputs": [
    {
     "data": {
      "text/plain": [
       "7"
      ]
     },
     "execution_count": 8,
     "metadata": {},
     "output_type": "execute_result"
    }
   ],
   "source": [
    "len('Привет!')"
   ]
  },
  {
   "cell_type": "code",
   "execution_count": 9,
   "id": "922ce3c2-4af7-45a8-b9f2-1e206a881214",
   "metadata": {},
   "outputs": [
    {
     "name": "stdout",
     "output_type": "stream",
     "text": [
      "Привет!\n"
     ]
    }
   ],
   "source": [
    "print('Привет!')"
   ]
  },
  {
   "cell_type": "markdown",
   "id": "5089b756-8cb2-483a-8972-e6f596e51605",
   "metadata": {},
   "source": [
    "Имя функции может быть аргументом в другой функции."
   ]
  },
  {
   "cell_type": "code",
   "execution_count": 10,
   "id": "61d5da15-d463-4a23-9c9b-b4b6ec4a607e",
   "metadata": {},
   "outputs": [
    {
     "data": {
      "text/plain": [
       "'9'"
      ]
     },
     "execution_count": 10,
     "metadata": {},
     "output_type": "execute_result"
    }
   ],
   "source": [
    "max(\n",
    "    '1',\n",
    "    '200',\n",
    "    '9',\n",
    "    '35'\n",
    ")"
   ]
  },
  {
   "cell_type": "code",
   "execution_count": 11,
   "id": "57f824c8-9d3c-471c-b469-795be51ec143",
   "metadata": {},
   "outputs": [
    {
     "data": {
      "text/plain": [
       "'200'"
      ]
     },
     "execution_count": 11,
     "metadata": {},
     "output_type": "execute_result"
    }
   ],
   "source": [
    "max(\n",
    "    '1',\n",
    "    '200',\n",
    "    '9',\n",
    "    '35',\n",
    "    key=int\n",
    ")"
   ]
  },
  {
   "cell_type": "markdown",
   "id": "77501e1b-463c-48e8-bd5e-241e80d98616",
   "metadata": {},
   "source": [
    "## Объектно-ориентированное программирование\n",
    "\n",
    "Объект в программировании это то, у чего есть данные (значения, атрибуты, поля объекта) и поведение (методы объекта)."
   ]
  },
  {
   "cell_type": "markdown",
   "id": "749025b1-feaf-4d9f-8eaa-424860379a70",
   "metadata": {},
   "source": [
    "X - объект\n",
    "\n",
    "X.a - поле объекта\n",
    "\n",
    "X.new() - метод объекта"
   ]
  },
  {
   "cell_type": "markdown",
   "id": "b6f74cee-7f6e-45e6-a9ac-0564f5ff1a14",
   "metadata": {},
   "source": [
    "В Python всё, у чего есть имя - объект. Например, любая переменная - объект."
   ]
  },
  {
   "cell_type": "code",
   "execution_count": 12,
   "id": "c215c29c-5351-4373-9324-4bb8dbc0eea2",
   "metadata": {},
   "outputs": [
    {
     "data": {
      "text/plain": [
       "float"
      ]
     },
     "execution_count": 12,
     "metadata": {},
     "output_type": "execute_result"
    }
   ],
   "source": [
    "a = 5.0\n",
    "a.__class__"
   ]
  },
  {
   "cell_type": "code",
   "execution_count": 13,
   "id": "ce2c6a04-9d60-4349-b5d3-663afc67cb5c",
   "metadata": {},
   "outputs": [
    {
     "data": {
      "text/plain": [
       "True"
      ]
     },
     "execution_count": 13,
     "metadata": {},
     "output_type": "execute_result"
    }
   ],
   "source": [
    "a.is_integer()"
   ]
  },
  {
   "cell_type": "code",
   "execution_count": 14,
   "id": "fb1527a2-5b1b-40ad-94cc-4ced96b2ce09",
   "metadata": {},
   "outputs": [
    {
     "data": {
      "text/plain": [
       "builtin_function_or_method"
      ]
     },
     "execution_count": 14,
     "metadata": {},
     "output_type": "execute_result"
    }
   ],
   "source": [
    "max.__class__"
   ]
  },
  {
   "cell_type": "code",
   "execution_count": 15,
   "id": "e90f7b45-6405-4bd2-8a46-7634bbc9225d",
   "metadata": {},
   "outputs": [
    {
     "data": {
      "text/plain": [
       "99"
      ]
     },
     "execution_count": 15,
     "metadata": {},
     "output_type": "execute_result"
    }
   ],
   "source": [
    "max.__call__(6,1,99,12)"
   ]
  },
  {
   "cell_type": "markdown",
   "id": "0f58b455-eb87-494b-9a6f-c79837b351b1",
   "metadata": {},
   "source": [
    " Набор атрибутов (но не их значений) и методов может быть общим для объектов одного типа.\n",
    "\n",
    " Описание такой общности составляет класс."
   ]
  },
  {
   "cell_type": "markdown",
   "id": "2076baf2-66b2-4a47-91ca-e3a25e886bf3",
   "metadata": {},
   "source": [
    "## Pandas"
   ]
  },
  {
   "cell_type": "code",
   "execution_count": 16,
   "id": "131783c1-5b58-4219-9717-a347e5c0d84c",
   "metadata": {
    "scrolled": true
   },
   "outputs": [],
   "source": [
    "# Download and prepare the data\n",
    "df = pd.read_csv(\"kaggle_london_house_price_data.csv\")"
   ]
  },
  {
   "cell_type": "markdown",
   "id": "46aae5d4-af22-4ce6-b096-0bfac8d559aa",
   "metadata": {},
   "source": [
    "Метод ```pd.read_csv``` возвращает объект, который относится к классу *DataFrame* - табличное представление данных."
   ]
  },
  {
   "cell_type": "code",
   "execution_count": 17,
   "id": "a2ca78fa-0319-4f40-8dea-661bca80d970",
   "metadata": {},
   "outputs": [
    {
     "data": {
      "text/plain": [
       "pandas.core.frame.DataFrame"
      ]
     },
     "execution_count": 17,
     "metadata": {},
     "output_type": "execute_result"
    }
   ],
   "source": [
    "type(df)"
   ]
  },
  {
   "cell_type": "code",
   "execution_count": 18,
   "id": "755a11db-427e-4959-afa0-a22c2cb536cd",
   "metadata": {},
   "outputs": [
    {
     "data": {
      "text/html": [
       "<div>\n",
       "<style scoped>\n",
       "    .dataframe tbody tr th:only-of-type {\n",
       "        vertical-align: middle;\n",
       "    }\n",
       "\n",
       "    .dataframe tbody tr th {\n",
       "        vertical-align: top;\n",
       "    }\n",
       "\n",
       "    .dataframe thead th {\n",
       "        text-align: right;\n",
       "    }\n",
       "</style>\n",
       "<table border=\"1\" class=\"dataframe\">\n",
       "  <thead>\n",
       "    <tr style=\"text-align: right;\">\n",
       "      <th></th>\n",
       "      <th>fullAddress</th>\n",
       "      <th>postcode</th>\n",
       "      <th>country</th>\n",
       "      <th>outcode</th>\n",
       "      <th>latitude</th>\n",
       "      <th>longitude</th>\n",
       "      <th>bathrooms</th>\n",
       "      <th>bedrooms</th>\n",
       "      <th>floorAreaSqM</th>\n",
       "      <th>livingRooms</th>\n",
       "      <th>...</th>\n",
       "      <th>saleEstimate_upperPrice</th>\n",
       "      <th>saleEstimate_confidenceLevel</th>\n",
       "      <th>saleEstimate_ingestedAt</th>\n",
       "      <th>saleEstimate_valueChange.numericChange</th>\n",
       "      <th>saleEstimate_valueChange.percentageChange</th>\n",
       "      <th>saleEstimate_valueChange.saleDate</th>\n",
       "      <th>history_date</th>\n",
       "      <th>history_price</th>\n",
       "      <th>history_percentageChange</th>\n",
       "      <th>history_numericChange</th>\n",
       "    </tr>\n",
       "  </thead>\n",
       "  <tbody>\n",
       "    <tr>\n",
       "      <th>0</th>\n",
       "      <td>1 Guinness Court, Mansell Street, London, E1 8AB</td>\n",
       "      <td>E1 8AB</td>\n",
       "      <td>England</td>\n",
       "      <td>E1</td>\n",
       "      <td>51.512982</td>\n",
       "      <td>-0.073698</td>\n",
       "      <td>1.0</td>\n",
       "      <td>2.0</td>\n",
       "      <td>79.0</td>\n",
       "      <td>NaN</td>\n",
       "      <td>...</td>\n",
       "      <td>666000.0</td>\n",
       "      <td>LOW</td>\n",
       "      <td>2024-10-07T13:26:59.894Z</td>\n",
       "      <td>-29445000.0</td>\n",
       "      <td>-98.150000</td>\n",
       "      <td>2020-03-27</td>\n",
       "      <td>2020-03-27</td>\n",
       "      <td>30000000</td>\n",
       "      <td>NaN</td>\n",
       "      <td>NaN</td>\n",
       "    </tr>\n",
       "    <tr>\n",
       "      <th>1</th>\n",
       "      <td>306 Marlyn Lodge, 2 Portsoken Street, London, ...</td>\n",
       "      <td>E1 8RB</td>\n",
       "      <td>England</td>\n",
       "      <td>E1</td>\n",
       "      <td>51.511881</td>\n",
       "      <td>-0.073471</td>\n",
       "      <td>1.0</td>\n",
       "      <td>1.0</td>\n",
       "      <td>54.0</td>\n",
       "      <td>1.0</td>\n",
       "      <td>...</td>\n",
       "      <td>546000.0</td>\n",
       "      <td>MEDIUM</td>\n",
       "      <td>2024-10-07T13:26:59.894Z</td>\n",
       "      <td>46000.0</td>\n",
       "      <td>10.222222</td>\n",
       "      <td>2022-09-16</td>\n",
       "      <td>2022-09-16</td>\n",
       "      <td>450000</td>\n",
       "      <td>NaN</td>\n",
       "      <td>NaN</td>\n",
       "    </tr>\n",
       "    <tr>\n",
       "      <th>2</th>\n",
       "      <td>Flat 1, White Rose Court, Widegate Street, Lon...</td>\n",
       "      <td>E1 7ES</td>\n",
       "      <td>England</td>\n",
       "      <td>E1</td>\n",
       "      <td>51.517972</td>\n",
       "      <td>-0.078028</td>\n",
       "      <td>2.0</td>\n",
       "      <td>2.0</td>\n",
       "      <td>73.0</td>\n",
       "      <td>1.0</td>\n",
       "      <td>...</td>\n",
       "      <td>684000.0</td>\n",
       "      <td>HIGH</td>\n",
       "      <td>2024-10-07T13:26:59.894Z</td>\n",
       "      <td>28000.0</td>\n",
       "      <td>4.494382</td>\n",
       "      <td>2023-10-31</td>\n",
       "      <td>2023-10-31</td>\n",
       "      <td>623000</td>\n",
       "      <td>3.833333</td>\n",
       "      <td>23000.0</td>\n",
       "    </tr>\n",
       "    <tr>\n",
       "      <th>3</th>\n",
       "      <td>Flat 1, White Rose Court, Widegate Street, Lon...</td>\n",
       "      <td>E1 7ES</td>\n",
       "      <td>England</td>\n",
       "      <td>E1</td>\n",
       "      <td>51.517972</td>\n",
       "      <td>-0.078028</td>\n",
       "      <td>2.0</td>\n",
       "      <td>2.0</td>\n",
       "      <td>73.0</td>\n",
       "      <td>1.0</td>\n",
       "      <td>...</td>\n",
       "      <td>684000.0</td>\n",
       "      <td>HIGH</td>\n",
       "      <td>2024-10-07T13:26:59.894Z</td>\n",
       "      <td>28000.0</td>\n",
       "      <td>4.494382</td>\n",
       "      <td>2023-10-31</td>\n",
       "      <td>2016-03-23</td>\n",
       "      <td>600000</td>\n",
       "      <td>155.319149</td>\n",
       "      <td>365000.0</td>\n",
       "    </tr>\n",
       "    <tr>\n",
       "      <th>4</th>\n",
       "      <td>Flat 1, White Rose Court, Widegate Street, Lon...</td>\n",
       "      <td>E1 7ES</td>\n",
       "      <td>England</td>\n",
       "      <td>E1</td>\n",
       "      <td>51.517972</td>\n",
       "      <td>-0.078028</td>\n",
       "      <td>2.0</td>\n",
       "      <td>2.0</td>\n",
       "      <td>73.0</td>\n",
       "      <td>1.0</td>\n",
       "      <td>...</td>\n",
       "      <td>684000.0</td>\n",
       "      <td>HIGH</td>\n",
       "      <td>2024-10-07T13:26:59.894Z</td>\n",
       "      <td>28000.0</td>\n",
       "      <td>4.494382</td>\n",
       "      <td>2023-10-31</td>\n",
       "      <td>2005-11-28</td>\n",
       "      <td>235000</td>\n",
       "      <td>181.437126</td>\n",
       "      <td>151500.0</td>\n",
       "    </tr>\n",
       "  </tbody>\n",
       "</table>\n",
       "<p>5 rows × 28 columns</p>\n",
       "</div>"
      ],
      "text/plain": [
       "                                         fullAddress postcode  country  \\\n",
       "0   1 Guinness Court, Mansell Street, London, E1 8AB   E1 8AB  England   \n",
       "1  306 Marlyn Lodge, 2 Portsoken Street, London, ...   E1 8RB  England   \n",
       "2  Flat 1, White Rose Court, Widegate Street, Lon...   E1 7ES  England   \n",
       "3  Flat 1, White Rose Court, Widegate Street, Lon...   E1 7ES  England   \n",
       "4  Flat 1, White Rose Court, Widegate Street, Lon...   E1 7ES  England   \n",
       "\n",
       "  outcode   latitude  longitude  bathrooms  bedrooms  floorAreaSqM  \\\n",
       "0      E1  51.512982  -0.073698        1.0       2.0          79.0   \n",
       "1      E1  51.511881  -0.073471        1.0       1.0          54.0   \n",
       "2      E1  51.517972  -0.078028        2.0       2.0          73.0   \n",
       "3      E1  51.517972  -0.078028        2.0       2.0          73.0   \n",
       "4      E1  51.517972  -0.078028        2.0       2.0          73.0   \n",
       "\n",
       "   livingRooms  ... saleEstimate_upperPrice saleEstimate_confidenceLevel  \\\n",
       "0          NaN  ...                666000.0                          LOW   \n",
       "1          1.0  ...                546000.0                       MEDIUM   \n",
       "2          1.0  ...                684000.0                         HIGH   \n",
       "3          1.0  ...                684000.0                         HIGH   \n",
       "4          1.0  ...                684000.0                         HIGH   \n",
       "\n",
       "    saleEstimate_ingestedAt  saleEstimate_valueChange.numericChange  \\\n",
       "0  2024-10-07T13:26:59.894Z                             -29445000.0   \n",
       "1  2024-10-07T13:26:59.894Z                                 46000.0   \n",
       "2  2024-10-07T13:26:59.894Z                                 28000.0   \n",
       "3  2024-10-07T13:26:59.894Z                                 28000.0   \n",
       "4  2024-10-07T13:26:59.894Z                                 28000.0   \n",
       "\n",
       "   saleEstimate_valueChange.percentageChange  \\\n",
       "0                                 -98.150000   \n",
       "1                                  10.222222   \n",
       "2                                   4.494382   \n",
       "3                                   4.494382   \n",
       "4                                   4.494382   \n",
       "\n",
       "   saleEstimate_valueChange.saleDate  history_date  history_price  \\\n",
       "0                         2020-03-27    2020-03-27       30000000   \n",
       "1                         2022-09-16    2022-09-16         450000   \n",
       "2                         2023-10-31    2023-10-31         623000   \n",
       "3                         2023-10-31    2016-03-23         600000   \n",
       "4                         2023-10-31    2005-11-28         235000   \n",
       "\n",
       "   history_percentageChange history_numericChange  \n",
       "0                       NaN                   NaN  \n",
       "1                       NaN                   NaN  \n",
       "2                  3.833333               23000.0  \n",
       "3                155.319149              365000.0  \n",
       "4                181.437126              151500.0  \n",
       "\n",
       "[5 rows x 28 columns]"
      ]
     },
     "execution_count": 18,
     "metadata": {},
     "output_type": "execute_result"
    }
   ],
   "source": [
    "df.head()"
   ]
  },
  {
   "cell_type": "code",
   "execution_count": 19,
   "id": "4d0bae4a-6e42-4265-b778-a59898568824",
   "metadata": {},
   "outputs": [
    {
     "data": {
      "text/plain": [
       "Index(['fullAddress', 'postcode', 'country', 'outcode', 'latitude',\n",
       "       'longitude', 'bathrooms', 'bedrooms', 'floorAreaSqM', 'livingRooms',\n",
       "       'tenure', 'propertyType', 'currentEnergyRating',\n",
       "       'rentEstimate_lowerPrice', 'rentEstimate_currentPrice',\n",
       "       'rentEstimate_upperPrice', 'saleEstimate_lowerPrice',\n",
       "       'saleEstimate_currentPrice', 'saleEstimate_upperPrice',\n",
       "       'saleEstimate_confidenceLevel', 'saleEstimate_ingestedAt',\n",
       "       'saleEstimate_valueChange.numericChange',\n",
       "       'saleEstimate_valueChange.percentageChange',\n",
       "       'saleEstimate_valueChange.saleDate', 'history_date', 'history_price',\n",
       "       'history_percentageChange', 'history_numericChange'],\n",
       "      dtype='object')"
      ]
     },
     "execution_count": 19,
     "metadata": {},
     "output_type": "execute_result"
    }
   ],
   "source": [
    "df.columns"
   ]
  },
  {
   "cell_type": "code",
   "execution_count": 20,
   "id": "c2713f47-79db-4fd0-aad5-6ed700c8d155",
   "metadata": {},
   "outputs": [
    {
     "data": {
      "text/plain": [
       "RangeIndex(start=0, stop=282872, step=1)"
      ]
     },
     "execution_count": 20,
     "metadata": {},
     "output_type": "execute_result"
    }
   ],
   "source": [
    "df.index"
   ]
  },
  {
   "cell_type": "code",
   "execution_count": 21,
   "id": "b8bd357c-2cb1-4e8b-aa5a-92a6146f7f33",
   "metadata": {},
   "outputs": [
    {
     "data": {
      "text/plain": [
       "282872"
      ]
     },
     "execution_count": 21,
     "metadata": {},
     "output_type": "execute_result"
    }
   ],
   "source": [
    "len(df)"
   ]
  },
  {
   "cell_type": "code",
   "execution_count": 22,
   "id": "0e9493cb-961d-42f1-b994-5faaa0314c49",
   "metadata": {},
   "outputs": [
    {
     "data": {
      "text/plain": [
       "0          1 Guinness Court, Mansell Street, London, E1 8AB\n",
       "1         306 Marlyn Lodge, 2 Portsoken Street, London, ...\n",
       "2         Flat 1, White Rose Court, Widegate Street, Lon...\n",
       "3         Flat 1, White Rose Court, Widegate Street, Lon...\n",
       "4         Flat 1, White Rose Court, Widegate Street, Lon...\n",
       "                                ...                        \n",
       "282867    Apartment 93, Gladstone House, 190 Strand, Lon...\n",
       "282868    Apartment 94, Gladstone House, 190 Strand, Lon...\n",
       "282869    Apartment 95, Gladstone House, 190 Strand, Lon...\n",
       "282870                   9 Arundel Street, London, WC2R 3DX\n",
       "282871                  11 Arundel Street, London, WC2R 3DX\n",
       "Name: fullAddress, Length: 282872, dtype: object"
      ]
     },
     "execution_count": 22,
     "metadata": {},
     "output_type": "execute_result"
    }
   ],
   "source": [
    "df['fullAddress']"
   ]
  },
  {
   "cell_type": "code",
   "execution_count": 23,
   "id": "4a6e2347-ed2b-45de-b3ad-981105f32e5e",
   "metadata": {},
   "outputs": [
    {
     "data": {
      "text/plain": [
       "fullAddress                                  Flat 12, Odeon Court, 5 Chicksand Street, Lond...\n",
       "postcode                                                                                E1 5LB\n",
       "country                                                                                England\n",
       "outcode                                                                                     E1\n",
       "latitude                                                                             51.518355\n",
       "longitude                                                                            -0.070718\n",
       "bathrooms                                                                                  1.0\n",
       "bedrooms                                                                                   2.0\n",
       "floorAreaSqM                                                                              64.0\n",
       "livingRooms                                                                                1.0\n",
       "tenure                                                                               Leasehold\n",
       "propertyType                                                                Purpose Built Flat\n",
       "currentEnergyRating                                                                          B\n",
       "rentEstimate_lowerPrice                                                                 2150.0\n",
       "rentEstimate_currentPrice                                                               2350.0\n",
       "rentEstimate_upperPrice                                                                 2550.0\n",
       "saleEstimate_lowerPrice                                                               480000.0\n",
       "saleEstimate_currentPrice                                                             505000.0\n",
       "saleEstimate_upperPrice                                                               530000.0\n",
       "saleEstimate_confidenceLevel                                                              HIGH\n",
       "saleEstimate_ingestedAt                                               2024-10-07T13:26:59.894Z\n",
       "saleEstimate_valueChange.numericChange                                                 25000.0\n",
       "saleEstimate_valueChange.percentageChange                                             5.208333\n",
       "saleEstimate_valueChange.saleDate                                                   2024-05-03\n",
       "history_date                                                                        1998-11-26\n",
       "history_price                                                                           126000\n",
       "history_percentageChange                                                             59.898477\n",
       "history_numericChange                                                                  47200.0\n",
       "Name: 50, dtype: object"
      ]
     },
     "execution_count": 23,
     "metadata": {},
     "output_type": "execute_result"
    }
   ],
   "source": [
    "df.loc[50]"
   ]
  },
  {
   "cell_type": "code",
   "execution_count": 24,
   "id": "e4dc95e4-295b-429b-8297-752e3cef6e0d",
   "metadata": {},
   "outputs": [
    {
     "data": {
      "text/plain": [
       "'1998-11-26'"
      ]
     },
     "execution_count": 24,
     "metadata": {},
     "output_type": "execute_result"
    }
   ],
   "source": [
    "df.at[50,'history_date']"
   ]
  },
  {
   "cell_type": "code",
   "execution_count": 25,
   "id": "41d2c942-35bf-43d2-b565-c1132c4ff54d",
   "metadata": {},
   "outputs": [
    {
     "data": {
      "text/plain": [
       "dtype('O')"
      ]
     },
     "execution_count": 25,
     "metadata": {},
     "output_type": "execute_result"
    }
   ],
   "source": [
    "df.history_date.dtype"
   ]
  },
  {
   "cell_type": "code",
   "execution_count": 38,
   "id": "12661262-623f-43ac-93c8-37d4ae8dda4b",
   "metadata": {},
   "outputs": [
    {
     "data": {
      "text/plain": [
       "0        2020-03-27\n",
       "1        2022-09-16\n",
       "2        2023-10-31\n",
       "3        2016-03-23\n",
       "4        2005-11-28\n",
       "            ...    \n",
       "282867   2017-06-02\n",
       "282868   2017-09-20\n",
       "282869   2017-04-12\n",
       "282870   2018-01-16\n",
       "282871   2018-01-16\n",
       "Name: history_date, Length: 282872, dtype: datetime64[ns]"
      ]
     },
     "execution_count": 38,
     "metadata": {},
     "output_type": "execute_result"
    }
   ],
   "source": [
    "df['history_date'] = pd.to_datetime(df['history_date'])\n",
    "df['history_date']"
   ]
  },
  {
   "cell_type": "code",
   "execution_count": 31,
   "id": "d87c83dc-3325-4844-bced-1ecd57e9c746",
   "metadata": {},
   "outputs": [],
   "source": [
    "df['bedrooms'] = df['bedrooms'].astype('int64', errors='ignore')"
   ]
  },
  {
   "cell_type": "code",
   "execution_count": 43,
   "id": "2e2af24f-6f0f-4241-b30a-aba2a4d553b7",
   "metadata": {},
   "outputs": [],
   "source": [
    "# Drop rows with missing values\n",
    "df1 = df.dropna(subset=['floorAreaSqM', 'bedrooms', 'saleEstimate_currentPrice']).copy()"
   ]
  },
  {
   "cell_type": "code",
   "execution_count": 44,
   "id": "12676a3e-1491-43fb-8e22-b5c1251181b0",
   "metadata": {},
   "outputs": [
    {
     "data": {
      "text/plain": [
       "(np.float64(1.75), np.float64(500.0))"
      ]
     },
     "execution_count": 44,
     "metadata": {},
     "output_type": "execute_result"
    }
   ],
   "source": [
    "df1['room_square'] = df1['floorAreaSqM'] / df1['bedrooms']\n",
    "df1['room_square'].min(), df1['room_square'].max()"
   ]
  },
  {
   "cell_type": "code",
   "execution_count": 46,
   "id": "0a0d6ab3-5fb7-417c-b3d3-929dfb40b0ad",
   "metadata": {},
   "outputs": [
    {
     "data": {
      "text/plain": [
       "np.float64(8406.315783659444)"
      ]
     },
     "execution_count": 46,
     "metadata": {},
     "output_type": "execute_result"
    }
   ],
   "source": [
    "df1 = df1[df1['room_square']>5]\n",
    "(df1['saleEstimate_currentPrice']/df1['floorAreaSqM']).mean()"
   ]
  },
  {
   "cell_type": "code",
   "execution_count": 47,
   "id": "590de5c4-708c-4550-90c7-9194703c82cb",
   "metadata": {},
   "outputs": [
    {
     "data": {
      "text/html": [
       "<div>\n",
       "<style scoped>\n",
       "    .dataframe tbody tr th:only-of-type {\n",
       "        vertical-align: middle;\n",
       "    }\n",
       "\n",
       "    .dataframe tbody tr th {\n",
       "        vertical-align: top;\n",
       "    }\n",
       "\n",
       "    .dataframe thead th {\n",
       "        text-align: right;\n",
       "    }\n",
       "</style>\n",
       "<table border=\"1\" class=\"dataframe\">\n",
       "  <thead>\n",
       "    <tr style=\"text-align: right;\">\n",
       "      <th></th>\n",
       "      <th></th>\n",
       "      <th>saleEstimate_lowerPrice</th>\n",
       "      <th>saleEstimate_currentPrice</th>\n",
       "      <th>saleEstimate_upperPrice</th>\n",
       "    </tr>\n",
       "    <tr>\n",
       "      <th>propertyType</th>\n",
       "      <th>currentEnergyRating</th>\n",
       "      <th></th>\n",
       "      <th></th>\n",
       "      <th></th>\n",
       "    </tr>\n",
       "  </thead>\n",
       "  <tbody>\n",
       "    <tr>\n",
       "      <th rowspan=\"5\" valign=\"top\">Bungalow Property</th>\n",
       "      <th>B</th>\n",
       "      <td>648000.0</td>\n",
       "      <td>7.523333e+05</td>\n",
       "      <td>972000.0</td>\n",
       "    </tr>\n",
       "    <tr>\n",
       "      <th>C</th>\n",
       "      <td>287000.0</td>\n",
       "      <td>6.911458e+05</td>\n",
       "      <td>1261000.0</td>\n",
       "    </tr>\n",
       "    <tr>\n",
       "      <th>D</th>\n",
       "      <td>282000.0</td>\n",
       "      <td>7.276319e+05</td>\n",
       "      <td>3890000.0</td>\n",
       "    </tr>\n",
       "    <tr>\n",
       "      <th>E</th>\n",
       "      <td>325000.0</td>\n",
       "      <td>6.945854e+05</td>\n",
       "      <td>2192000.0</td>\n",
       "    </tr>\n",
       "    <tr>\n",
       "      <th>F</th>\n",
       "      <td>797000.0</td>\n",
       "      <td>1.643750e+06</td>\n",
       "      <td>2700000.0</td>\n",
       "    </tr>\n",
       "    <tr>\n",
       "      <th>...</th>\n",
       "      <th>...</th>\n",
       "      <td>...</td>\n",
       "      <td>...</td>\n",
       "      <td>...</td>\n",
       "    </tr>\n",
       "    <tr>\n",
       "      <th rowspan=\"2\" valign=\"top\">Terraced</th>\n",
       "      <th>F</th>\n",
       "      <td>350000.0</td>\n",
       "      <td>1.011238e+06</td>\n",
       "      <td>2391000.0</td>\n",
       "    </tr>\n",
       "    <tr>\n",
       "      <th>G</th>\n",
       "      <td>365000.0</td>\n",
       "      <td>1.278692e+06</td>\n",
       "      <td>4580000.0</td>\n",
       "    </tr>\n",
       "    <tr>\n",
       "      <th rowspan=\"3\" valign=\"top\">Terraced Bungalow</th>\n",
       "      <th>C</th>\n",
       "      <td>575000.0</td>\n",
       "      <td>7.625000e+05</td>\n",
       "      <td>975000.0</td>\n",
       "    </tr>\n",
       "    <tr>\n",
       "      <th>D</th>\n",
       "      <td>345000.0</td>\n",
       "      <td>7.553571e+05</td>\n",
       "      <td>1164000.0</td>\n",
       "    </tr>\n",
       "    <tr>\n",
       "      <th>E</th>\n",
       "      <td>653000.0</td>\n",
       "      <td>8.898333e+05</td>\n",
       "      <td>1474000.0</td>\n",
       "    </tr>\n",
       "  </tbody>\n",
       "</table>\n",
       "<p>111 rows × 3 columns</p>\n",
       "</div>"
      ],
      "text/plain": [
       "                                       saleEstimate_lowerPrice  \\\n",
       "propertyType      currentEnergyRating                            \n",
       "Bungalow Property B                                   648000.0   \n",
       "                  C                                   287000.0   \n",
       "                  D                                   282000.0   \n",
       "                  E                                   325000.0   \n",
       "                  F                                   797000.0   \n",
       "...                                                        ...   \n",
       "Terraced          F                                   350000.0   \n",
       "                  G                                   365000.0   \n",
       "Terraced Bungalow C                                   575000.0   \n",
       "                  D                                   345000.0   \n",
       "                  E                                   653000.0   \n",
       "\n",
       "                                       saleEstimate_currentPrice  \\\n",
       "propertyType      currentEnergyRating                              \n",
       "Bungalow Property B                                 7.523333e+05   \n",
       "                  C                                 6.911458e+05   \n",
       "                  D                                 7.276319e+05   \n",
       "                  E                                 6.945854e+05   \n",
       "                  F                                 1.643750e+06   \n",
       "...                                                          ...   \n",
       "Terraced          F                                 1.011238e+06   \n",
       "                  G                                 1.278692e+06   \n",
       "Terraced Bungalow C                                 7.625000e+05   \n",
       "                  D                                 7.553571e+05   \n",
       "                  E                                 8.898333e+05   \n",
       "\n",
       "                                       saleEstimate_upperPrice  \n",
       "propertyType      currentEnergyRating                           \n",
       "Bungalow Property B                                   972000.0  \n",
       "                  C                                  1261000.0  \n",
       "                  D                                  3890000.0  \n",
       "                  E                                  2192000.0  \n",
       "                  F                                  2700000.0  \n",
       "...                                                        ...  \n",
       "Terraced          F                                  2391000.0  \n",
       "                  G                                  4580000.0  \n",
       "Terraced Bungalow C                                   975000.0  \n",
       "                  D                                  1164000.0  \n",
       "                  E                                  1474000.0  \n",
       "\n",
       "[111 rows x 3 columns]"
      ]
     },
     "execution_count": 47,
     "metadata": {},
     "output_type": "execute_result"
    }
   ],
   "source": [
    "gr = df.groupby(['propertyType', 'currentEnergyRating'])\n",
    "gr.agg({\n",
    "    'saleEstimate_lowerPrice': 'min',\n",
    "    'saleEstimate_currentPrice': 'mean', \n",
    "    'saleEstimate_upperPrice': 'max'\n",
    "})"
   ]
  },
  {
   "cell_type": "code",
   "execution_count": 48,
   "id": "2897ad1b-abc2-4e4b-91d3-fabc16147221",
   "metadata": {
    "scrolled": true
   },
   "outputs": [
    {
     "data": {
      "image/png": "[encoded data removed]",
      "text/plain": [
       "<Figure size 640x480 with 1 Axes>"
      ]
     },
     "metadata": {},
     "output_type": "display_data"
    },
    {
     "name": "stdout",
     "output_type": "stream",
     "text": [
      "[[557705.73146035]]\n"
     ]
    }
   ],
   "source": [
    "X = df1[[\"floorAreaSqM\"]].values\n",
    "y = df1[[\"saleEstimate_currentPrice\"]].values\n",
    "# Visualize the data\n",
    "df1.plot(kind='scatter', grid=True,\n",
    " x=\"floorAreaSqM\", y=\"saleEstimate_currentPrice\")\n",
    "plt.axis([0, 510, 0, 15000000])\n",
    "plt.show()\n",
    "# Select a linear model\n",
    "model = LinearRegression()\n",
    "# Train the model\n",
    "model.fit(X, y)\n",
    "# Make a prediction for Cyprus\n",
    "X_new = [[72.5]] # \n",
    "print(model.predict(X_new)) "
   ]
  }
 ],
 "metadata": {
  "kernelspec": {
   "display_name": "Python 3 (ipykernel)",
   "language": "python",
   "name": "python3"
  },
  "language_info": {
   "codemirror_mode": {
    "name": "ipython",
    "version": 3
   },
   "file_extension": ".py",
   "mimetype": "text/x-python",
   "name": "python",
   "nbconvert_exporter": "python",
   "pygments_lexer": "ipython3",
   "version": "3.13.0"
  }
 },
 "nbformat": 4,
 "nbformat_minor": 5
}

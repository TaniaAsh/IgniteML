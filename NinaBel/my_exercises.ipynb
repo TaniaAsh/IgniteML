{
 "cells": [
  {
   "cell_type": "markdown",
   "id": "d72f5c54-a7b7-4229-a0db-fdf28065b1bb",
   "metadata": {},
   "source": [
    "# Тренировочные задачи"
   ]
  },
  {
   "cell_type": "markdown",
   "id": "2076e9f7-49a8-4cc1-b490-25f0edeb48cc",
   "metadata": {},
   "source": [
    "1. Напиши функцию **print_N_krat**, которая принимает в качестве аргументов строку и число N и печатает полученную строку N раз через пробел.\n",
    "   \n",
    "   *Подсказка:* строки можно складывать и умножать на число"
   ]
  },
  {
   "cell_type": "code",
   "execution_count": 2,
   "id": "b85b7afa-8f99-46da-b7b2-dd2835eeb75c",
   "metadata": {},
   "outputs": [],
   "source": [
    "def print_N_krat(s, N):\n",
    "    print(N * (s + ' '))"
   ]
  },
  {
   "cell_type": "code",
   "execution_count": 3,
   "id": "a9a7efbf-7507-4bb2-9e75-526bfa234771",
   "metadata": {},
   "outputs": [
    {
     "name": "stdout",
     "output_type": "stream",
     "text": [
      "ужас ужас ужас \n"
     ]
    }
   ],
   "source": [
    "print_N_krat(\"ужас\", 3)"
   ]
  },
  {
   "cell_type": "markdown",
   "id": "a2c3548d-92c9-4b28-af42-9e0e71cf701c",
   "metadata": {},
   "source": [
    "2. Напиши функцию **delimost**, которая принимает в качестве аргументов два числа и определяет, делится ли первое число на второе нацело.\n",
    "\n",
    "   *Подсказка:* в Python есть три оператора деления:\n",
    "   - **/** просто деление\n",
    "   - **//** деление нацело\n",
    "   - **%** остаток от деления нацело"
   ]
  },
  {
   "cell_type": "code",
   "execution_count": 4,
   "id": "7cb07eb6-149f-4a33-b434-2871bebe24d6",
   "metadata": {},
   "outputs": [],
   "source": [
    "def delimost(a, b = 3):\n",
    "    return (a % b == 0)"
   ]
  },
  {
   "cell_type": "code",
   "execution_count": 32,
   "id": "c8c1f2ff-baee-4237-bb94-f9374eb29766",
   "metadata": {},
   "outputs": [
    {
     "data": {
      "text/plain": [
       "True"
      ]
     },
     "execution_count": 32,
     "metadata": {},
     "output_type": "execute_result"
    }
   ],
   "source": [
    "delimost(6795,b=9)"
   ]
  },
  {
   "cell_type": "code",
   "execution_count": 31,
   "id": "2a3eeeb3-4ee4-4709-9d57-1891677070d0",
   "metadata": {},
   "outputs": [
    {
     "data": {
      "text/plain": [
       "False"
      ]
     },
     "execution_count": 31,
     "metadata": {},
     "output_type": "execute_result"
    }
   ],
   "source": [
    "delimost(303,17)"
   ]
  },
  {
   "cell_type": "markdown",
   "id": "dac077e7-e59e-43d6-9b30-93a53930dac1",
   "metadata": {},
   "source": [
    "Измени эту функцию, чтобы по умолчанию она проверяла деление на 3."
   ]
  },
  {
   "cell_type": "code",
   "execution_count": 33,
   "id": "210a002d-b57f-4d28-ba7e-31d5ddbd3be9",
   "metadata": {},
   "outputs": [
    {
     "ename": "TypeError",
     "evalue": "delimost() missing 1 required positional argument: 'a'",
     "output_type": "error",
     "traceback": [
      "\u001b[1;31m---------------------------------------------------------------------------\u001b[0m",
      "\u001b[1;31mTypeError\u001b[0m                                 Traceback (most recent call last)",
      "Cell \u001b[1;32mIn[33], line 1\u001b[0m\n\u001b[1;32m----> 1\u001b[0m \u001b[43mdelimost\u001b[49m\u001b[43m(\u001b[49m\u001b[43m)\u001b[49m\n",
      "\u001b[1;31mTypeError\u001b[0m: delimost() missing 1 required positional argument: 'a'"
     ]
    }
   ],
   "source": [
    "delimost()"
   ]
  },
  {
   "cell_type": "code",
   "execution_count": null,
   "id": "0910bcda-6868-4a0c-bf76-918406ed8163",
   "metadata": {},
   "outputs": [],
   "source": []
  },
  {
   "cell_type": "markdown",
   "id": "b9491b82-c07a-4028-bdb9-83ae3146603e",
   "metadata": {},
   "source": [
    "3. Напиши функцию **root_number**, которая получает аргументы числа a, b, c и возвращает количество корней уравнения ax<sup>2</sup> + bx + c."
   ]
  },
  {
   "cell_type": "code",
   "execution_count": 12,
   "id": "c2622986-67dc-45ae-8dbe-e229d698e0a2",
   "metadata": {},
   "outputs": [],
   "source": [
    "def root_number(a, b, c):\n",
    "    d = b*b - 4*a*c\n",
    "    if d==0: \n",
    "        return 1\n",
    "    if d>0: \n",
    "        return 2\n",
    "    return 0"
   ]
  },
  {
   "cell_type": "code",
   "execution_count": 13,
   "id": "417c6042-313c-4029-8266-6ae906ed3917",
   "metadata": {},
   "outputs": [
    {
     "data": {
      "text/plain": [
       "1"
      ]
     },
     "execution_count": 13,
     "metadata": {},
     "output_type": "execute_result"
    }
   ],
   "source": [
    "root_number(a=1, b=-2, c=1)"
   ]
  },
  {
   "cell_type": "code",
   "execution_count": 14,
   "id": "31170d0b-de9b-44b5-bc89-5c2f20785d59",
   "metadata": {},
   "outputs": [
    {
     "data": {
      "text/plain": [
       "0"
      ]
     },
     "execution_count": 14,
     "metadata": {},
     "output_type": "execute_result"
    }
   ],
   "source": [
    "root_number(a=2, b=1, c=10)"
   ]
  },
  {
   "cell_type": "code",
   "execution_count": 15,
   "id": "83e59fc0-9078-48a3-bacf-0094be6c670a",
   "metadata": {},
   "outputs": [
    {
     "data": {
      "text/plain": [
       "2"
      ]
     },
     "execution_count": 15,
     "metadata": {},
     "output_type": "execute_result"
    }
   ],
   "source": [
    "root_number(a=1, b=3, c=-2)"
   ]
  },
  {
   "cell_type": "markdown",
   "id": "fa928229-3191-4ef0-9e49-ea408dbd5a1e",
   "metadata": {},
   "source": [
    "4. Напиши функцию **factorial**, которая вычисляет факториал заданного числа."
   ]
  },
  {
   "cell_type": "code",
   "execution_count": 34,
   "id": "041cb67b-67ec-4469-937c-13c855735b74",
   "metadata": {},
   "outputs": [],
   "source": [
    "def factorial(n):\n",
    "    f = 1\n",
    "    for i in range(1, n+1):\n",
    "        f = f * i\n",
    "    return f\n",
    "\n",
    "def factorial_rec(n):\n",
    "    if n==1:\n",
    "        return 1\n",
    "    return n*factorial_rec(n-1)"
   ]
  },
  {
   "cell_type": "code",
   "execution_count": 35,
   "id": "31bd9ee3-6b87-4052-a4c8-3259575cf841",
   "metadata": {},
   "outputs": [
    {
     "name": "stdout",
     "output_type": "stream",
     "text": [
      "5! = 120\n"
     ]
    }
   ],
   "source": [
    "print('5! =', factorial_rec(5))"
   ]
  },
  {
   "cell_type": "code",
   "execution_count": 20,
   "id": "8f660785-a519-4fa0-ac2b-c0e084e07db0",
   "metadata": {},
   "outputs": [
    {
     "name": "stdout",
     "output_type": "stream",
     "text": [
      "1! = 1\n"
     ]
    }
   ],
   "source": [
    "print('1! =', factorial(1))"
   ]
  },
  {
   "cell_type": "markdown",
   "id": "7a7f4861-eec7-48ef-ac1d-2c585a5d6cc7",
   "metadata": {},
   "source": [
    "5.  Напиши функцию **statistics**, которая принимает в качестве аргументов имя функции и список чисел, печатает описание функции по-русски и возвращает результат применения соответствующей функции из модуля numpy к списку. Выбери несколько функций и составь для них словарь. Если имени функции нет в твоём словаре, программа должна что-то сказать об этом.\n",
    "      *Подсказка:* `<имя_модуля>.__dict__` - словарь всех элементов (в том числе функций), импортированных вместе с модулем."
   ]
  },
  {
   "cell_type": "code",
   "execution_count": 41,
   "id": "8eb88a83-0c4e-488c-b0d8-71a1ed1d0bd0",
   "metadata": {},
   "outputs": [
    {
     "name": "stdout",
     "output_type": "stream",
     "text": [
      "0.023913569579132488\n"
     ]
    },
    {
     "data": {
      "text/plain": [
       "array([0.81964974, 0.66017765, 0.4355217 , 0.17215308, 0.42465108,\n",
       "       0.98941151, 0.02391357, 0.83713604, 0.47978283, 0.96595895,\n",
       "       0.73001089, 0.02497638, 0.66600777, 0.97007047, 0.88603783,\n",
       "       0.58580252, 0.1560468 , 0.5425729 , 0.52010046, 0.32515911])"
      ]
     },
     "execution_count": 41,
     "metadata": {},
     "output_type": "execute_result"
    }
   ],
   "source": [
    "import numpy as np\n",
    "random_numbers = np.random.rand(20) # 10 случайных чисел от 0 до 10\n",
    "print(random_numbers[6])\n",
    "random_numbers"
   ]
  },
  {
   "cell_type": "code",
   "execution_count": 48,
   "id": "3d750344-e906-464a-ac9c-37a56549aff2",
   "metadata": {},
   "outputs": [],
   "source": [
    "dictionary = { # тип dict\n",
    "    'mean': 'среднее значение',\n",
    "    'median': 'медиана',\n",
    "    'var': 'дисперсия',\n",
    "    'std': 'стандартное отклонение',\n",
    "    'min': 'минимальное значение',\n",
    "    'max': 'максимальное значение',\n",
    "    'sum': 'сумма элементов',\n",
    "    'ptp': 'размах (разница между max и min)',\n",
    "}\n",
    "\n",
    "def statistics(f, numbers):\n",
    "    if f not in dictionary.keys():\n",
    "        print(f'Не знаю, есть ли в numpy функция {f}?..')\n",
    "        return\n",
    "    #print(f\"{f} - {dictionary[f]}.\")\n",
    "    print( \"%s - %s.\" % (f, dictionary[f]) )\n",
    "    return np.__dict__[f](numbers)\n",
    "    \n"
   ]
  },
  {
   "cell_type": "code",
   "execution_count": 43,
   "id": "91cc07e9-486c-4d8a-b5b3-70a57f1e75bc",
   "metadata": {},
   "outputs": [
    {
     "ename": "KeyError",
     "evalue": "'5'",
     "output_type": "error",
     "traceback": [
      "\u001b[1;31m---------------------------------------------------------------------------\u001b[0m",
      "\u001b[1;31mKeyError\u001b[0m                                  Traceback (most recent call last)",
      "Cell \u001b[1;32mIn[43], line 1\u001b[0m\n\u001b[1;32m----> 1\u001b[0m \u001b[43mdictionary\u001b[49m\u001b[43m[\u001b[49m\u001b[38;5;124;43m'\u001b[39;49m\u001b[38;5;124;43m5\u001b[39;49m\u001b[38;5;124;43m'\u001b[39;49m\u001b[43m]\u001b[49m\n",
      "\u001b[1;31mKeyError\u001b[0m: '5'"
     ]
    }
   ],
   "source": [
    "dictionary['5']"
   ]
  },
  {
   "cell_type": "code",
   "execution_count": 47,
   "id": "dde73c57-1fa3-435f-b8dc-a264c1d10b8e",
   "metadata": {},
   "outputs": [
    {
     "name": "stdout",
     "output_type": "stream",
     "text": [
      "{f} - {dictionary[f]}.\n"
     ]
    },
    {
     "data": {
      "text/plain": [
       "np.float64(0.9894115050732647)"
      ]
     },
     "execution_count": 47,
     "metadata": {},
     "output_type": "execute_result"
    }
   ],
   "source": [
    "statistics('max', random_numbers)"
   ]
  },
  {
   "cell_type": "code",
   "execution_count": 29,
   "id": "09c4d6f3-074f-46a7-95bf-b02dfd8d3467",
   "metadata": {},
   "outputs": [
    {
     "name": "stdout",
     "output_type": "stream",
     "text": [
      "var - дисперсия.\n"
     ]
    },
    {
     "data": {
      "text/plain": [
       "np.float64(7.127492810299403)"
      ]
     },
     "execution_count": 29,
     "metadata": {},
     "output_type": "execute_result"
    }
   ],
   "source": [
    "statistics('var', random_numbers)"
   ]
  },
  {
   "cell_type": "code",
   "execution_count": 28,
   "id": "a17fd16d-6d79-49a8-81c0-d639e4886047",
   "metadata": {},
   "outputs": [
    {
     "name": "stdout",
     "output_type": "stream",
     "text": [
      "Не знаю, есть ли в numpy функция something?..\n"
     ]
    }
   ],
   "source": [
    "statistics('something', random_numbers)"
   ]
  },
  {
   "cell_type": "code",
   "execution_count": 45,
   "id": "ab10a5ce-f1ac-4880-b2f2-11605f48f228",
   "metadata": {},
   "outputs": [
    {
     "data": {
      "text/plain": [
       "12"
      ]
     },
     "execution_count": 45,
     "metadata": {},
     "output_type": "execute_result"
    }
   ],
   "source": [
    "d = { 7: 12, 0: 7}\n",
    "d[7]"
   ]
  },
  {
   "cell_type": "code",
   "execution_count": null,
   "id": "1295ab24-8c96-4da0-a147-326e20c67fe4",
   "metadata": {},
   "outputs": [],
   "source": []
  }
 ],
 "metadata": {
  "kernelspec": {
   "display_name": "Python 3 (ipykernel)",
   "language": "python",
   "name": "python3"
  },
  "language_info": {
   "codemirror_mode": {
    "name": "ipython",
    "version": 3
   },
   "file_extension": ".py",
   "mimetype": "text/x-python",
   "name": "python",
   "nbconvert_exporter": "python",
   "pygments_lexer": "ipython3",
   "version": "3.13.0"
  }
 },
 "nbformat": 4,
 "nbformat_minor": 5
}

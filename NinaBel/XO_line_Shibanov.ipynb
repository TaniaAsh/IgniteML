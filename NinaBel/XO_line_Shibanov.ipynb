{
 "cells": [
  {
   "cell_type": "markdown",
   "metadata": {},
   "source": [
    "**Program for practice with Python Klass"
   ]
  },
  {
   "cell_type": "code",
   "execution_count": null,
   "metadata": {},
   "outputs": [],
   "source": [
    "class X0_line:\n",
    "    def __init__(self, n=10):\n",
    "        # инициализация игрового поля\n",
    "        if n<7:\n",
    "            raise ValueError('Игровое поле слишком короткое.')\n",
    "        self.field = n*'-'\n",
    "        self.symbol = 'X'\n",
    "\n",
    "    def __str__(self):\n",
    "        # возвращает строку с текущим игровым полем\n",
    "        return self.field\n",
    "\n",
    "    def turn(self, position):\n",
    "        # ход \n",
    "        if position<0 or position>=len(self.field):\n",
    "            raise ValueError('Ячейка за пределами поля.')\n",
    "        if self.field[position] != '-':\n",
    "            raise ValueError('Ячейка уже занята.')\n",
    "        self.field = self.field[:position]+self.symbol+self.field[position+1:]\n",
    "        self.symbol = '0' if self.symbol == 'X' else 'X'\n",
    "        print(self)\n",
    "\n",
    "    def check(self):\n",
    "        # проверка условий окончания игры\n",
    "        if 'XXX' in self.field:\n",
    "            return 'X' # выиграл игрок Х\n",
    "        if '000' in self.field:\n",
    "            return '0' # выиграл игрок 0\n",
    "        if '-' not in self.field:\n",
    "            return '!' # ничья\n",
    "        return '-' # есть свободные поля"
   ]
  },
  {
   "cell_type": "code",
   "execution_count": null,
   "metadata": {},
   "outputs": [],
   "source": [
    "class X0_line_PC(X0_line):\n",
    "    def turn(self, position):\n",
    "        # turn player\n",
    "        if position<0 or position>=len(self.field):\n",
    "            raise ValueError('Ячейка за пределами поля.')\n",
    "        if self.field[position] != '-':\n",
    "            raise ValueError('Ячейка уже занята.')\n",
    "        if len(self.field) - 1 == position:\n",
    "            self.field = self.field[:position]+self.symbol\n",
    "        elif position == 0:\n",
    "            self.field = self.symbol+self.field[position+1:]\n",
    "        else:\n",
    "            self.field = self.field[:position]+self.symbol+self.field[position+1:]\n",
    "        print(self)\n",
    "        if self.field[-2:] == '-X' or '-X-' in self.field or '-X0' in self.field:\n",
    "            self.field = self.field[:position-1]+'0'+self.field[position:]\n",
    "        if self.field[:2] == 'X-' or '0XX-' in self.field:\n",
    "            self.field = self.field[:position+1]+'0'+self.field[position+2:]\n",
    "        if '-0XX0X0' in self.field or '-0XX0X' in self.field:\n",
    "            el = self.field.index('-')\n",
    "            self.field = self.field[:el]+'0'+self.field[el+1:]\n",
    "        print(self)\n",
    "        "
   ]
  },
  {
   "cell_type": "code",
   "execution_count": null,
   "metadata": {},
   "outputs": [],
   "source": [
    "game = X0_line_PC(12)\n",
    "while game.check()=='-':\n",
    "    try:\n",
    "        p = input(f'Введите позицию для игрока {game.symbol}: ')\n",
    "        game.turn(int(p))\n",
    "    except Exception as ex:     \n",
    "        print(ex)\n",
    "print(game.check())"
   ]
  }
 ],
 "metadata": {
  "kernelspec": {
   "display_name": "Python 3 (ipykernel)",
   "language": "python",
   "name": "python3"
  },
  "language_info": {
   "codemirror_mode": {
    "name": "ipython",
    "version": 3
   },
   "file_extension": ".py",
   "mimetype": "text/x-python",
   "name": "python",
   "nbconvert_exporter": "python",
   "pygments_lexer": "ipython3",
   "version": "3.12.8"
  }
 },
 "nbformat": 4,
 "nbformat_minor": 2
}

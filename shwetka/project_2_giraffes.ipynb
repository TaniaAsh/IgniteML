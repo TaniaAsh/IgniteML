{
 "cells": [
  {
   "cell_type": "code",
   "execution_count": 1,
   "metadata": {},
   "outputs": [],
   "source": [
    "import pandas as pd\n",
    "import numpy as np\n",
    "import matplotlib.pyplot as plt\n",
    "from sklearn.model_selection import train_test_split\n",
    "from sklearn.linear_model import LogisticRegression\n",
    "from sklearn.preprocessing import MinMaxScaler\n",
    "from sklearn.metrics import classification_report, confusion_matrix, accuracy_score\n",
    "import seaborn as sns"
   ]
  },
  {
   "cell_type": "code",
   "execution_count": 2,
   "metadata": {},
   "outputs": [],
   "source": [
    "from sklearn import metrics\n",
    "import seaborn as sns\n",
    "import seaborn as sn \n",
    "from sklearn.metrics import roc_auc_score\n",
    "from sklearn.metrics import roc_curve\n",
    "from sklearn.neighbors import KNeighborsClassifier\n",
    "from sklearn.feature_extraction.text import CountVectorizer\n",
    "from sklearn.feature_extraction.text import TfidfVectorizer\n",
    "from sklearn.feature_extraction.text import HashingVectorizer"
   ]
  },
  {
   "cell_type": "code",
   "execution_count": 3,
   "metadata": {},
   "outputs": [
    {
     "name": "stdout",
     "output_type": "stream",
     "text": [
      "Dataset columns: Index(['name', 'review', 'rating'], dtype='object')\n",
      "<class 'pandas.core.frame.DataFrame'>\n",
      "RangeIndex: 183531 entries, 0 to 183530\n",
      "Data columns (total 3 columns):\n",
      " #   Column  Non-Null Count   Dtype \n",
      "---  ------  --------------   ----- \n",
      " 0   name    183213 non-null  object\n",
      " 1   review  182702 non-null  object\n",
      " 2   rating  183531 non-null  int64 \n",
      "dtypes: int64(1), object(2)\n",
      "memory usage: 4.2+ MB\n",
      "                                                name  \\\n",
      "0                           Planetwise Flannel Wipes   \n",
      "1                              Planetwise Wipe Pouch   \n",
      "2                Annas Dream Full Quilt with 2 Shams   \n",
      "3  Stop Pacifier Sucking without tears with Thumb...   \n",
      "4  Stop Pacifier Sucking without tears with Thumb...   \n",
      "\n",
      "                                              review  rating  \n",
      "0  These flannel wipes are OK, but in my opinion ...       3  \n",
      "1  it came early and was not disappointed. i love...       5  \n",
      "2  Very soft and comfortable and warmer than it l...       5  \n",
      "3  This is a product well worth the purchase.  I ...       5  \n",
      "4  All of my kids have cried non-stop when I trie...       5  \n"
     ]
    }
   ],
   "source": [
    "# Load the dataset\n",
    "data = pd.read_csv('amazon_baby.csv')\n",
    "\n",
    "# Display basic information about the dataset\n",
    "print(\"Dataset columns:\", data.columns)\n",
    "data.info()\n",
    "print(data.head())"
   ]
  },
  {
   "cell_type": "code",
   "execution_count": 4,
   "metadata": {},
   "outputs": [
    {
     "data": {
      "text/plain": [
       "'Vulli Sophie the Giraffe Teether'"
      ]
     },
     "execution_count": 4,
     "metadata": {},
     "output_type": "execute_result"
    }
   ],
   "source": [
    "data['name'].value_counts().idxmax()"
   ]
  },
  {
   "cell_type": "code",
   "execution_count": 5,
   "metadata": {},
   "outputs": [
    {
     "data": {
      "text/plain": [
       "['Vulli Sophie the Giraffe Teether',\n",
       " 'Simple Wishes Hands-Free Breastpump Bra, Pink, XS-L',\n",
       " 'Infant Optics DXR-5 2.4 GHz Digital Video Baby Monitor with Night Vision',\n",
       " 'Baby Einstein Take Along Tunes',\n",
       " 'Cloud b Twilight Constellation Night Light, Turtle',\n",
       " 'Fisher-Price Booster Seat, Blue/Green/Gray',\n",
       " 'Fisher-Price Rainforest Jumperoo',\n",
       " 'Graco Nautilus 3-in-1 Car Seat, Matrix',\n",
       " 'Leachco Snoogle Total Body Pillow',\n",
       " 'Regalo Easy Step Walk Thru Gate, White']"
      ]
     },
     "execution_count": 5,
     "metadata": {},
     "output_type": "execute_result"
    }
   ],
   "source": [
    "n = 10\n",
    "data['name'].value_counts()[:n].index.tolist()"
   ]
  },
  {
   "cell_type": "code",
   "execution_count": 6,
   "metadata": {},
   "outputs": [
    {
     "name": "stdout",
     "output_type": "stream",
     "text": [
      "Number of reviews for the product: 785\n"
     ]
    }
   ],
   "source": [
    "# Filter data for a specific product (example: 'Vulli Sophie the Giraffe Teether')\n",
    "product_reviews = data[data['name'] == 'Vulli Sophie the Giraffe Teether']\n",
    "print(f\"Number of reviews for the product: {len(product_reviews)}\")"
   ]
  },
  {
   "cell_type": "code",
   "execution_count": 7,
   "metadata": {},
   "outputs": [
    {
     "name": "stdout",
     "output_type": "stream",
     "text": [
      "34313     5\n",
      "34314     5\n",
      "34315     1\n",
      "34316     5\n",
      "34317     5\n",
      "         ..\n",
      "159649    5\n",
      "159650    5\n",
      "159651    5\n",
      "159652    5\n",
      "159653    5\n",
      "Name: rating, Length: 785, dtype: int64\n"
     ]
    }
   ],
   "source": [
    "print(product_reviews['rating'])"
   ]
  },
  {
   "cell_type": "code",
   "execution_count": 8,
   "metadata": {},
   "outputs": [
    {
     "name": "stdout",
     "output_type": "stream",
     "text": [
      "Product with the most negative reviews: Infant Optics DXR-5 2.4 GHz Digital Video Baby Monitor with Night Vision\n",
      "Negative review count: 133\n"
     ]
    }
   ],
   "source": [
    "# Step 1: Ensure data is clean\n",
    "# Drop rows with missing values in 'product' or 'rating'\n",
    "data = data.dropna(subset=['name', 'rating'])\n",
    "\n",
    "# Step 2: Remove neutral ratings (3) and create binary labels\n",
    "data = data[data['rating'] != 3]  # Remove neutral ratings\n",
    "data['is_negative'] = data['rating'] <= 2  # Negative reviews: True if 1 or 2, otherwise False\n",
    "\n",
    "# Step 3: Group by product and count negative reviews\n",
    "negative_review_counts = (\n",
    "    data[data['is_negative']]  # Filter for negative reviews\n",
    "    .groupby('name')        # Group by product\n",
    "    .size()                    # Count the number of negative reviews per product\n",
    "    .to_dict()                 # Convert to dictionary for easy lookup\n",
    ")\n",
    "\n",
    "# Step 4: Find the product with the most negative reviews\n",
    "if negative_review_counts:  # Check if there are any negative reviews\n",
    "    name_with_most_negatives = max(negative_review_counts, key=negative_review_counts.get)\n",
    "    print(f\"Product with the most negative reviews: {name_with_most_negatives}\")\n",
    "    print(f\"Negative review count: {negative_review_counts[name_with_most_negatives]}\")\n",
    "else:\n",
    "    print(\"No products with negative reviews found.\")"
   ]
  },
  {
   "cell_type": "code",
   "execution_count": 9,
   "metadata": {},
   "outputs": [],
   "source": [
    "# Filter data for a specific product (example: 'Infant Monitor ')\n",
    "product_bad_reviews = data[data['name'] == 'Infant Optics DXR-5 2.4 GHz Digital Video Baby Monitor with Night Vision']"
   ]
  },
  {
   "cell_type": "code",
   "execution_count": 10,
   "metadata": {},
   "outputs": [
    {
     "name": "stdout",
     "output_type": "stream",
     "text": [
      "134502    1\n",
      "134503    5\n",
      "134504    5\n",
      "134505    5\n",
      "134506    4\n",
      "         ..\n",
      "135058    4\n",
      "135059    1\n",
      "135060    5\n",
      "135061    5\n",
      "135062    5\n",
      "Name: rating, Length: 519, dtype: int64\n"
     ]
    }
   ],
   "source": [
    "print(product_bad_reviews['rating'])"
   ]
  },
  {
   "cell_type": "code",
   "execution_count": 11,
   "metadata": {},
   "outputs": [
    {
     "name": "stdout",
     "output_type": "stream",
     "text": [
      "34313      True\n",
      "34314      True\n",
      "34315     False\n",
      "34316      True\n",
      "34317      True\n",
      "          ...  \n",
      "159649     True\n",
      "159650     True\n",
      "159651     True\n",
      "159652     True\n",
      "159653     True\n",
      "Name: rating, Length: 717, dtype: bool\n"
     ]
    }
   ],
   "source": [
    "# Preprocess the data\n",
    "# Remove rows with missing values in the 'review' column\n",
    "product_reviews = product_reviews.dropna(subset=['review'])\n",
    "\n",
    "# Ensure all reviews are of string type\n",
    "product_reviews['review'] = product_reviews['review'].astype(str)\n",
    "\n",
    "# Remove rows with neutral ratings (3) and create binary labels for positive (4, 5) and negative (1, 2) ratings\n",
    "product_reviews = product_reviews[product_reviews['rating'] != 3]\n",
    "product_reviews['rating'] = product_reviews['rating'] >= 4  # Positive: True (>=4), Negative: False (1, 2)\n",
    "print(product_reviews['rating'])\n",
    "\n"
   ]
  },
  {
   "cell_type": "code",
   "execution_count": 12,
   "metadata": {},
   "outputs": [
    {
     "name": "stdout",
     "output_type": "stream",
     "text": [
      "134502    False\n",
      "134503     True\n",
      "134504     True\n",
      "134505     True\n",
      "134506     True\n",
      "          ...  \n",
      "135058     True\n",
      "135059    False\n",
      "135060     True\n",
      "135061     True\n",
      "135062     True\n",
      "Name: rating, Length: 517, dtype: bool\n"
     ]
    }
   ],
   "source": [
    "# Preprocess the data\n",
    "# Remove rows with missing values in the 'review' column\n",
    "product_bad_reviews = product_bad_reviews.dropna(subset=['review'])\n",
    "\n",
    "# Ensure all reviews are of string type\n",
    "product_bad_reviews['review'] = product_bad_reviews['review'].astype(str)\n",
    "\n",
    "# Remove rows with neutral ratings (3) and create binary labels for positive (4, 5) and negative (1, 2) ratings\n",
    "product_bad_reviews = product_bad_reviews[product_bad_reviews['rating'] != 3]\n",
    "product_bad_reviews['rating'] = product_bad_reviews['rating'] >= 4  # Positive: True (>=4), Negative: False (1, 2)\n",
    "print(product_bad_reviews['rating'])"
   ]
  },
  {
   "cell_type": "code",
   "execution_count": 13,
   "metadata": {},
   "outputs": [
    {
     "name": "stdout",
     "output_type": "stream",
     "text": [
      "The shape of our data: (717, 3) \n",
      "\n",
      "Our column names are: ['name' 'review' 'rating']\n"
     ]
    }
   ],
   "source": [
    "print(\"The shape of our data:\",product_reviews.shape,\"\\n\")\n",
    "\n",
    "# print columns names\n",
    "print(\"Our column names are:\",product_reviews.columns.values)"
   ]
  },
  {
   "cell_type": "code",
   "execution_count": 14,
   "metadata": {},
   "outputs": [
    {
     "name": "stdout",
     "output_type": "stream",
     "text": [
      "The shape of our bad reviews data: (517, 4) \n",
      "\n",
      "Our column names are: ['name' 'review' 'rating' 'is_negative']\n"
     ]
    }
   ],
   "source": [
    "print(\"The shape of our bad reviews data:\",product_bad_reviews.shape,\"\\n\")\n",
    "\n",
    "# print columns names\n",
    "print(\"Our column names are:\",product_bad_reviews.columns.values)"
   ]
  },
  {
   "cell_type": "code",
   "execution_count": 15,
   "metadata": {},
   "outputs": [
    {
     "name": "stdout",
     "output_type": "stream",
     "text": [
      "['00', '09', '10', '100', '11', '12', '128522', '1360729347', '14', '15', '15months', '16', '16month', '17', '18', '19', '1956', '1961', '1st', '20', '2011', '2013', '2013well', '21', '21m', '22', '23', '25', '29', '2nd', '2yrs', '30', '34', '376', '3777th', '3mo', '3x', '40', '48', '4th', '50', '5mo', '5month', '5th', '5x', '65', '6m', '6mo', '6months', '6mos', '6th', '70', '7mo', '80', '8230', '99', 'ability', 'abit', 'able', 'about', 'absolute', 'absolutely', 'absorbing', 'abuse', 'abuses', 'acceptable', 'accessory', 'accident', 'accidently', 'accompanied', 'accompanying', 'account', 'accumulates', 'accurate', 'across', 'active', 'actively', 'actual', 'actually', 'add', 'added', 'addictive', 'adding', 'addition', 'additionally', 'addressing', 'adds', 'admit', 'admits', 'adopted', 'adorable', 'adore', 'adored', 'adores', 'adoring', 'adrienne', 'adroable', 'adult', 'advance', 'adventures', 'advertising', 'advice', 'advised', 'afraid', 'after', 'again', 'against', 'age', 'aggressive', 'ago', 'agree', 'agreed', 'ahead', 'aheadof', 'aid', 'aids', 'aim', 'air', 'airing', 'airway', 'aka', 'albino', 'alexander', 'alien', 'alimentary', 'all', 'allergies', 'allergy', 'alleviate', 'allmomsareperfect', 'allow', 'allows', 'almost', 'alone', 'along', 'alongside', 'alps', 'already', 'alright', 'also', 'alternative', 'alternatives', 'although', 'always', 'am', 'amazed', 'amazing', 'amazingly', 'amazon', 'ambiguous', 'ambitious', 'among', 'amongst', 'amount', 'amused', 'amuses', 'an', 'anaphylactic', 'and', 'anecdote', 'angle', 'angles', 'angry', 'announced', 'annoyance', 'annoyed', 'annoying', 'another', 'answer', 'answered', 'answers', 'any', 'anybody', 'anymore', 'anyone', 'anything', 'anyway', 'anyways', 'anywhere', 'apart', 'apparent', 'apparently', 'appeal', 'appealing', 'appeals', 'appear', 'appears', 'appendages', 'appreciate', 'appreciated', 'apprently', 'approriate', 'approved', 'approximately', 'arabia', 'are', 'area', 'areas', 'argue', 'arm', 'arms', 'around', 'arrival', 'arrived', 'arrives', 'as', 'asap', 'aside', 'ask', 'asked', 'asking', 'asleep', 'aspect', 'assistant', 'assuming', 'astounded', 'astray', 'at', 'attach', 'attached', 'attack', 'attempt', 'attention', 'attract', 'attracted', 'attracter', 'attractive', 'attracts', 'attributes', 'august', 'aunt', 'authentic', 'avail', 'available', 'average', 'avoiding', 'aware', 'away', 'awesome', 'awful', 'awhile', 'awkward', 'b001n45dm2', 'bab', 'babe', 'babies', 'baby', 'babysitter', 'babysitting', 'babytime', 'back', 'background', 'backs', 'backseat', 'backup', 'bad', 'badly', 'bag', 'baits', 'balked', 'barely', 'barley', 'barnes', 'base', 'based', 'bashing', 'basically', 'basis', 'basket', 'batch', 'batches', 'bath', 'bathtime', 'bathtub', 'bc', 'be', 'beat', 'beating', 'beautiful', 'became', 'becareful', 'becasue', 'becauase', 'because', 'become', 'becomes', 'becoming', 'been', 'before', 'beforehand', 'beg', 'began', 'begin', 'beginning', 'begins', 'begun', 'behold', 'being', 'believe', 'believer', 'bell', 'belly', 'belonds', 'belong', 'belongs', 'beloved', 'below', 'bend', 'bends', 'bendy', 'benefit', 'benefits', 'berated', 'besides', 'best', 'besties', 'better', 'between', 'beware', 'big', 'bigger', 'biggest', 'bin', 'bing', 'binky', 'birth', 'birthday', 'bit', 'bite', 'bites', 'biting', 'bits', 'bitten', 'bitting', 'bizarre', 'bjorn', 'black', 'blast', 'blink', 'blinking', 'blocked', 'blue', 'blush', 'board', 'body', 'boiled', 'bones', 'bonkers', 'bonus', 'book', 'booklet', 'books', 'boom', 'bored', 'born', 'boston', 'both', 'bother', 'bothered', 'bottle', 'bottles', 'bottom', 'bought', 'bounce', 'bouncer', 'bound', 'bout', 'boutiques', 'bow', 'bowl', 'box', 'boxes', 'boy', 'boys', 'bpa', 'brainer', 'brand', 'breaking', 'breakthrough', 'breast', 'breathing', 'bright', 'bring', 'bringing', 'brings', 'broke', 'broken', 'brooklyn', 'brother', 'brothers', 'brought', 'brown', 'bru', 'bruises', 'btw', 'bucks', 'buddy', 'budge', 'bugging', 'bugs', 'build', 'built', 'bullet', 'bummed', 'bumped', 'bumps', 'bumpy', 'bunch', 'bundle', 'bunny', 'busy', 'but', 'butt', 'button', 'buy', 'buyers', 'buying', 'buys', 'by', 'bytes', 'calisson', 'call', 'called', 'calling', 'calls', 'calm', 'calms', 'came', 'can', 'canada', 'cancer', 'canines', 'cannibal', 'cannot', 'captivates', 'captures', 'car', 'carcinogens', 'card', 'care', 'careful', 'carefully', 'cares', 'carpet', 'carried', 'carrier', 'carries', 'carseat', 'case', 'cash', 'cat', 'catches', 'catching', 'caught', 'cause', 'caused', 'causes', 'causing', 'caution', 'caveat', 'caved', 'celebrities', 'celebrity', 'center', 'certain', 'certainly', 'chalked', 'chalky', 'champ', 'chance', 'chances', 'change', 'changed', 'changing', 'charged', 'charm', 'charming', 'cheap', 'cheaper', 'cheapest', 'check', 'checked', 'cheeks', 'chemical', 'chemicals', 'chew', 'chewable', 'chewed', 'chewie', 'chewiing', 'chewing', 'chews', 'chewy', 'child', 'childhood', 'children', 'childrens', 'china', 'chinese', 'chips', 'chock', 'choice', 'choices', 'choke', 'choked', 'chokes', 'choking', 'chomp', 'chomping', 'choose', 'chose', 'chosen', 'christmas', 'chubby', 'chunks', 'church', 'claims', 'class', 'classic', 'clean', 'cleanablility', 'cleaned', 'cleaning', 'cleans', 'clear', 'clearly', 'clings', 'clip', 'clock', 'close', 'cloth', 'clothes', 'coat', 'coating', 'codes', 'cold', 'collection', 'color', 'colored', 'colorfast', 'colorful', 'coloring', 'colors', 'colouring', 'com', 'combined', 'come', 'comes', 'comfort', 'comfortable', 'comforting', 'coming', 'comment', 'commented', 'comments', 'common', 'commonly', 'communication', 'companies', 'companion', 'company', 'comparable', 'compare', 'compared', 'comparing', 'comparison', 'complain', 'complained', 'complaint', 'complaints', 'complete', 'completely', 'computer', 'concept', 'concern', 'concerned', 'concerning', 'concerns', 'conclusion', 'condition', 'conditions', 'confident', 'conformity', 'confuse', 'confused', 'confusing', 'confusion', 'connect', 'cons', 'consider', 'considered', 'considering', 'consistency', 'consistently', 'constant', 'constantly', 'constructed', 'construction', 'contact', 'contacting', 'container', 'contains', 'content', 'continue', 'continued', 'continues', 'continuing', 'continuous', 'contrast', 'contrasting', 'control', 'convinced', 'convincing', 'cooing', 'cool', 'coordinate', 'coordinated', 'coordination', 'corner', 'corners', 'correct', 'corrected', 'cost', 'costly', 'costs', 'couch', 'could', 'couldn', 'counterfeited', 'countless', 'country', 'couple', 'coupon', 'course', 'cousin', 'cousins', 'cover', 'covered', 'coz', 'crack', 'cracking', 'cracks', 'craigslist', 'cram', 'cranky', 'crap', 'crawling', 'crawls', 'crazily', 'crazy', 'created', 'creation', 'creature', 'creepy', 'crepiness', 'crib', 'cries', 'cringe', 'crowd', 'crushed', 'cry', 'crying', 'cultural', 'culture', 'currently', 'curved', 'customer', 'cut', 'cute', 'cutting', 'cuz', 'cycle', 'dad', 'daily', 'dainty', 'damage', 'damaged', 'damaging', 'dance', 'dancing', 'danger', 'dangerous', 'dark', 'darker', 'darling', 'darn', 'date', 'dates', 'daughter', 'daughters', 'daugther', 'day', 'daycare', 'days', 'dead', 'deal', 'dealing', 'debate', 'debated', 'debating', 'decades', 'deceived', 'deceiving', 'december', 'decent', 'decided', 'deciding', 'decision', 'decorated', 'deep', 'deer', 'def', 'defect', 'defective', 'deff', 'definately', 'definetly', 'definitely', 'deliberately', 'delight', 'delighted', 'delightful', 'delights', 'deliver', 'delivery', 'dental', 'depending', 'depressed', 'describe', 'described', 'describes', 'description', 'deserves', 'design', 'designed', 'desire', 'desperate', 'despite', 'destroyed', 'detail', 'deter', 'deterent', 'determined', 'deterred', 'develop', 'developed', 'developing', 'device', 'dexterity', 'diameter', 'diaper', 'diapers', 'did', 'didn', 'died', 'difference', 'differences', 'different', 'differently', 'differnt', 'difficult', 'difficulty', 'digestion', 'digging', 'digs', 'dimensions', 'dipped', 'directions', 'directly', 'dirt', 'dirty', 'disabled', 'disappear', 'disappointed', 'disappointing', 'disappointment', 'discolor', 'discomfort', 'discover', 'discovered', 'discription', 'discussion', 'dish', 'dishwasher', 'disinfect', 'disinfecting', 'disinterested', 'dislike', 'dislodged', 'dismay', 'dispite', 'disregard', 'dissapointment', 'distinct', 'distinguish', 'distract', 'distracted', 'distraction', 'distractions', 'distractor', 'distracts', 'distributed', 'distribution', 'disturbing', 'ditched', 'divots', 'do', 'doallrs', 'doctor', 'does', 'doesn', 'doesnt', 'dog', 'doggie', 'doggy', 'dogs', 'doing', 'doll', 'dollar', 'dollars', 'don', 'done', 'dont', 'door', 'dots', 'dotted', 'double', 'doubles', 'doubt', 'doubts', 'doug', 'down', 'downside', 'downsides', 'dozens', 'dp', 'drag', 'dragged', 'drawback', 'drawer', 'draws', 'dreadful', 'dreadfully', 'dries', 'drive', 'drives', 'drool', 'drooling', 'drools', 'drop', 'dropped', 'dropper', 'dropping', 'drops', 'drying', 'ds', 'dubious', 'due', 'dumb', 'durable', 'during', 'dust', 'dusty', 'dye', 'dyes', 'each', 'eacute', 'ear', 'earlier', 'early', 'earned', 'earnest', 'ears', 'ease', 'easier', 'easily', 'easing', 'east', 'easy', 'eat', 'eaten', 'eating', 'edges', 'edible', 'editing', 'eel', 'effect', 'effective', 'efficiently', 'eight', 'either', 'eldest', 'elephant', 'ella', 'else', 'elses', 'elsewhere', 'emailed', 'emanate', 'embarassing', 'embarassment', 'embark', 'embarrassing', 'embelishment', 'embroidered', 'emerse', 'emotional', 'encounter', 'encouraging', 'end', 'ended', 'endless', 'endlessly', 'ends', 'endured', 'enjoy', 'enjoyable', 'enjoyed', 'enjoying', 'enjoys', 'enough', 'ensue', 'entered', 'entertain', 'entertained', 'entertaining', 'entertainment', 'entertains', 'enthralled', 'enthusiastic', 'entice', 'entire', 'episodes', 'equivalent', 'erupting', 'esaily', 'especially', 'essentials', 'estimated', 'eta', 'etc', 'europe', 'european', 'europeans', 'euros', 'even', 'eventually', 'ever', 'everwe', 'every', 'everybody', 'everyday', 'everyone', 'everyonecmy', 'everything', 'everytime', 'everywhere', 'exact', 'exactly', 'exaggerated', 'excellent', 'except', 'exceptional', 'excited', 'excitement', 'exciting', 'existence', 'exited', 'expect', 'expectant', 'expectations', 'expected', 'expecting', 'expense', 'expensive', 'experience', 'experimenting', 'explore', 'exposing', 'exposure', 'expression', 'extend', 'extended', 'extension', 'extra', 'extremely', 'exuded', 'eye', 'eyes', 'eyesore', 'fabric', 'face', 'facing', 'fact', 'factor', 'fade', 'faded', 'fades', 'fading', 'fails', 'faint', 'fair', 'fairly', 'fake', 'fakes', 'falling', 'falls', 'families', 'family', 'fan', 'fancy', 'fans', 'fantastic', 'far', 'farther', 'fascination', 'fashionable', 'fashioned', 'fast', 'fatal', 'fault', 'favor', 'favorite', 'favorites', 'favors', 'favourite', 'fear', 'fears', 'feature', 'features', 'feedback', 'feel', 'feeling', 'feels', 'feet', 'fell', 'felt', 'fetched', 'few', 'fianc', 'fifteen', 'fifty', 'figaro', 'fight', 'figure', 'figured', 'filthy', 'final', 'finallt', 'finally', 'find', 'finding', 'finds', 'fine', 'finest', 'finger', 'fingers', 'fingertip', 'finish', 'finished', 'firm', 'firmly', 'first', 'fisrt', 'fists', 'fit', 'fits', 'five', 'fixated', 'flails', 'flaking', 'flashing', 'flavored', 'flaw', 'flexibility', 'flexible', 'flight', 'flimsy', 'flinging', 'floor', 'floors', 'fluids', 'fluorescent', 'foam', 'focus', 'focused', 'fold', 'followed', 'following', 'fond', 'font', 'food', 'foods', 'foot', 'for', 'forbid', 'force', 'forever', 'forewarned', 'forget', 'forgot', 'forgotten', 'form', 'formal', 'forth', 'fortune', 'forward', 'foster', 'found', 'four', 'fragile', 'france', 'frankly', 'freaky', 'free', 'freezable', 'freeze', 'freezer', 'freight', 'french', 'frenchman', 'frequently', 'friend', 'friendly', 'friends', 'from', 'front', 'frown', 'frozen', 'frustrated', 'ft', 'fulfilled', 'full', 'fully', 'fun', 'function', 'funk', 'funny', 'furiously', 'further', 'fuss', 'fussiness', 'fussing', 'fussy', 'future', 'fyi', 'gag', 'gagged', 'gagging', 'gags', 'gained', 'gal', 'game', 'garanimals', 'garbled', 'gas', 'gasping', 'gave', 'gear', 'gel', 'gender', 'general', 'gentle', 'gently', 'genuine', 'geometric', 'george', 'german', 'germany', 'germs', 'get', 'gets', 'getting', 'gift', 'gifted', 'gifts', 'giggles', 'girafe', 'girafee', 'giraff', 'giraffe', 'giraffee', 'giraffes', 'girl', 'girlfriend', 'girls', 'girly', 'give', 'given', 'gives', 'giving', 'glad', 'glance', 'glorified', 'gnaw', 'gnawable', 'gnawed', 'gnawing', 'gnaws', 'go', 'gods', 'goes', 'going', 'gold', 'gone', 'gonna', 'good', 'goodness', 'googled', 'got', 'gotten', 'gpa', 'grab', 'grabbed', 'grabbing', 'grabs', 'gradchild', 'grade', 'grain', 'grand', 'grandaughter', 'grandaughtes', 'grandbabies', 'grandbaby', 'grandchild', 'grandchildren', 'granddaughter', 'granddaughters', 'grandkids', 'grandma', 'grandmas', 'grandmother', 'grandniece', 'grandparents', 'grandson', 'grandsons', 'grasp', 'grasped', 'grasping', 'gravitate', 'great', 'greatest', 'greatful', 'green', 'grew', 'grin', 'grip', 'gripped', 'gripping', 'grips', 'grocery', 'gross', 'ground', 'group', 'grow', 'growing', 'grown', 'growth', 'grumpy', 'guaranteeing', 'guard', 'guarded', 'guess', 'guessing', 'guide', 'gum', 'gumming', 'gummy', 'gums', 'gun', 'gunk', 'guy', 'guys', 'ha', 'had', 'hadn', 'hair', 'half', 'hand', 'handed', 'handle', 'handmade', 'hands', 'handy', 'hang', 'hangover', 'happen', 'happened', 'happening', 'happens', 'happier', 'happily', 'happy', 'harbor', 'hard', 'harder', 'hardly', 'harmful', 'has', 'hasn', 'hassle', 'hate', 'hated', 'hates', 'have', 'havea', 'haven', 'having', 'hazard', 'hazards', 'he', 'head', 'health', 'hear', 'heard', 'hearing', 'hears', 'heart', 'heartbeat', 'heaven', 'heavy', 'heck', 'hehe', 'heirloom', 'held', 'hello', 'help', 'helped', 'helpful', 'helps', 'her', 'here', 'hero', 'hers', 'herself', 'hesitant', 'hesitate', 'hesitated', 'hevea', 'hey', 'hidden', 'hide', 'high', 'higher', 'highly', 'him', 'hime', 'himself', 'himsophie', 'hindsight', 'hip', 'hipper', 'his', 'history', 'hit', 'hits', 'hitting', 'hmmm', 'hobbies', 'hold', 'holding', 'holds', 'hole', 'holes', 'holiday', 'hollow', 'home', 'honest', 'honestly', 'honey', 'hoof', 'hooked', 'hooves', 'hope', 'hoped', 'hopeful', 'hopefully', 'hopes', 'hoping', 'horn', 'horns', 'horrible', 'horror', 'hospital', 'hot', 'hour', 'hours', 'house', 'hovered', 'how', 'however', 'http', 'hubby', 'hubs', 'hug', 'huge', 'human', 'hundreds', 'hunt', 'hunting', 'hurt', 'hurting', 'husband', 'husky', 'hygenist', 'hype', 'hyped', 'icon', 'idea', 'ideal', 'ie', 'if', 'ignore', 'ignored', 'ignores', 'illegal', 'im', 'image', 'imaginable', 'imagine', 'immediately', 'immerse', 'imo', 'impact', 'important', 'importantly', 'imported', 'impressed', 'improved', 'in', 'inc', 'incase', 'inch', 'inches', 'incident', 'incisors', 'included', 'includes', 'including', 'incredible', 'indeed', 'independently', 'indestructible', 'index', 'indifferent', 'individual', 'inevitable', 'inevitably', 'inexpensive', 'infact', 'infancy', 'infant', 'infants', 'infertility', 'inflexible', 'information', 'ingest', 'ingesting', 'ingredients', 'initial', 'initially', 'injuring', 'inscribed', 'inseparable', 'inside', 'insisted', 'insists', 'instantly', 'instead', 'instruction', 'instructions', 'intact', 'intedned', 'intended', 'intentionally', 'intently', 'intents', 'interact', 'interest', 'interested', 'interesting', 'international', 'internet', 'into', 'intrigued', 'introduce', 'introduced', 'invented', 'invention', 'invest', 'investigating', 'investment', 'ipad', 'irresistible', 'irritation', 'is', 'ish', 'isn', 'isnt', 'issue', 'issues', 'it', 'item', 'items', 'its', 'itself', 'itsy', 'jam', 'jammed', 'jealous', 'jealously', 'jerry', 'job', 'joke', 'journalism', 'joy', 'judging', 'june', 'junk', 'junky', 'just', 'justifies', 'justify', 'justifying', 'kdis', 'keen', 'keep', 'keeper', 'keeping', 'keeps', 'keepsake', 'kep', 'kept', 'keywords', 'kick', 'kicking', 'kid', 'kiddies', 'kidding', 'kiddo', 'kiddos', 'kids', 'killed', 'kind', 'kinda', 'kinds', 'kisses', 'kissing', 'knee', 'knew', 'knobs', 'knock', 'know', 'knowing', 'knowledge', 'known', 'knows', 'knuckles', 'la', 'lab', 'label', 'lack', 'lady', 'lame', 'lap', 'laps', 'laptop', 'large', 'largely', 'larger', 'last', 'lasted', 'lasting', 'late', 'later', 'latex', 'laugh', 'laughed', 'laughing', 'laughs', 'laughter', 'laundry', 'law', 'laying', 'le', 'lead', 'leading', 'learn', 'learned', 'learning', 'least', 'leave', 'leaves', 'leaving', 'left', 'leg', 'legacy', 'legend', 'legged', 'legitimately', 'legs', 'length', 'less', 'let', 'lets', 'letting', 'level', 'levels', 'licked', 'licks', 'life', 'lifesaver', 'light', 'lighter', 'lightest', 'lights', 'lightweight', 'like', 'liked', 'likedthe', 'likely', 'likeness', 'likes', 'liking', 'lil', 'lily', 'limbs', 'limited', 'limiting', 'line', 'links', 'lint', 'list', 'listed', 'listen', 'listening', 'lists', 'lit', 'literally', 'little', 'littlest', 'live', 'lives', 'll', 'lo', 'local', 'localize', 'locally', 'lock', 'logged', 'lol', 'loll', 'lone', 'long', 'longer', 'look', 'looked', 'looking', 'looks', 'looooves', 'looses', 'loosing', 'lose', 'losing', 'lost', 'lot', 'lots', 'loud', 'loudest', 'love', 'loved', 'lovely', 'loves', 'loving', 'low', 'lowdown', 'lower', 'lowwest', 'luckily', 'lying', 'machine', 'mad', 'made', 'magazine', 'magical', 'mail', 'main', 'mainly', 'major', 'make', 'maker', 'makers', 'makes', 'making', 'mall', 'malleable', 'man', 'managable', 'manage', 'managed', 'manages', 'maneuver', 'mangled', 'manhattan', 'manipulate', 'manipulated', 'manner', 'manual', 'manufacture', 'manufactured', 'manufacturer', 'manufactures', 'manufacturing', 'many', 'march', 'market', 'marketed', 'marketing', 'markings', 'marks', 'married', 'mashing', 'massaging', 'match', 'material', 'materials', 'matieral', 'matter', 'mauling', 'maw', 'mawing', 'maximum', 'may', 'maybe', 'me', 'mean', 'meaning', 'means', 'measurement', 'measurements', 'mechanism', 'mediocre', 'meet', 'melissa', 'members', 'mention', 'mentioned', 'mentions', 'merchant', 'merci', 'mere', 'mesmerizing', 'mess', 'messed', 'met', 'metal', 'microscopic', 'microwave', 'mid', 'middle', 'might', 'mil', 'mile', 'milestone', 'million', 'millions', 'mind', 'mine', 'minimal', 'minor', 'mint', 'minute', 'minutes', 'misplace', 'misplaced', 'missed', 'misses', 'missing', 'mistake', 'mistaken', 'mistakes', 'mix', 'mo', 'model', 'modern', 'molars', 'mold', 'mom', 'moment', 'moments', 'mommies', 'mommy', 'moms', 'monday', 'money', 'monitor', 'month', 'months', 'mood', 'more', 'morning', 'mos', 'most', 'mostly', 'mother', 'mothers', 'motor', 'mouth', 'mouths', 'move', 'moved', 'movement', 'moves', 'movie', 'moving', 'mths', 'much', 'multiple', 'munch', 'munching', 'must', 'mutt', 'my', 'myself', 'mystery', 'nagging', 'name', 'named', 'nana', 'nanny', 'nap', 'naps', 'nary', 'natural', 'naturally', 'nature', 'near', 'nearly', 'neat', 'neato', 'necessarily', 'necessary', 'neck', 'need', 'needed', 'needless', 'needs', 'negative', 'neice', 'neighbor', 'neighborhood', 'nephew', 'nephews', 'nervous', 'neutral', 'never', 'nevertheless', 'new', 'newborn', 'newspaper', 'next', 'nibble', 'nibbles', 'nibbling', 'nice', 'nicely', 'nick', 'niece', 'nieces', 'night', 'nine', 'nip', 'nipple', 'nitrates', 'nitrosamines', 'no', 'noble', 'noice', 'noise', 'noises', 'noisy', 'non', 'none', 'nonetheless', 'nordstrom', 'normal', 'normally', 'nose', 'nostalgia', 'nostalgic', 'not', 'notable', 'note', 'nothing', 'noticed', 'noticing', 'now', 'nowhere', 'nubby', 'nubs', 'nuby', 'number', 'numerous', 'nuts', 'object', 'objects', 'obnoxious', 'obnoxiously', 'obsessed', 'obsession', 'obstruction', 'obvious', 'obviously', 'occasion', 'occasionally', 'occasions', 'occassion', 'occupied', 'occupy', 'occur', 'odd', 'odor', 'of', 'off', 'offer', 'offered', 'offers', 'official', 'often', 'oh', 'oil', 'ok', 'old', 'older', 'olds', 'on', 'once', 'one', 'ones', 'online', 'only', 'onto', 'open', 'opened', 'opening', 'opinion', 'opportunity', 'opposed', 'oprah', 'optimistic', 'option', 'options', 'or', 'orange', 'order', 'ordered', 'ordering', 'orginally', 'orgy', 'oriented', 'original', 'originally', 'origination', 'other', 'others', 'otherwise', 'ought', 'our', 'ours', 'out', 'outdoor', 'outings', 'outside', 'outweighed', 'over', 'overall', 'overlooks', 'overly', 'overpaid', 'overpriced', 'overrated', 'own', 'owned', 'owns', 'pace', 'paci', 'pacifer', 'pacifier', 'pacifiers', 'pacis', 'pack', 'package', 'packaged', 'packagin', 'packaging', 'paid', 'pain', 'painful', 'paint', 'painted', 'painting', 'paints', 'pamphlet', 'panicked', 'paper', 'parcel', 'parent', 'parenting', 'parents', 'park', 'part', 'particular', 'particularly', 'parts', 'pass', 'passed', 'passes', 'past', 'patches', 'patients', 'pay', 'payed', 'paying', 'peace', 'pealing', 'peanut', 'pediatrician', 'peekaboo', 'peeling', 'penney', 'penny', 'people', 'peppa', 'percent', 'perection', 'perfect', 'perfectly', 'perhaps', 'period', 'periods', 'perk', 'person', 'personally', 'pert', 'pervasive', 'pet', 'petsmart', 'phase', 'photographer', 'photos', 'phrase', 'phrases', 'phthalate', 'phthalates', 'pick', 'picks', 'picture', 'pictured', 'pictures', 'pie', 'piece', 'pig', 'pile', 'pink', 'pitched', 'pits', 'pity', 'place', 'placed', 'places', 'plain', 'plainly', 'plan', 'planning', 'plastic', 'plastics', 'play', 'played', 'playing', 'plays', 'playschool', 'playtime', 'plcces', 'pleasant', 'pleasantly', 'please', 'pleased', 'pleaser', 'pleases', 'pleasing', 'plenty', 'pliable', 'plus', 'plyable', 'pocket', 'point', 'pointed', 'points', 'poison', 'poisoning', 'pokes', 'polka', 'poor', 'pop', 'popped', 'pops', 'popular', 'popularity', 'populate', 'porus', 'positions', 'positive', 'possessed', 'possibilities', 'possible', 'possibly', 'post', 'posted', 'potent', 'potentially', 'ppl', 'practical', 'practically', 'practice', 'praise', 'pratise', 'prayers', 'pre', 'precious', 'prefer', 'preference', 'preferred', 'preferring', 'prefers', 'pregnancy', 'pregnant', 'prepared', 'present', 'presentationi', 'presents', 'press', 'pressed', 'presses', 'pressure', 'pretty', 'prevailed', 'prevent', 'previous', 'previously', 'price', 'priced', 'prices', 'pricey', 'pricier', 'pricy', 'prime', 'printed', 'prior', 'prisrob', 'prize', 'pro', 'probably', 'problem', 'problems', 'proceeded', 'proceeds', 'process', 'proclaimed', 'produces', 'product', 'productand', 'products', 'promised', 'promoting', 'promptly', 'proper', 'pros', 'proud', 'proven', 'provide', 'provider', 'provides', 'providing', 'pssshh', 'public', 'pull', 'pulled', 'puncture', 'pup', 'puppies', 'puppy', 'purchase', 'purchased', 'purchases', 'purchasing', 'puree', 'purply', 'purpose', 'purposed', 'purposes', 'pushed', 'pushing', 'put', 'puts', 'putting', 'qid', 'qualified', 'qualities', 'quality', 'question', 'questions', 'quick', 'quickly', 'quiet', 'quite', 'rabbit', 'race', 'rag', 'raised', 'rammed', 'ran', 'range', 'raomed', 'rapidly', 'rarely', 'raspberry', 'rate', 'rated', 'rates', 'rather', 'rating', 'ratings', 'rattles', 'rave', 'raved', 'raves', 'ravin', 'raving', 're', 'reach', 'reached', 'reaches', 'reaching', 'reacts', 'read', 'reading', 'ready', 'real', 'realize', 'realized', 'really', 'reason', 'reassure', 'recall', 'recalled', 'reccomend', 'receipt', 'receive', 'received', 'receiving', 'recent', 'recently', 'recevied', 'recieve', 'recipient', 'recipients', 'recommend', 'recommendation', 'recommended', 'reconize', 'recovered', 'red', 'ref', 'referring', 'reflects', 'refund', 'refused', 'refuses', 'regarding', 'regardless', 'regift', 'register', 'registering', 'registry', 'regret', 'regrets', 'regular', 'regularly', 'reintroducing', 'relatives', 'released', 'relief', 'relieve', 'relieved', 'relieves', 'relocate', 'reluctant', 'reluctantly', 'remained', 'remaining', 'remember', 'reminding', 'reminds', 'remorse', 'removed', 'rename', 'repackaged', 'repeated', 'repeatedly', 'replace', 'replacement', 'report', 'reputable', 'reputation', 'rescue', 'research', 'resemble', 'resembles', 'reserved', 'resiliant', 'resistant', 'resolves', 'respect', 'response', 'rest', 'restaurant', 'restaurants', 'restrict', 'result', 'retail', 'retailer', 'retirement', 'retro', 'return', 'returned', 'returning', 'review', 'reviewer', 'reviewers', 'reviewing', 'reviews', 'rhodesian', 'ribbon', 'rid', 'rides', 'ridgeback', 'ridiculous', 'ridiculously', 'right', 'ring', 'rings', 'rinse', 'rinsed', 'rip', 'risk', 'rocks', 'rolls', 'roman', 'room', 'rose', 'rosy', 'rotate', 'rough', 'round', 'rounded', 'rub', 'rubbed', 'rubber', 'rubbery', 'rubbing', 'ruber', 'rubs', 'rude', 'ruin', 'ruined', 'ruins', 'rules', 'rump', 'run', 'running', 'rustle', 'sad', 'sadly', 'safe', 'safer', 'safest', 'safety', 'said', 'sake', 'sale', 'saliva', 'salvation', 'same', 'sanitized', 'sanity', 'santa', 'sap', 'satisfaction', 'satisfied', 'satisfies', 'satisfy', 'satisfying', 'saudi', 'savage', 'save', 'saved', 'saver', 'saves', 'saving', 'saw', 'say', 'sayin', 'saying', 'says', 'sb', 'scare', 'scared', 'scares', 'scary', 'scattered', 'scene', 'scent', 'sceptical', 'schedule', 'schemed', 'school', 'scissors', 'scoffed', 'score', 'scoured', 'scream', 'screaming', 'screams', 'screen', 'screening', 'sealed', 'seams', 'searched', 'searching', 'seat', 'second', 'seconds', 'secret', 'secrets', 'securely', 'see', 'seeing', 'seem', 'seemed', 'seemingly', 'seems', 'seen', 'sees', 'select', 'sell', 'seller', 'sellers', 'selling', 'sells', 'semi', 'send', 'sense', 'senses', 'sensitive', 'sent', 'separate', 'serial', 'serious', 'seriously', 'serves', 'service', 'set', 'seven', 'seventeen', 'several', 'shadows', 'shake', 'shaking', 'shame', 'shape', 'shaped', 'shapes', 'share', 'she', 'sheesh', 'shelf', 'shipped', 'shipping', 'shocked', 'shoild', 'shopped', 'shopping', 'shops', 'short', 'shortly', 'shot', 'shots', 'shoud', 'should', 'shouldn', 'shoved', 'shoves', 'show', 'showe', 'showed', 'shower', 'showers', 'showing', 'shown', 'shows', 'siblings', 'side', 'sides', 'sidney', 'sight', 'signature', 'signs', 'silence', 'silent', 'silicone', 'silly', 'similar', 'simple', 'simply', 'since', 'sink', 'sister', 'sit', 'site', 'sits', 'sitting', 'sittng', 'six', 'sizable', 'size', 'sizes', 'skeptical', 'skills', 'skin', 'skinny', 'sleep', 'sleeping', 'sleeps', 'sleepy', 'slender', 'slept', 'slight', 'slightest', 'slightly', 'slim', 'slips', 'slobber', 'slobbered', 'slobbering', 'slobbery', 'slowly', 'smack', 'smacking', 'small', 'smaller', 'smashed', 'smashing', 'smear', 'smell', 'smelled', 'smells', 'smelly', 'smile', 'smiled', 'smiles', 'smiling', 'smooth', 'sneaky', 'sniffing', 'so', 'soaked', 'soap', 'soapy', 'sofie', 'soft', 'softer', 'softness', 'soiled', 'sold', 'solid', 'solved', 'some', 'someday', 'somehow', 'someone', 'something', 'sometimes', 'somewhat', 'somewhere', 'son', 'sons', 'soo', 'soon', 'soooo', 'sooooo', 'sooth', 'soothe', 'soothed', 'soothes', 'soothing', 'sooths', 'sophia', 'sophie', 'sophies', 'sopie', 'sore', 'sorely', 'sorry', 'sort', 'sorta', 'sorts', 'sound', 'sounds', 'spare', 'spark', 'special', 'specialty', 'specific', 'specifically', 'specifications', 'spectrum', 'spend', 'spending', 'spends', 'spent', 'spilled', 'spine', 'spit', 'spits', 'spitting', 'splitting', 'splurged', 'sponge', 'spoons', 'spot', 'spots', 'spotted', 'spreading', 'sqeaker', 'sqeaking', 'sqeaks', 'sqeek', 'sqeeks', 'sqeeze', 'squeak', 'squeaked', 'squeaker', 'squeaking', 'squeaks', 'squeaky', 'squeal', 'squeals', 'squeazing', 'squeek', 'squeeked', 'squeeker', 'squeeking', 'squeeks', 'squeeky', 'squeezable', 'squeeze', 'squeezed', 'squeezes', 'squeezing', 'squirms', 'squishy', 'sr', 'sr_1_2', 'st', 'stage', 'stages', 'stand', 'standard', 'standards', 'stands', 'star', 'stared', 'stares', 'staring', 'stars', 'start', 'started', 'starting', 'startled', 'startles', 'starts', 'state', 'stated', 'statement', 'stays', 'steal', 'stephanie', 'stepped', 'stepping', 'steps', 'sterilize', 'sterilized', 'sterilizer', 'stick', 'stickers', 'sticking', 'sticks', 'stiff', 'stiffer', 'still', 'stimulates', 'stimulating', 'stinky', 'stock', 'stop', 'stopped', 'stops', 'storage', 'store', 'stores', 'stories', 'story', 'straight', 'strange', 'strap', 'stressful', 'stretch', 'stretching', 'stride', 'strides', 'strolled', 'stroller', 'strong', 'stuck', 'stuff', 'stuffed', 'stuffs', 'stupid', 'stupidity', 'sturdy', 'styles', 'stylish', 'submerge', 'submerged', 'submerse', 'substance', 'substances', 'substantial', 'substitute', 'success', 'successful', 'successfully', 'such', 'suck', 'sucked', 'sucker', 'suckered', 'suckers', 'sucking', 'suckling', 'sucks', 'suddenly', 'suffered', 'suggest', 'suitable', 'sum', 'summary', 'summoned', 'super', 'superior', 'supervise', 'supervised', 'supplement', 'support', 'suppose', 'supprisely', 'sure', 'surface', 'surfaces', 'surgery', 'surounding', 'surprise', 'surprised', 'surprises', 'surprisingly', 'surrounding', 'survive', 'survived', 'survives', 'swallow', 'swayed', 'swear', 'sweet', 'sweetest', 'swiftly', 'swing', 'swipe', 'switch', 'switches', 'swore', 'tacky', 'tad', 'tag', 'tail', 'take', 'takes', 'taking', 'talk', 'talked', 'talking', 'tall', 'tammy', 'tapping', 'target', 'taste', 'tasted', 'tastes', 'tasts', 'taxi', 'teach', 'teacher', 'teaching', 'tear', 'tears', 'teather', 'teathing', 'technique', 'teeth', 'teethe', 'teethed', 'teether', 'teethers', 'teething', 'teethingcons', 'teethless', 'teeting', 'teh', 'telephone', 'tell', 'telling', 'tempting', 'ten', 'tend', 'tendency', 'tends', 'term', 'terrible', 'terribly', 'terrific', 'test', 'tested', 'testify', 'tether', 'tethers', 'text', 'texture', 'textures', 'than', 'thank', 'thankful', 'thankfully', 'thanks', 'that', 'the', 'their', 'theirs', 'them', 'themselves', 'then', 'ther', 'there', 'therefore', 'these', 'theses', 'they', 'thi', 'thick', 'thicker', 'thickness', 'thin', 'thing', 'things', 'think', 'thinking', 'thinks', 'third', 'this', 'thoroughly', 'those', 'though', 'thought', 'thoughts', 'thr', 'three', 'threw', 'thrilled', 'throat', 'through', 'througout', 'throw', 'throwing', 'thrown', 'throws', 'thru', 'thrush', 'thumb', 'thumbs', 'thus', 'ticket', 'tie', 'tied', 'tight', 'til', 'till', 'time', 'timeless', 'timeline', 'timely', 'times', 'tiniest', 'tiny', 'tip', 'tired', 'tires', 'tissue', 'title', 'to', 'today', 'toddler', 'toddlers', 'together', 'told', 'tolerable', 'tomorrow', 'ton', 'toned', 'tongue', 'tons', 'too', 'took', 'tooth', 'toothless', 'top', 'torn', 'tossing', 'tot', 'total', 'totally', 'totes', 'touch', 'touched', 'tough', 'tougher', 'toward', 'towards', 'towels', 'town', 'toxic', 'toxicity', 'toxin', 'toxins', 'toy', 'toyoverall', 'toys', 'track', 'trade', 'traditional', 'tragic', 'transitions', 'travel', 'travels', 'treat', 'tree', 'trees', 'trend', 'trendy', 'trhough', 'tried', 'tries', 'trigger', 'trip', 'triple', 'triplets', 'trips', 'trow', 'true', 'truly', 'trust', 'truth', 'try', 'trying', 'tub', 'tuck', 'tummy', 'turn', 'turned', 'turns', 'tv', 'twenty', 'twice', 'twin', 'twins', 'twist', 'two', 'type', 'typical', 'typs', 'ugh', 'unattended', 'unbeknownst', 'unbelievable', 'unboxed', 'unchanged', 'uncomfortable', 'uncoordinated', 'under', 'understand', 'understanding', 'understands', 'understood', 'unfortunately', 'unhappiness', 'unhappy', 'unheard', 'unhooked', 'unique', 'unless', 'unlike', 'unravel', 'unsafe', 'unsupervised', 'until', 'unusual', 'up', 'upcoming', 'update', 'upon', 'upper', 'upright', 'upset', 'urge', 'us', 'usa', 'usable', 'use', 'used', 'useful', 'useless', 'uses', 'using', 'usual', 'usually', 'utf8', 'vacation', 'vague', 'vaguely', 'vanilla', 'variation', 'variety', 'various', 've', 'vegetable', 'vendor', 'veritable', 'versions', 'versus', 'very', 'vibrant', 'vibrations', 'view', 'vintage', 'violet', 'virtually', 'visit', 'visiting', 'visits', 'visual', 'visually', 'viva', 'vocal', 'voice', 'vomited', 'vulli', 'waaaaaaaaay', 'wacking', 'waht', 'wailing', 'waist', 'wait', 'waited', 'waiting', 'walk', 'walking', 'want', 'wanted', 'wanting', 'wants', 'warm', 'warning', 'warrants', 'wary', 'was', 'wash', 'washable', 'washcloth', 'washed', 'washes', 'washing', 'washings', 'wasn', 'waste', 'wasted', 'wasteful', 'watch', 'watching', 'water', 'wave', 'waves', 'wavy', 'way', 'ways', 'we', 'wear', 'wearing', 'wears', 'website', 'wedged', 'wednesday', 'wee', 'weedee', 'week', 'weekend', 'weeks', 'weigh', 'weight', 'weird', 'welcome', 'well', 'went', 'were', 'weren', 'wet', 'whack', 'what', 'whatever', 'whats', 'when', 'whenever', 'where', 'whereas', 'wherever', 'wherevr', 'whether', 'which', 'while', 'whimsical', 'whirl', 'whiskey', 'white', 'who', 'whole', 'whom', 'whose', 'why', 'wife', 'wiggly', 'wil', 'will', 'willing', 'win', 'winner', 'winny', 'wipe', 'wiped', 'wipes', 'wise', 'wish', 'wishes', 'with', 'within', 'without', 'withstand', 'withstood', 'woken', 'won', 'wonder', 'wondered', 'wonderful', 'wonderfully', 'wondering', 'wonders', 'wont', 'wood', 'wooden', 'word', 'work', 'worked', 'working', 'works', 'world', 'worn', 'worried', 'worries', 'worry', 'worrying', 'worst', 'worth', 'worthwhile', 'worthy', 'would', 'wouldl', 'wouldn', 'wow', 'wrap', 'wrapped', 'wriggle', 'wrinkled', 'write', 'writing', 'written', 'wrong', 'wubbanub', 'www', 'xmas', 'yard', 'year', 'years', 'yellow', 'yells', 'yes', 'yesterday', 'yet', 'you', 'young', 'younger', 'your', 'yours', 'yourself', 'yucky', 'yum', 'yuppie', 'zoo']\n",
      "<Compressed Sparse Row sparse matrix of dtype 'float64'\n",
      "\twith 33027 stored elements and shape (717, 3242)>\n",
      "  Coords\tValues\n",
      "  (0, 1310)\t0.26076554430157395\n",
      "  (0, 1622)\t0.21156188865049852\n",
      "  (0, 490)\t0.18663351217696628\n",
      "  (0, 1935)\t0.09921738610940559\n",
      "  (0, 125)\t0.142283537504446\n",
      "  (0, 2863)\t0.22063214679127952\n",
      "  (0, 2013)\t0.30448061962631623\n",
      "  (0, 936)\t0.2515798078877113\n",
      "  (0, 1311)\t0.223019186409373\n",
      "  (0, 158)\t0.0688741088347302\n",
      "  (0, 872)\t0.21156188865049852\n",
      "  (0, 1501)\t0.06956083838504443\n",
      "  (0, 1298)\t0.2771584680815272\n",
      "  (0, 1327)\t0.34449853886352905\n",
      "  (0, 3146)\t0.12655069691064158\n",
      "  (0, 287)\t0.18971337054957016\n",
      "  (0, 644)\t0.34449853886352905\n",
      "  (0, 283)\t0.18300126717216023\n",
      "  (0, 1922)\t0.10493482953584538\n",
      "  (0, 2832)\t0.1255009651984985\n",
      "  (0, 1240)\t0.15049179019475573\n",
      "  (0, 2191)\t0.25393661077983853\n",
      "  (1, 1310)\t0.11609634368449018\n",
      "  (1, 2863)\t0.13097121712830864\n",
      "  (1, 158)\t0.06132736770616023\n",
      "  :\t:\n",
      "  (715, 327)\t0.29291414430609325\n",
      "  (715, 974)\t0.2752543483250839\n",
      "  (715, 809)\t0.2611135424197275\n",
      "  (715, 664)\t0.4121948894086321\n",
      "  (715, 1512)\t0.44108668217122865\n",
      "  (716, 2863)\t0.14948094329217426\n",
      "  (716, 1501)\t0.07069246179135154\n",
      "  (716, 2926)\t0.07626452801127027\n",
      "  (716, 2862)\t0.11941138067693426\n",
      "  (716, 246)\t0.11584082692952337\n",
      "  (716, 1875)\t0.1936089424390326\n",
      "  (716, 1682)\t0.18669827357162808\n",
      "  (716, 2607)\t0.10184600729241654\n",
      "  (716, 195)\t0.16927837280354213\n",
      "  (716, 2483)\t0.11476816686955313\n",
      "  (716, 2579)\t0.18742713848608986\n",
      "  (716, 1180)\t0.14862099059959738\n",
      "  (716, 2171)\t0.2818574816462599\n",
      "  (716, 1552)\t0.19526180867173168\n",
      "  (716, 2474)\t0.2580676796276019\n",
      "  (716, 1075)\t0.31561574794876673\n",
      "  (716, 918)\t0.3225264168161713\n",
      "  (716, 3185)\t0.3501028791657354\n",
      "  (716, 2942)\t0.2896921518319017\n",
      "  (716, 258)\t0.403864287155994\n",
      "['00' '09' '10' '100' '11' '12' '128522' '1360729347' '14' '15' '15months'\n",
      " '16' '16month' '17' '18' '19' '1956' '1961' '1st' '20' '2011' '2013'\n",
      " '2013well' '21' '21m' '22' '23' '25' '29' '2nd' '2yrs' '30' '34' '376'\n",
      " '3777th' '3mo' '3x' '40' '48' '4th' '50' '5mo' '5month' '5th' '5x' '65'\n",
      " '6m' '6mo' '6months' '6mos' '6th' '70' '7mo' '80' '8230' '99' 'ability'\n",
      " 'abit' 'able' 'about' 'absolute' 'absolutely' 'absorbing' 'abuse'\n",
      " 'abuses' 'acceptable' 'accessory' 'accident' 'accidently' 'accompanied'\n",
      " 'accompanying' 'account' 'accumulates' 'accurate' 'across' 'active'\n",
      " 'actively' 'actual' 'actually' 'add' 'added' 'addictive' 'adding'\n",
      " 'addition' 'additionally' 'addressing' 'adds' 'admit' 'admits' 'adopted'\n",
      " 'adorable' 'adore' 'adored' 'adores' 'adoring' 'adrienne' 'adroable'\n",
      " 'adult' 'advance' 'adventures' 'advertising' 'advice' 'advised' 'afraid'\n",
      " 'after' 'again' 'against' 'age' 'aggressive' 'ago' 'agree' 'agreed'\n",
      " 'ahead' 'aheadof' 'aid' 'aids' 'aim' 'air' 'airing' 'airway' 'aka'\n",
      " 'albino' 'alexander' 'alien' 'alimentary' 'all' 'allergies' 'allergy'\n",
      " 'alleviate' 'allmomsareperfect' 'allow' 'allows' 'almost' 'alone' 'along'\n",
      " 'alongside' 'alps' 'already' 'alright' 'also' 'alternative'\n",
      " 'alternatives' 'although' 'always' 'am' 'amazed' 'amazing' 'amazingly'\n",
      " 'amazon' 'ambiguous' 'ambitious' 'among' 'amongst' 'amount' 'amused'\n",
      " 'amuses' 'an' 'anaphylactic' 'and' 'anecdote' 'angle' 'angles' 'angry'\n",
      " 'announced' 'annoyance' 'annoyed' 'annoying' 'another' 'answer'\n",
      " 'answered' 'answers' 'any' 'anybody' 'anymore' 'anyone' 'anything'\n",
      " 'anyway' 'anyways' 'anywhere' 'apart' 'apparent' 'apparently' 'appeal'\n",
      " 'appealing' 'appeals' 'appear' 'appears' 'appendages' 'appreciate'\n",
      " 'appreciated' 'apprently' 'approriate' 'approved' 'approximately'\n",
      " 'arabia' 'are' 'area' 'areas' 'argue' 'arm']\n"
     ]
    }
   ],
   "source": [
    "vectorizer = TfidfVectorizer()\n",
    "# tokenize and build vocab\n",
    "review_new =product_reviews['review']\n",
    "vectorizer.fit(review_new)\n",
    "# summarize\n",
    "print(sorted(vectorizer.vocabulary_))\n",
    "# encode document\n",
    "vector = vectorizer.transform(review_new)\n",
    "review_new_vector = vectorizer.fit_transform(review_new)\n",
    "print(review_new_vector)\n",
    "words = vectorizer.get_feature_names_out()\n",
    "print(words[:200])"
   ]
  },
  {
   "cell_type": "code",
   "execution_count": 16,
   "metadata": {},
   "outputs": [
    {
     "name": "stdout",
     "output_type": "stream",
     "text": [
      "<Compressed Sparse Row sparse matrix of dtype 'float64'\n",
      "\twith 36207 stored elements and shape (517, 3617)>\n",
      "  Coords\tValues\n",
      "  (0, 1722)\t0.19160515276638848\n",
      "  (0, 1762)\t0.5410841504103927\n",
      "  (0, 2260)\t0.1735014259975402\n",
      "  (0, 3538)\t0.28414988737632785\n",
      "  (0, 2879)\t0.27064682050985134\n",
      "  (0, 3203)\t0.27064682050985134\n",
      "  (0, 1898)\t0.39322414233573466\n",
      "  (0, 2294)\t0.45042420153713814\n",
      "  (0, 3553)\t0.13417767736885905\n",
      "  (0, 3198)\t0.08693974931735989\n",
      "  (0, 530)\t0.1735014259975402\n",
      "  (1, 1722)\t0.20919408820933724\n",
      "  (1, 3553)\t0.09766326381785076\n",
      "  (1, 3198)\t0.221481467269265\n",
      "  (1, 3217)\t0.03618830101849707\n",
      "  (1, 1428)\t0.11633217968190873\n",
      "  (1, 1865)\t0.1777635211818235\n",
      "  (1, 2056)\t0.11872432025322971\n",
      "  (1, 1100)\t0.1263004067114023\n",
      "  (1, 1279)\t0.04303254007772529\n",
      "  (1, 2449)\t0.06626829290747732\n",
      "  (1, 3495)\t0.05264123732185446\n",
      "  (1, 459)\t0.08034496647029925\n",
      "  (1, 3259)\t0.11271558722388306\n",
      "  (1, 2637)\t0.1277656990032261\n",
      "  :\t:\n",
      "  (516, 1722)\t0.06464223427285348\n",
      "  (516, 2260)\t0.23413816724817396\n",
      "  (516, 3198)\t0.11732418594917439\n",
      "  (516, 530)\t0.11706908362408698\n",
      "  (516, 1428)\t0.10784203430659828\n",
      "  (516, 3495)\t0.19519751582847897\n",
      "  (516, 3259)\t0.2089787753917021\n",
      "  (516, 1602)\t0.08703003012270102\n",
      "  (516, 2824)\t0.1766457948208158\n",
      "  (516, 3388)\t0.12040429632183262\n",
      "  (516, 208)\t0.19018115989219728\n",
      "  (516, 2940)\t0.10286014086335186\n",
      "  (516, 2706)\t0.2819123236087818\n",
      "  (516, 2151)\t0.11271189133334958\n",
      "  (516, 3445)\t0.148962473739327\n",
      "  (516, 2081)\t0.2341655220550559\n",
      "  (516, 1479)\t0.19072451253173375\n",
      "  (516, 3404)\t0.26111243363909725\n",
      "  (516, 3574)\t0.12696262126699842\n",
      "  (516, 993)\t0.29533779816158756\n",
      "  (516, 180)\t0.12358695712882913\n",
      "  (516, 2272)\t0.18930718078389944\n",
      "  (516, 1557)\t0.1738841674398812\n",
      "  (516, 847)\t0.3039211246414275\n",
      "  (516, 2886)\t0.41144406692694546\n"
     ]
    },
    {
     "ename": "AttributeError",
     "evalue": "'HashingVectorizer' object has no attribute 'get_feature_names_out'",
     "output_type": "error",
     "traceback": [
      "\u001b[1;31m---------------------------------------------------------------------------\u001b[0m",
      "\u001b[1;31mAttributeError\u001b[0m                            Traceback (most recent call last)",
      "Cell \u001b[1;32mIn[16], line 11\u001b[0m\n\u001b[0;32m      9\u001b[0m review_bad_new_vector \u001b[38;5;241m=\u001b[39m vectorizer\u001b[38;5;241m.\u001b[39mfit_transform(review_bad_new)\n\u001b[0;32m     10\u001b[0m \u001b[38;5;28mprint\u001b[39m(review_bad_new_vector)\n\u001b[1;32m---> 11\u001b[0m words_bad \u001b[38;5;241m=\u001b[39m \u001b[43mvectorizer1\u001b[49m\u001b[38;5;241;43m.\u001b[39;49m\u001b[43mget_feature_names_out\u001b[49m()\n\u001b[0;32m     12\u001b[0m \u001b[38;5;28mprint\u001b[39m(words_bad[:\u001b[38;5;241m200\u001b[39m])\n",
      "\u001b[1;31mAttributeError\u001b[0m: 'HashingVectorizer' object has no attribute 'get_feature_names_out'"
     ]
    }
   ],
   "source": [
    "\n",
    "# tokenize and build vocab\n",
    "review_bad_new =product_bad_reviews['review']\n",
    "vectorizer1 = HashingVectorizer(n_features=3617)\n",
    "vectorizer1.fit(review_bad_new)\n",
    "# summarize\n",
    "#print(sorted(vectorizer1.vocabulary_))\n",
    "# encode document\n",
    "vector1 = vectorizer1.transform(review_bad_new)\n",
    "review_bad_new_vector = vectorizer.fit_transform(review_bad_new)\n",
    "print(review_bad_new_vector)\n",
    "words_bad = vectorizer1.get_feature_names_out()\n",
    "print(words_bad[:200])"
   ]
  },
  {
   "cell_type": "code",
   "execution_count": 17,
   "metadata": {},
   "outputs": [
    {
     "name": "stdout",
     "output_type": "stream",
     "text": [
      "34313     He likes chewing on all the parts especially t...\n",
      "34314     My son loves this toy and fits great in the di...\n",
      "34315     There really should be a large warning on the ...\n",
      "34316     All the moms in my moms\\' group got Sophie for...\n",
      "34317     I was a little skeptical on whether Sophie was...\n",
      "                                ...                        \n",
      "159649    My baby loves her Sophie Chew Toy. She can che...\n",
      "159650    Sophie the Giraffe was a big hit at the baby s...\n",
      "159651    quick shipping and perfect product. I would pu...\n",
      "159652    My baby who is currently teething love his Sop...\n",
      "159653    I know several baits that are enjoying the sof...\n",
      "Name: review, Length: 717, dtype: object\n",
      "<Compressed Sparse Row sparse matrix of dtype 'float64'\n",
      "\twith 33027 stored elements and shape (717, 3242)>\n",
      "  Coords\tValues\n",
      "  (0, 1310)\t0.26076554430157395\n",
      "  (0, 1622)\t0.21156188865049852\n",
      "  (0, 490)\t0.18663351217696628\n",
      "  (0, 1935)\t0.09921738610940559\n",
      "  (0, 125)\t0.142283537504446\n",
      "  (0, 2863)\t0.22063214679127952\n",
      "  (0, 2013)\t0.30448061962631623\n",
      "  (0, 936)\t0.2515798078877113\n",
      "  (0, 1311)\t0.223019186409373\n",
      "  (0, 158)\t0.0688741088347302\n",
      "  (0, 872)\t0.21156188865049852\n",
      "  (0, 1501)\t0.06956083838504443\n",
      "  (0, 1298)\t0.2771584680815272\n",
      "  (0, 1327)\t0.34449853886352905\n",
      "  (0, 3146)\t0.12655069691064158\n",
      "  (0, 287)\t0.18971337054957016\n",
      "  (0, 644)\t0.34449853886352905\n",
      "  (0, 283)\t0.18300126717216023\n",
      "  (0, 1922)\t0.10493482953584538\n",
      "  (0, 2832)\t0.1255009651984985\n",
      "  (0, 1240)\t0.15049179019475573\n",
      "  (0, 2191)\t0.25393661077983853\n",
      "  (1, 1310)\t0.11609634368449018\n",
      "  (1, 2863)\t0.13097121712830864\n",
      "  (1, 158)\t0.06132736770616023\n",
      "  :\t:\n",
      "  (715, 327)\t0.29291414430609325\n",
      "  (715, 974)\t0.2752543483250839\n",
      "  (715, 809)\t0.2611135424197275\n",
      "  (715, 664)\t0.4121948894086321\n",
      "  (715, 1512)\t0.44108668217122865\n",
      "  (716, 2863)\t0.14948094329217426\n",
      "  (716, 1501)\t0.07069246179135154\n",
      "  (716, 2926)\t0.07626452801127027\n",
      "  (716, 2862)\t0.11941138067693426\n",
      "  (716, 246)\t0.11584082692952337\n",
      "  (716, 1875)\t0.1936089424390326\n",
      "  (716, 1682)\t0.18669827357162808\n",
      "  (716, 2607)\t0.10184600729241654\n",
      "  (716, 195)\t0.16927837280354213\n",
      "  (716, 2483)\t0.11476816686955313\n",
      "  (716, 2579)\t0.18742713848608986\n",
      "  (716, 1180)\t0.14862099059959738\n",
      "  (716, 2171)\t0.2818574816462599\n",
      "  (716, 1552)\t0.19526180867173168\n",
      "  (716, 2474)\t0.2580676796276019\n",
      "  (716, 1075)\t0.31561574794876673\n",
      "  (716, 918)\t0.3225264168161713\n",
      "  (716, 3185)\t0.3501028791657354\n",
      "  (716, 2942)\t0.2896921518319017\n",
      "  (716, 258)\t0.403864287155994\n"
     ]
    }
   ],
   "source": [
    "print (review_new)\n",
    "print (review_new_vector)"
   ]
  },
  {
   "cell_type": "code",
   "execution_count": 18,
   "metadata": {},
   "outputs": [
    {
     "name": "stdout",
     "output_type": "stream",
     "text": [
      "Number of words: 3242\n"
     ]
    }
   ],
   "source": [
    "vocab_size = len(words)\n",
    "print(f'Number of words: {vocab_size}')"
   ]
  },
  {
   "cell_type": "code",
   "execution_count": 117,
   "metadata": {},
   "outputs": [
    {
     "name": "stdout",
     "output_type": "stream",
     "text": [
      "Number of words: 3617\n"
     ]
    }
   ],
   "source": [
    "vocab_bad_size = len(words_bad)\n",
    "print(f'Number of words: {vocab_bad_size}')"
   ]
  },
  {
   "cell_type": "code",
   "execution_count": 118,
   "metadata": {},
   "outputs": [
    {
     "name": "stdout",
     "output_type": "stream",
     "text": [
      "(717, 3242)\n",
      "[[0. 0. 0. ... 0. 0. 0.]\n",
      " [0. 0. 0. ... 0. 0. 0.]\n",
      " [0. 0. 0. ... 0. 0. 0.]\n",
      " ...\n",
      " [0. 0. 0. ... 0. 0. 0.]\n",
      " [0. 0. 0. ... 0. 0. 0.]\n",
      " [0. 0. 0. ... 0. 0. 0.]]\n"
     ]
    }
   ],
   "source": [
    "print(vector.shape)\n",
    "print(vector.toarray())\n"
   ]
  },
  {
   "cell_type": "code",
   "execution_count": 19,
   "metadata": {},
   "outputs": [
    {
     "name": "stdout",
     "output_type": "stream",
     "text": [
      "(517, 3617)\n",
      "[[0. 0. 0. ... 0. 0. 0.]\n",
      " [0. 0. 0. ... 0. 0. 0.]\n",
      " [0. 0. 0. ... 0. 0. 0.]\n",
      " ...\n",
      " [0. 0. 0. ... 0. 0. 0.]\n",
      " [0. 0. 0. ... 0. 0. 0.]\n",
      " [0. 0. 0. ... 0. 0. 0.]]\n"
     ]
    }
   ],
   "source": [
    "print(vector1.shape)\n",
    "print(vector1.toarray())"
   ]
  },
  {
   "cell_type": "code",
   "execution_count": 20,
   "metadata": {},
   "outputs": [
    {
     "name": "stdout",
     "output_type": "stream",
     "text": [
      "[5.86368088 6.55682806 4.25424297 ... 5.1705337  5.30406509 6.55682806]\n"
     ]
    },
    {
     "ename": "AttributeError",
     "evalue": "'HashingVectorizer' object has no attribute 'idf_'",
     "output_type": "error",
     "traceback": [
      "\u001b[1;31m---------------------------------------------------------------------------\u001b[0m",
      "\u001b[1;31mAttributeError\u001b[0m                            Traceback (most recent call last)",
      "Cell \u001b[1;32mIn[20], line 2\u001b[0m\n\u001b[0;32m      1\u001b[0m \u001b[38;5;28mprint\u001b[39m(vectorizer\u001b[38;5;241m.\u001b[39midf_)\n\u001b[1;32m----> 2\u001b[0m \u001b[38;5;28mprint\u001b[39m(\u001b[43mvectorizer1\u001b[49m\u001b[38;5;241;43m.\u001b[39;49m\u001b[43midf_\u001b[49m)\n",
      "\u001b[1;31mAttributeError\u001b[0m: 'HashingVectorizer' object has no attribute 'idf_'"
     ]
    }
   ],
   "source": [
    "print(vectorizer.idf_)\n",
    "print(vectorizer1.idf_)"
   ]
  },
  {
   "cell_type": "code",
   "execution_count": 21,
   "metadata": {},
   "outputs": [],
   "source": [
    "# Define features (X) and target (y)\n",
    "X = product_reviews['review'] # Text reviews\n",
    "y = product_reviews['rating']  # Binary target\n",
    "\n",
    "# Split the dataset into training and testing sets\n",
    "X_train, X_test, y_train, y_test = train_test_split(X, y, test_size=0.2, random_state=22)"
   ]
  },
  {
   "cell_type": "code",
   "execution_count": 22,
   "metadata": {},
   "outputs": [],
   "source": [
    "# Define features (X) and target (y)\n",
    "X1 = product_bad_reviews['review'] # Text reviews\n",
    "y1 = product_bad_reviews['rating']  # Binary target\n",
    "\n",
    "# Split the dataset into training and testing sets\n",
    "X1_train, X1_test, y1_train, y1_test = train_test_split(X1, y1, test_size=0.2, random_state=22)"
   ]
  },
  {
   "cell_type": "code",
   "execution_count": 23,
   "metadata": {},
   "outputs": [
    {
     "name": "stdout",
     "output_type": "stream",
     "text": [
      "34313     True\n",
      "34314     True\n",
      "34315    False\n",
      "34316     True\n",
      "34317     True\n",
      "         ...  \n",
      "34525    False\n",
      "34526     True\n",
      "34527     True\n",
      "34528     True\n",
      "34529     True\n",
      "Name: rating, Length: 200, dtype: bool\n",
      "Count of True: 624\n",
      "Count of False: 93\n"
     ]
    }
   ],
   "source": [
    "print(product_reviews['rating'][:200])\n",
    "count_true = (product_reviews['rating'] == True).sum()\n",
    "print(\"Count of True:\", count_true)\n",
    "count_true = (product_reviews['rating'] == False).sum()\n",
    "print(\"Count of False:\", count_true)\n"
   ]
  },
  {
   "cell_type": "code",
   "execution_count": 24,
   "metadata": {},
   "outputs": [
    {
     "name": "stdout",
     "output_type": "stream",
     "text": [
      "134502    False\n",
      "134503     True\n",
      "134504     True\n",
      "134505     True\n",
      "134506     True\n",
      "          ...  \n",
      "134707    False\n",
      "134708     True\n",
      "134709     True\n",
      "134710     True\n",
      "134711     True\n",
      "Name: rating, Length: 200, dtype: bool\n",
      "Count of True: 384\n",
      "Count of False: 133\n"
     ]
    }
   ],
   "source": [
    "print(product_bad_reviews['rating'][:200])\n",
    "count1_true = (product_bad_reviews['rating'] == True).sum()\n",
    "print(\"Count of True:\", count1_true)\n",
    "count1_true = (product_bad_reviews['rating'] == False).sum()\n",
    "print(\"Count of False:\", count1_true)"
   ]
  },
  {
   "cell_type": "code",
   "execution_count": 25,
   "metadata": {},
   "outputs": [
    {
     "name": "stdout",
     "output_type": "stream",
     "text": [
      "34313     He likes chewing on all the parts especially t...\n",
      "34314     My son loves this toy and fits great in the di...\n",
      "34315     There really should be a large warning on the ...\n",
      "34316     All the moms in my moms\\' group got Sophie for...\n",
      "34317     I was a little skeptical on whether Sophie was...\n",
      "                                ...                        \n",
      "159649    My baby loves her Sophie Chew Toy. She can che...\n",
      "159650    Sophie the Giraffe was a big hit at the baby s...\n",
      "159651    quick shipping and perfect product. I would pu...\n",
      "159652    My baby who is currently teething love his Sop...\n",
      "159653    I know several baits that are enjoying the sof...\n",
      "Name: review, Length: 717, dtype: object\n",
      "34313      True\n",
      "34314      True\n",
      "34315     False\n",
      "34316      True\n",
      "34317      True\n",
      "          ...  \n",
      "159649     True\n",
      "159650     True\n",
      "159651     True\n",
      "159652     True\n",
      "159653     True\n",
      "Name: rating, Length: 717, dtype: bool\n",
      "34313     True\n",
      "34314     True\n",
      "34315    False\n",
      "34316     True\n",
      "34317     True\n",
      "         ...  \n",
      "34525    False\n",
      "34526     True\n",
      "34527     True\n",
      "34528     True\n",
      "34529     True\n",
      "Name: rating, Length: 200, dtype: bool\n",
      "Count of True: 127\n",
      "Count of False: 17\n"
     ]
    }
   ],
   "source": [
    "print(X)\n",
    "print(y)\n",
    "print(y[:200])\n",
    "count_true = (y_test== True).sum()\n",
    "print(\"Count of True:\", count_true)\n",
    "count_false = (y_test== False).sum()\n",
    "print(\"Count of False:\", count_false)"
   ]
  },
  {
   "cell_type": "code",
   "execution_count": 26,
   "metadata": {},
   "outputs": [
    {
     "name": "stdout",
     "output_type": "stream",
     "text": [
      "<Compressed Sparse Row sparse matrix of dtype 'float64'\n",
      "\twith 3837 stored elements and shape (100, 3617)>\n",
      "  Coords\tValues\n",
      "  (0, 85)\t0.06920353673988622\n",
      "  (0, 88)\t0.18176510528908357\n",
      "  (0, 205)\t0.12877864858163987\n",
      "  (0, 208)\t0.03156114616240295\n",
      "  (0, 230)\t0.08056338498177681\n",
      "  (0, 275)\t0.06479402490046078\n",
      "  (0, 293)\t0.056717316109482094\n",
      "  (0, 328)\t0.28013964922277074\n",
      "  (0, 329)\t0.05341836641798753\n",
      "  (0, 368)\t0.06116887801296864\n",
      "  (0, 411)\t0.0865698310023242\n",
      "  (0, 416)\t0.12085474544967052\n",
      "  (0, 459)\t0.07416233672775438\n",
      "  (0, 509)\t0.04547721535149041\n",
      "  (0, 606)\t0.1298759423335636\n",
      "  (0, 747)\t0.13714907313801322\n",
      "  (0, 856)\t0.11174812014865763\n",
      "  (0, 980)\t0.08360440345253477\n",
      "  (0, 986)\t0.18176510528908357\n",
      "  (0, 1040)\t0.15636415229972803\n",
      "  (0, 1045)\t0.14703663738843178\n",
      "  (0, 1178)\t0.18176510528908357\n",
      "  (0, 1279)\t0.07944228164373177\n",
      "  (0, 1479)\t0.04747697579649215\n",
      "  (0, 1483)\t0.10088012564097636\n",
      "  :\t:\n",
      "  (98, 2842)\t0.47272074550992693\n",
      "  (98, 3195)\t0.19233727305681544\n",
      "  (98, 3198)\t0.03592446779232142\n",
      "  (98, 3221)\t0.13611948994413975\n",
      "  (98, 3259)\t0.12797789688632916\n",
      "  (98, 3290)\t0.1999462683794858\n",
      "  (98, 3388)\t0.07373518478354699\n",
      "  (98, 3464)\t0.41951193898511435\n",
      "  (98, 3485)\t0.19368860601419352\n",
      "  (99, 208)\t0.09632374503374716\n",
      "  (99, 263)\t0.19174668232855105\n",
      "  (99, 454)\t0.2971594932149885\n",
      "  (99, 983)\t0.24159249675116418\n",
      "  (99, 1279)\t0.12122782301020436\n",
      "  (99, 1722)\t0.19644160639380626\n",
      "  (99, 1737)\t0.3788104030965511\n",
      "  (99, 1760)\t0.3788104030965511\n",
      "  (99, 1906)\t0.4374542931648126\n",
      "  (99, 2102)\t0.14829667478530278\n",
      "  (99, 2209)\t0.13281354326272693\n",
      "  (99, 2497)\t0.3345408634057723\n",
      "  (99, 3198)\t0.17826852533762272\n",
      "  (99, 3209)\t0.22721814637368162\n",
      "  (99, 3217)\t0.10194678127264896\n",
      "  (99, 3522)\t0.17403455398087558\n"
     ]
    }
   ],
   "source": [
    "# Convert text data into numerical format using CountVectorizer for model training for SOPHI GIRAFFE\n",
    "X_train_vectorized = vectorizer.transform(X_train)\n",
    "X_test_vectorized = vectorizer.transform(X_test)\n",
    "\n",
    "print(X_train_vectorized[:100])\n"
   ]
  },
  {
   "cell_type": "code",
   "execution_count": 128,
   "metadata": {},
   "outputs": [
    {
     "name": "stdout",
     "output_type": "stream",
     "text": [
      "<Compressed Sparse Row sparse matrix of dtype 'float64'\n",
      "\twith 6781 stored elements and shape (100, 3617)>\n",
      "  Coords\tValues\n",
      "  (0, 20)\t0.07053456158585983\n",
      "  (0, 64)\t0.07053456158585983\n",
      "  (0, 108)\t0.07053456158585983\n",
      "  (0, 304)\t0.07053456158585983\n",
      "  (0, 312)\t0.07053456158585983\n",
      "  (0, 322)\t0.21160368475757949\n",
      "  (0, 325)\t0.14106912317171966\n",
      "  (0, 346)\t0.07053456158585983\n",
      "  (0, 518)\t-0.07053456158585983\n",
      "  (0, 640)\t-0.07053456158585983\n",
      "  (0, 708)\t-0.14106912317171966\n",
      "  (0, 717)\t-0.07053456158585983\n",
      "  (0, 873)\t-0.21160368475757949\n",
      "  (0, 1063)\t0.07053456158585983\n",
      "  (0, 1074)\t-0.07053456158585983\n",
      "  (0, 1139)\t0.07053456158585983\n",
      "  (0, 1141)\t0.07053456158585983\n",
      "  (0, 1156)\t0.07053456158585983\n",
      "  (0, 1173)\t0.07053456158585983\n",
      "  (0, 1214)\t0.21160368475757949\n",
      "  (0, 1496)\t-0.07053456158585983\n",
      "  (0, 1554)\t0.07053456158585983\n",
      "  (0, 1561)\t0.07053456158585983\n",
      "  (0, 1621)\t0.07053456158585983\n",
      "  (0, 1703)\t-0.07053456158585983\n",
      "  :\t:\n",
      "  (99, 1763)\t0.0873704056661038\n",
      "  (99, 1788)\t0.0873704056661038\n",
      "  (99, 1843)\t-0.0873704056661038\n",
      "  (99, 1868)\t0.0873704056661038\n",
      "  (99, 2208)\t-0.0873704056661038\n",
      "  (99, 2217)\t-0.1747408113322076\n",
      "  (99, 2334)\t0.0873704056661038\n",
      "  (99, 2493)\t-0.0873704056661038\n",
      "  (99, 2504)\t0.0873704056661038\n",
      "  (99, 2514)\t0.1747408113322076\n",
      "  (99, 2572)\t0.0873704056661038\n",
      "  (99, 2599)\t0.0873704056661038\n",
      "  (99, 2633)\t-0.0873704056661038\n",
      "  (99, 2716)\t0.1747408113322076\n",
      "  (99, 2749)\t0.1747408113322076\n",
      "  (99, 2934)\t0.0873704056661038\n",
      "  (99, 3004)\t0.26211121699831136\n",
      "  (99, 3043)\t0.0873704056661038\n",
      "  (99, 3285)\t0.0873704056661038\n",
      "  (99, 3338)\t-0.0873704056661038\n",
      "  (99, 3365)\t-0.0873704056661038\n",
      "  (99, 3413)\t0.26211121699831136\n",
      "  (99, 3455)\t0.0873704056661038\n",
      "  (99, 3480)\t0.1747408113322076\n",
      "  (99, 3567)\t-0.1747408113322076\n"
     ]
    }
   ],
   "source": [
    "# Convert text data into numerical format using CountVectorizer for model training for MONITOR\n",
    "X1_train_vectorized = vectorizer1.transform(X1_train)\n",
    "X1_test_vectorized = vectorizer1.transform(X1_test)\n",
    "\n",
    "print(X1_train_vectorized[:100])"
   ]
  },
  {
   "cell_type": "code",
   "execution_count": 129,
   "metadata": {},
   "outputs": [
    {
     "name": "stdout",
     "output_type": "stream",
     "text": [
      "X_train shape: (573, 3617)\n",
      "X_test shape: (144, 3617)\n",
      "y_train shape: 573\n",
      "y_test shape: 144\n"
     ]
    }
   ],
   "source": [
    "print(\"X_train shape:\", X_train_vectorized.shape)\n",
    "print(\"X_test shape:\", X_test_vectorized.shape)\n",
    "print(\"y_train shape:\", len(y_train))\n",
    "print(\"y_test shape:\", len(y_test))"
   ]
  },
  {
   "cell_type": "code",
   "execution_count": 130,
   "metadata": {},
   "outputs": [
    {
     "name": "stdout",
     "output_type": "stream",
     "text": [
      "X1_train shape: (413, 3617)\n",
      "X1_test shape: (104, 3617)\n",
      "y1_train shape: 413\n",
      "y1_test shape: 104\n"
     ]
    }
   ],
   "source": [
    "print(\"X1_train shape:\", X1_train_vectorized.shape)\n",
    "print(\"X1_test shape:\", X1_test_vectorized.shape)\n",
    "print(\"y1_train shape:\", len(y1_train))\n",
    "print(\"y1_test shape:\", len(y1_test))"
   ]
  },
  {
   "cell_type": "code",
   "execution_count": null,
   "metadata": {},
   "outputs": [
    {
     "data": {
      "text/html": [
       "<style>#sk-container-id-7 {\n",
       "  /* Definition of color scheme common for light and dark mode */\n",
       "  --sklearn-color-text: #000;\n",
       "  --sklearn-color-text-muted: #666;\n",
       "  --sklearn-color-line: gray;\n",
       "  /* Definition of color scheme for unfitted estimators */\n",
       "  --sklearn-color-unfitted-level-0: #fff5e6;\n",
       "  --sklearn-color-unfitted-level-1: #f6e4d2;\n",
       "  --sklearn-color-unfitted-level-2: #ffe0b3;\n",
       "  --sklearn-color-unfitted-level-3: chocolate;\n",
       "  /* Definition of color scheme for fitted estimators */\n",
       "  --sklearn-color-fitted-level-0: #f0f8ff;\n",
       "  --sklearn-color-fitted-level-1: #d4ebff;\n",
       "  --sklearn-color-fitted-level-2: #b3dbfd;\n",
       "  --sklearn-color-fitted-level-3: cornflowerblue;\n",
       "\n",
       "  /* Specific color for light theme */\n",
       "  --sklearn-color-text-on-default-background: var(--sg-text-color, var(--theme-code-foreground, var(--jp-content-font-color1, black)));\n",
       "  --sklearn-color-background: var(--sg-background-color, var(--theme-background, var(--jp-layout-color0, white)));\n",
       "  --sklearn-color-border-box: var(--sg-text-color, var(--theme-code-foreground, var(--jp-content-font-color1, black)));\n",
       "  --sklearn-color-icon: #696969;\n",
       "\n",
       "  @media (prefers-color-scheme: dark) {\n",
       "    /* Redefinition of color scheme for dark theme */\n",
       "    --sklearn-color-text-on-default-background: var(--sg-text-color, var(--theme-code-foreground, var(--jp-content-font-color1, white)));\n",
       "    --sklearn-color-background: var(--sg-background-color, var(--theme-background, var(--jp-layout-color0, #111)));\n",
       "    --sklearn-color-border-box: var(--sg-text-color, var(--theme-code-foreground, var(--jp-content-font-color1, white)));\n",
       "    --sklearn-color-icon: #878787;\n",
       "  }\n",
       "}\n",
       "\n",
       "#sk-container-id-7 {\n",
       "  color: var(--sklearn-color-text);\n",
       "}\n",
       "\n",
       "#sk-container-id-7 pre {\n",
       "  padding: 0;\n",
       "}\n",
       "\n",
       "#sk-container-id-7 input.sk-hidden--visually {\n",
       "  border: 0;\n",
       "  clip: rect(1px 1px 1px 1px);\n",
       "  clip: rect(1px, 1px, 1px, 1px);\n",
       "  height: 1px;\n",
       "  margin: -1px;\n",
       "  overflow: hidden;\n",
       "  padding: 0;\n",
       "  position: absolute;\n",
       "  width: 1px;\n",
       "}\n",
       "\n",
       "#sk-container-id-7 div.sk-dashed-wrapped {\n",
       "  border: 1px dashed var(--sklearn-color-line);\n",
       "  margin: 0 0.4em 0.5em 0.4em;\n",
       "  box-sizing: border-box;\n",
       "  padding-bottom: 0.4em;\n",
       "  background-color: var(--sklearn-color-background);\n",
       "}\n",
       "\n",
       "#sk-container-id-7 div.sk-container {\n",
       "  /* jupyter's `normalize.less` sets `[hidden] { display: none; }`\n",
       "     but bootstrap.min.css set `[hidden] { display: none !important; }`\n",
       "     so we also need the `!important` here to be able to override the\n",
       "     default hidden behavior on the sphinx rendered scikit-learn.org.\n",
       "     See: https://github.com/scikit-learn/scikit-learn/issues/21755 */\n",
       "  display: inline-block !important;\n",
       "  position: relative;\n",
       "}\n",
       "\n",
       "#sk-container-id-7 div.sk-text-repr-fallback {\n",
       "  display: none;\n",
       "}\n",
       "\n",
       "div.sk-parallel-item,\n",
       "div.sk-serial,\n",
       "div.sk-item {\n",
       "  /* draw centered vertical line to link estimators */\n",
       "  background-image: linear-gradient(var(--sklearn-color-text-on-default-background), var(--sklearn-color-text-on-default-background));\n",
       "  background-size: 2px 100%;\n",
       "  background-repeat: no-repeat;\n",
       "  background-position: center center;\n",
       "}\n",
       "\n",
       "/* Parallel-specific style estimator block */\n",
       "\n",
       "#sk-container-id-7 div.sk-parallel-item::after {\n",
       "  content: \"\";\n",
       "  width: 100%;\n",
       "  border-bottom: 2px solid var(--sklearn-color-text-on-default-background);\n",
       "  flex-grow: 1;\n",
       "}\n",
       "\n",
       "#sk-container-id-7 div.sk-parallel {\n",
       "  display: flex;\n",
       "  align-items: stretch;\n",
       "  justify-content: center;\n",
       "  background-color: var(--sklearn-color-background);\n",
       "  position: relative;\n",
       "}\n",
       "\n",
       "#sk-container-id-7 div.sk-parallel-item {\n",
       "  display: flex;\n",
       "  flex-direction: column;\n",
       "}\n",
       "\n",
       "#sk-container-id-7 div.sk-parallel-item:first-child::after {\n",
       "  align-self: flex-end;\n",
       "  width: 50%;\n",
       "}\n",
       "\n",
       "#sk-container-id-7 div.sk-parallel-item:last-child::after {\n",
       "  align-self: flex-start;\n",
       "  width: 50%;\n",
       "}\n",
       "\n",
       "#sk-container-id-7 div.sk-parallel-item:only-child::after {\n",
       "  width: 0;\n",
       "}\n",
       "\n",
       "/* Serial-specific style estimator block */\n",
       "\n",
       "#sk-container-id-7 div.sk-serial {\n",
       "  display: flex;\n",
       "  flex-direction: column;\n",
       "  align-items: center;\n",
       "  background-color: var(--sklearn-color-background);\n",
       "  padding-right: 1em;\n",
       "  padding-left: 1em;\n",
       "}\n",
       "\n",
       "\n",
       "/* Toggleable style: style used for estimator/Pipeline/ColumnTransformer box that is\n",
       "clickable and can be expanded/collapsed.\n",
       "- Pipeline and ColumnTransformer use this feature and define the default style\n",
       "- Estimators will overwrite some part of the style using the `sk-estimator` class\n",
       "*/\n",
       "\n",
       "/* Pipeline and ColumnTransformer style (default) */\n",
       "\n",
       "#sk-container-id-7 div.sk-toggleable {\n",
       "  /* Default theme specific background. It is overwritten whether we have a\n",
       "  specific estimator or a Pipeline/ColumnTransformer */\n",
       "  background-color: var(--sklearn-color-background);\n",
       "}\n",
       "\n",
       "/* Toggleable label */\n",
       "#sk-container-id-7 label.sk-toggleable__label {\n",
       "  cursor: pointer;\n",
       "  display: flex;\n",
       "  width: 100%;\n",
       "  margin-bottom: 0;\n",
       "  padding: 0.5em;\n",
       "  box-sizing: border-box;\n",
       "  text-align: center;\n",
       "  align-items: start;\n",
       "  justify-content: space-between;\n",
       "  gap: 0.5em;\n",
       "}\n",
       "\n",
       "#sk-container-id-7 label.sk-toggleable__label .caption {\n",
       "  font-size: 0.6rem;\n",
       "  font-weight: lighter;\n",
       "  color: var(--sklearn-color-text-muted);\n",
       "}\n",
       "\n",
       "#sk-container-id-7 label.sk-toggleable__label-arrow:before {\n",
       "  /* Arrow on the left of the label */\n",
       "  content: \"▸\";\n",
       "  float: left;\n",
       "  margin-right: 0.25em;\n",
       "  color: var(--sklearn-color-icon);\n",
       "}\n",
       "\n",
       "#sk-container-id-7 label.sk-toggleable__label-arrow:hover:before {\n",
       "  color: var(--sklearn-color-text);\n",
       "}\n",
       "\n",
       "/* Toggleable content - dropdown */\n",
       "\n",
       "#sk-container-id-7 div.sk-toggleable__content {\n",
       "  max-height: 0;\n",
       "  max-width: 0;\n",
       "  overflow: hidden;\n",
       "  text-align: left;\n",
       "  /* unfitted */\n",
       "  background-color: var(--sklearn-color-unfitted-level-0);\n",
       "}\n",
       "\n",
       "#sk-container-id-7 div.sk-toggleable__content.fitted {\n",
       "  /* fitted */\n",
       "  background-color: var(--sklearn-color-fitted-level-0);\n",
       "}\n",
       "\n",
       "#sk-container-id-7 div.sk-toggleable__content pre {\n",
       "  margin: 0.2em;\n",
       "  border-radius: 0.25em;\n",
       "  color: var(--sklearn-color-text);\n",
       "  /* unfitted */\n",
       "  background-color: var(--sklearn-color-unfitted-level-0);\n",
       "}\n",
       "\n",
       "#sk-container-id-7 div.sk-toggleable__content.fitted pre {\n",
       "  /* unfitted */\n",
       "  background-color: var(--sklearn-color-fitted-level-0);\n",
       "}\n",
       "\n",
       "#sk-container-id-7 input.sk-toggleable__control:checked~div.sk-toggleable__content {\n",
       "  /* Expand drop-down */\n",
       "  max-height: 200px;\n",
       "  max-width: 100%;\n",
       "  overflow: auto;\n",
       "}\n",
       "\n",
       "#sk-container-id-7 input.sk-toggleable__control:checked~label.sk-toggleable__label-arrow:before {\n",
       "  content: \"▾\";\n",
       "}\n",
       "\n",
       "/* Pipeline/ColumnTransformer-specific style */\n",
       "\n",
       "#sk-container-id-7 div.sk-label input.sk-toggleable__control:checked~label.sk-toggleable__label {\n",
       "  color: var(--sklearn-color-text);\n",
       "  background-color: var(--sklearn-color-unfitted-level-2);\n",
       "}\n",
       "\n",
       "#sk-container-id-7 div.sk-label.fitted input.sk-toggleable__control:checked~label.sk-toggleable__label {\n",
       "  background-color: var(--sklearn-color-fitted-level-2);\n",
       "}\n",
       "\n",
       "/* Estimator-specific style */\n",
       "\n",
       "/* Colorize estimator box */\n",
       "#sk-container-id-7 div.sk-estimator input.sk-toggleable__control:checked~label.sk-toggleable__label {\n",
       "  /* unfitted */\n",
       "  background-color: var(--sklearn-color-unfitted-level-2);\n",
       "}\n",
       "\n",
       "#sk-container-id-7 div.sk-estimator.fitted input.sk-toggleable__control:checked~label.sk-toggleable__label {\n",
       "  /* fitted */\n",
       "  background-color: var(--sklearn-color-fitted-level-2);\n",
       "}\n",
       "\n",
       "#sk-container-id-7 div.sk-label label.sk-toggleable__label,\n",
       "#sk-container-id-7 div.sk-label label {\n",
       "  /* The background is the default theme color */\n",
       "  color: var(--sklearn-color-text-on-default-background);\n",
       "}\n",
       "\n",
       "/* On hover, darken the color of the background */\n",
       "#sk-container-id-7 div.sk-label:hover label.sk-toggleable__label {\n",
       "  color: var(--sklearn-color-text);\n",
       "  background-color: var(--sklearn-color-unfitted-level-2);\n",
       "}\n",
       "\n",
       "/* Label box, darken color on hover, fitted */\n",
       "#sk-container-id-7 div.sk-label.fitted:hover label.sk-toggleable__label.fitted {\n",
       "  color: var(--sklearn-color-text);\n",
       "  background-color: var(--sklearn-color-fitted-level-2);\n",
       "}\n",
       "\n",
       "/* Estimator label */\n",
       "\n",
       "#sk-container-id-7 div.sk-label label {\n",
       "  font-family: monospace;\n",
       "  font-weight: bold;\n",
       "  display: inline-block;\n",
       "  line-height: 1.2em;\n",
       "}\n",
       "\n",
       "#sk-container-id-7 div.sk-label-container {\n",
       "  text-align: center;\n",
       "}\n",
       "\n",
       "/* Estimator-specific */\n",
       "#sk-container-id-7 div.sk-estimator {\n",
       "  font-family: monospace;\n",
       "  border: 1px dotted var(--sklearn-color-border-box);\n",
       "  border-radius: 0.25em;\n",
       "  box-sizing: border-box;\n",
       "  margin-bottom: 0.5em;\n",
       "  /* unfitted */\n",
       "  background-color: var(--sklearn-color-unfitted-level-0);\n",
       "}\n",
       "\n",
       "#sk-container-id-7 div.sk-estimator.fitted {\n",
       "  /* fitted */\n",
       "  background-color: var(--sklearn-color-fitted-level-0);\n",
       "}\n",
       "\n",
       "/* on hover */\n",
       "#sk-container-id-7 div.sk-estimator:hover {\n",
       "  /* unfitted */\n",
       "  background-color: var(--sklearn-color-unfitted-level-2);\n",
       "}\n",
       "\n",
       "#sk-container-id-7 div.sk-estimator.fitted:hover {\n",
       "  /* fitted */\n",
       "  background-color: var(--sklearn-color-fitted-level-2);\n",
       "}\n",
       "\n",
       "/* Specification for estimator info (e.g. \"i\" and \"?\") */\n",
       "\n",
       "/* Common style for \"i\" and \"?\" */\n",
       "\n",
       ".sk-estimator-doc-link,\n",
       "a:link.sk-estimator-doc-link,\n",
       "a:visited.sk-estimator-doc-link {\n",
       "  float: right;\n",
       "  font-size: smaller;\n",
       "  line-height: 1em;\n",
       "  font-family: monospace;\n",
       "  background-color: var(--sklearn-color-background);\n",
       "  border-radius: 1em;\n",
       "  height: 1em;\n",
       "  width: 1em;\n",
       "  text-decoration: none !important;\n",
       "  margin-left: 0.5em;\n",
       "  text-align: center;\n",
       "  /* unfitted */\n",
       "  border: var(--sklearn-color-unfitted-level-1) 1pt solid;\n",
       "  color: var(--sklearn-color-unfitted-level-1);\n",
       "}\n",
       "\n",
       ".sk-estimator-doc-link.fitted,\n",
       "a:link.sk-estimator-doc-link.fitted,\n",
       "a:visited.sk-estimator-doc-link.fitted {\n",
       "  /* fitted */\n",
       "  border: var(--sklearn-color-fitted-level-1) 1pt solid;\n",
       "  color: var(--sklearn-color-fitted-level-1);\n",
       "}\n",
       "\n",
       "/* On hover */\n",
       "div.sk-estimator:hover .sk-estimator-doc-link:hover,\n",
       ".sk-estimator-doc-link:hover,\n",
       "div.sk-label-container:hover .sk-estimator-doc-link:hover,\n",
       ".sk-estimator-doc-link:hover {\n",
       "  /* unfitted */\n",
       "  background-color: var(--sklearn-color-unfitted-level-3);\n",
       "  color: var(--sklearn-color-background);\n",
       "  text-decoration: none;\n",
       "}\n",
       "\n",
       "div.sk-estimator.fitted:hover .sk-estimator-doc-link.fitted:hover,\n",
       ".sk-estimator-doc-link.fitted:hover,\n",
       "div.sk-label-container:hover .sk-estimator-doc-link.fitted:hover,\n",
       ".sk-estimator-doc-link.fitted:hover {\n",
       "  /* fitted */\n",
       "  background-color: var(--sklearn-color-fitted-level-3);\n",
       "  color: var(--sklearn-color-background);\n",
       "  text-decoration: none;\n",
       "}\n",
       "\n",
       "/* Span, style for the box shown on hovering the info icon */\n",
       ".sk-estimator-doc-link span {\n",
       "  display: none;\n",
       "  z-index: 9999;\n",
       "  position: relative;\n",
       "  font-weight: normal;\n",
       "  right: .2ex;\n",
       "  padding: .5ex;\n",
       "  margin: .5ex;\n",
       "  width: min-content;\n",
       "  min-width: 20ex;\n",
       "  max-width: 50ex;\n",
       "  color: var(--sklearn-color-text);\n",
       "  box-shadow: 2pt 2pt 4pt #999;\n",
       "  /* unfitted */\n",
       "  background: var(--sklearn-color-unfitted-level-0);\n",
       "  border: .5pt solid var(--sklearn-color-unfitted-level-3);\n",
       "}\n",
       "\n",
       ".sk-estimator-doc-link.fitted span {\n",
       "  /* fitted */\n",
       "  background: var(--sklearn-color-fitted-level-0);\n",
       "  border: var(--sklearn-color-fitted-level-3);\n",
       "}\n",
       "\n",
       ".sk-estimator-doc-link:hover span {\n",
       "  display: block;\n",
       "}\n",
       "\n",
       "/* \"?\"-specific style due to the `<a>` HTML tag */\n",
       "\n",
       "#sk-container-id-7 a.estimator_doc_link {\n",
       "  float: right;\n",
       "  font-size: 1rem;\n",
       "  line-height: 1em;\n",
       "  font-family: monospace;\n",
       "  background-color: var(--sklearn-color-background);\n",
       "  border-radius: 1rem;\n",
       "  height: 1rem;\n",
       "  width: 1rem;\n",
       "  text-decoration: none;\n",
       "  /* unfitted */\n",
       "  color: var(--sklearn-color-unfitted-level-1);\n",
       "  border: var(--sklearn-color-unfitted-level-1) 1pt solid;\n",
       "}\n",
       "\n",
       "#sk-container-id-7 a.estimator_doc_link.fitted {\n",
       "  /* fitted */\n",
       "  border: var(--sklearn-color-fitted-level-1) 1pt solid;\n",
       "  color: var(--sklearn-color-fitted-level-1);\n",
       "}\n",
       "\n",
       "/* On hover */\n",
       "#sk-container-id-7 a.estimator_doc_link:hover {\n",
       "  /* unfitted */\n",
       "  background-color: var(--sklearn-color-unfitted-level-3);\n",
       "  color: var(--sklearn-color-background);\n",
       "  text-decoration: none;\n",
       "}\n",
       "\n",
       "#sk-container-id-7 a.estimator_doc_link.fitted:hover {\n",
       "  /* fitted */\n",
       "  background-color: var(--sklearn-color-fitted-level-3);\n",
       "}\n",
       "</style><div id=\"sk-container-id-7\" class=\"sk-top-container\"><div class=\"sk-text-repr-fallback\"><pre>LogisticRegression(class_weight=&#x27;balanced&#x27;, max_iter=1000, random_state=42)</pre><b>In a Jupyter environment, please rerun this cell to show the HTML representation or trust the notebook. <br />On GitHub, the HTML representation is unable to render, please try loading this page with nbviewer.org.</b></div><div class=\"sk-container\" hidden><div class=\"sk-item\"><div class=\"sk-estimator fitted sk-toggleable\"><input class=\"sk-toggleable__control sk-hidden--visually\" id=\"sk-estimator-id-7\" type=\"checkbox\" checked><label for=\"sk-estimator-id-7\" class=\"sk-toggleable__label fitted sk-toggleable__label-arrow\"><div><div>LogisticRegression</div></div><div><a class=\"sk-estimator-doc-link fitted\" rel=\"noreferrer\" target=\"_blank\" href=\"https://scikit-learn.org/1.6/modules/generated/sklearn.linear_model.LogisticRegression.html\">?<span>Documentation for LogisticRegression</span></a><span class=\"sk-estimator-doc-link fitted\">i<span>Fitted</span></span></div></label><div class=\"sk-toggleable__content fitted\"><pre>LogisticRegression(class_weight=&#x27;balanced&#x27;, max_iter=1000, random_state=42)</pre></div> </div></div></div></div>"
      ],
      "text/plain": [
       "LogisticRegression(class_weight='balanced', max_iter=1000, random_state=42)"
      ]
     },
     "execution_count": 131,
     "metadata": {},
     "output_type": "execute_result"
    }
   ],
   "source": [
    "model = LogisticRegression(class_weight='balanced',max_iter=1000, random_state=42) #Sophie GIRR\n",
    "model.fit(X_train_vectorized, y_train)"
   ]
  },
  {
   "cell_type": "code",
   "execution_count": 132,
   "metadata": {},
   "outputs": [
    {
     "data": {
      "text/html": [
       "<style>#sk-container-id-8 {\n",
       "  /* Definition of color scheme common for light and dark mode */\n",
       "  --sklearn-color-text: #000;\n",
       "  --sklearn-color-text-muted: #666;\n",
       "  --sklearn-color-line: gray;\n",
       "  /* Definition of color scheme for unfitted estimators */\n",
       "  --sklearn-color-unfitted-level-0: #fff5e6;\n",
       "  --sklearn-color-unfitted-level-1: #f6e4d2;\n",
       "  --sklearn-color-unfitted-level-2: #ffe0b3;\n",
       "  --sklearn-color-unfitted-level-3: chocolate;\n",
       "  /* Definition of color scheme for fitted estimators */\n",
       "  --sklearn-color-fitted-level-0: #f0f8ff;\n",
       "  --sklearn-color-fitted-level-1: #d4ebff;\n",
       "  --sklearn-color-fitted-level-2: #b3dbfd;\n",
       "  --sklearn-color-fitted-level-3: cornflowerblue;\n",
       "\n",
       "  /* Specific color for light theme */\n",
       "  --sklearn-color-text-on-default-background: var(--sg-text-color, var(--theme-code-foreground, var(--jp-content-font-color1, black)));\n",
       "  --sklearn-color-background: var(--sg-background-color, var(--theme-background, var(--jp-layout-color0, white)));\n",
       "  --sklearn-color-border-box: var(--sg-text-color, var(--theme-code-foreground, var(--jp-content-font-color1, black)));\n",
       "  --sklearn-color-icon: #696969;\n",
       "\n",
       "  @media (prefers-color-scheme: dark) {\n",
       "    /* Redefinition of color scheme for dark theme */\n",
       "    --sklearn-color-text-on-default-background: var(--sg-text-color, var(--theme-code-foreground, var(--jp-content-font-color1, white)));\n",
       "    --sklearn-color-background: var(--sg-background-color, var(--theme-background, var(--jp-layout-color0, #111)));\n",
       "    --sklearn-color-border-box: var(--sg-text-color, var(--theme-code-foreground, var(--jp-content-font-color1, white)));\n",
       "    --sklearn-color-icon: #878787;\n",
       "  }\n",
       "}\n",
       "\n",
       "#sk-container-id-8 {\n",
       "  color: var(--sklearn-color-text);\n",
       "}\n",
       "\n",
       "#sk-container-id-8 pre {\n",
       "  padding: 0;\n",
       "}\n",
       "\n",
       "#sk-container-id-8 input.sk-hidden--visually {\n",
       "  border: 0;\n",
       "  clip: rect(1px 1px 1px 1px);\n",
       "  clip: rect(1px, 1px, 1px, 1px);\n",
       "  height: 1px;\n",
       "  margin: -1px;\n",
       "  overflow: hidden;\n",
       "  padding: 0;\n",
       "  position: absolute;\n",
       "  width: 1px;\n",
       "}\n",
       "\n",
       "#sk-container-id-8 div.sk-dashed-wrapped {\n",
       "  border: 1px dashed var(--sklearn-color-line);\n",
       "  margin: 0 0.4em 0.5em 0.4em;\n",
       "  box-sizing: border-box;\n",
       "  padding-bottom: 0.4em;\n",
       "  background-color: var(--sklearn-color-background);\n",
       "}\n",
       "\n",
       "#sk-container-id-8 div.sk-container {\n",
       "  /* jupyter's `normalize.less` sets `[hidden] { display: none; }`\n",
       "     but bootstrap.min.css set `[hidden] { display: none !important; }`\n",
       "     so we also need the `!important` here to be able to override the\n",
       "     default hidden behavior on the sphinx rendered scikit-learn.org.\n",
       "     See: https://github.com/scikit-learn/scikit-learn/issues/21755 */\n",
       "  display: inline-block !important;\n",
       "  position: relative;\n",
       "}\n",
       "\n",
       "#sk-container-id-8 div.sk-text-repr-fallback {\n",
       "  display: none;\n",
       "}\n",
       "\n",
       "div.sk-parallel-item,\n",
       "div.sk-serial,\n",
       "div.sk-item {\n",
       "  /* draw centered vertical line to link estimators */\n",
       "  background-image: linear-gradient(var(--sklearn-color-text-on-default-background), var(--sklearn-color-text-on-default-background));\n",
       "  background-size: 2px 100%;\n",
       "  background-repeat: no-repeat;\n",
       "  background-position: center center;\n",
       "}\n",
       "\n",
       "/* Parallel-specific style estimator block */\n",
       "\n",
       "#sk-container-id-8 div.sk-parallel-item::after {\n",
       "  content: \"\";\n",
       "  width: 100%;\n",
       "  border-bottom: 2px solid var(--sklearn-color-text-on-default-background);\n",
       "  flex-grow: 1;\n",
       "}\n",
       "\n",
       "#sk-container-id-8 div.sk-parallel {\n",
       "  display: flex;\n",
       "  align-items: stretch;\n",
       "  justify-content: center;\n",
       "  background-color: var(--sklearn-color-background);\n",
       "  position: relative;\n",
       "}\n",
       "\n",
       "#sk-container-id-8 div.sk-parallel-item {\n",
       "  display: flex;\n",
       "  flex-direction: column;\n",
       "}\n",
       "\n",
       "#sk-container-id-8 div.sk-parallel-item:first-child::after {\n",
       "  align-self: flex-end;\n",
       "  width: 50%;\n",
       "}\n",
       "\n",
       "#sk-container-id-8 div.sk-parallel-item:last-child::after {\n",
       "  align-self: flex-start;\n",
       "  width: 50%;\n",
       "}\n",
       "\n",
       "#sk-container-id-8 div.sk-parallel-item:only-child::after {\n",
       "  width: 0;\n",
       "}\n",
       "\n",
       "/* Serial-specific style estimator block */\n",
       "\n",
       "#sk-container-id-8 div.sk-serial {\n",
       "  display: flex;\n",
       "  flex-direction: column;\n",
       "  align-items: center;\n",
       "  background-color: var(--sklearn-color-background);\n",
       "  padding-right: 1em;\n",
       "  padding-left: 1em;\n",
       "}\n",
       "\n",
       "\n",
       "/* Toggleable style: style used for estimator/Pipeline/ColumnTransformer box that is\n",
       "clickable and can be expanded/collapsed.\n",
       "- Pipeline and ColumnTransformer use this feature and define the default style\n",
       "- Estimators will overwrite some part of the style using the `sk-estimator` class\n",
       "*/\n",
       "\n",
       "/* Pipeline and ColumnTransformer style (default) */\n",
       "\n",
       "#sk-container-id-8 div.sk-toggleable {\n",
       "  /* Default theme specific background. It is overwritten whether we have a\n",
       "  specific estimator or a Pipeline/ColumnTransformer */\n",
       "  background-color: var(--sklearn-color-background);\n",
       "}\n",
       "\n",
       "/* Toggleable label */\n",
       "#sk-container-id-8 label.sk-toggleable__label {\n",
       "  cursor: pointer;\n",
       "  display: flex;\n",
       "  width: 100%;\n",
       "  margin-bottom: 0;\n",
       "  padding: 0.5em;\n",
       "  box-sizing: border-box;\n",
       "  text-align: center;\n",
       "  align-items: start;\n",
       "  justify-content: space-between;\n",
       "  gap: 0.5em;\n",
       "}\n",
       "\n",
       "#sk-container-id-8 label.sk-toggleable__label .caption {\n",
       "  font-size: 0.6rem;\n",
       "  font-weight: lighter;\n",
       "  color: var(--sklearn-color-text-muted);\n",
       "}\n",
       "\n",
       "#sk-container-id-8 label.sk-toggleable__label-arrow:before {\n",
       "  /* Arrow on the left of the label */\n",
       "  content: \"▸\";\n",
       "  float: left;\n",
       "  margin-right: 0.25em;\n",
       "  color: var(--sklearn-color-icon);\n",
       "}\n",
       "\n",
       "#sk-container-id-8 label.sk-toggleable__label-arrow:hover:before {\n",
       "  color: var(--sklearn-color-text);\n",
       "}\n",
       "\n",
       "/* Toggleable content - dropdown */\n",
       "\n",
       "#sk-container-id-8 div.sk-toggleable__content {\n",
       "  max-height: 0;\n",
       "  max-width: 0;\n",
       "  overflow: hidden;\n",
       "  text-align: left;\n",
       "  /* unfitted */\n",
       "  background-color: var(--sklearn-color-unfitted-level-0);\n",
       "}\n",
       "\n",
       "#sk-container-id-8 div.sk-toggleable__content.fitted {\n",
       "  /* fitted */\n",
       "  background-color: var(--sklearn-color-fitted-level-0);\n",
       "}\n",
       "\n",
       "#sk-container-id-8 div.sk-toggleable__content pre {\n",
       "  margin: 0.2em;\n",
       "  border-radius: 0.25em;\n",
       "  color: var(--sklearn-color-text);\n",
       "  /* unfitted */\n",
       "  background-color: var(--sklearn-color-unfitted-level-0);\n",
       "}\n",
       "\n",
       "#sk-container-id-8 div.sk-toggleable__content.fitted pre {\n",
       "  /* unfitted */\n",
       "  background-color: var(--sklearn-color-fitted-level-0);\n",
       "}\n",
       "\n",
       "#sk-container-id-8 input.sk-toggleable__control:checked~div.sk-toggleable__content {\n",
       "  /* Expand drop-down */\n",
       "  max-height: 200px;\n",
       "  max-width: 100%;\n",
       "  overflow: auto;\n",
       "}\n",
       "\n",
       "#sk-container-id-8 input.sk-toggleable__control:checked~label.sk-toggleable__label-arrow:before {\n",
       "  content: \"▾\";\n",
       "}\n",
       "\n",
       "/* Pipeline/ColumnTransformer-specific style */\n",
       "\n",
       "#sk-container-id-8 div.sk-label input.sk-toggleable__control:checked~label.sk-toggleable__label {\n",
       "  color: var(--sklearn-color-text);\n",
       "  background-color: var(--sklearn-color-unfitted-level-2);\n",
       "}\n",
       "\n",
       "#sk-container-id-8 div.sk-label.fitted input.sk-toggleable__control:checked~label.sk-toggleable__label {\n",
       "  background-color: var(--sklearn-color-fitted-level-2);\n",
       "}\n",
       "\n",
       "/* Estimator-specific style */\n",
       "\n",
       "/* Colorize estimator box */\n",
       "#sk-container-id-8 div.sk-estimator input.sk-toggleable__control:checked~label.sk-toggleable__label {\n",
       "  /* unfitted */\n",
       "  background-color: var(--sklearn-color-unfitted-level-2);\n",
       "}\n",
       "\n",
       "#sk-container-id-8 div.sk-estimator.fitted input.sk-toggleable__control:checked~label.sk-toggleable__label {\n",
       "  /* fitted */\n",
       "  background-color: var(--sklearn-color-fitted-level-2);\n",
       "}\n",
       "\n",
       "#sk-container-id-8 div.sk-label label.sk-toggleable__label,\n",
       "#sk-container-id-8 div.sk-label label {\n",
       "  /* The background is the default theme color */\n",
       "  color: var(--sklearn-color-text-on-default-background);\n",
       "}\n",
       "\n",
       "/* On hover, darken the color of the background */\n",
       "#sk-container-id-8 div.sk-label:hover label.sk-toggleable__label {\n",
       "  color: var(--sklearn-color-text);\n",
       "  background-color: var(--sklearn-color-unfitted-level-2);\n",
       "}\n",
       "\n",
       "/* Label box, darken color on hover, fitted */\n",
       "#sk-container-id-8 div.sk-label.fitted:hover label.sk-toggleable__label.fitted {\n",
       "  color: var(--sklearn-color-text);\n",
       "  background-color: var(--sklearn-color-fitted-level-2);\n",
       "}\n",
       "\n",
       "/* Estimator label */\n",
       "\n",
       "#sk-container-id-8 div.sk-label label {\n",
       "  font-family: monospace;\n",
       "  font-weight: bold;\n",
       "  display: inline-block;\n",
       "  line-height: 1.2em;\n",
       "}\n",
       "\n",
       "#sk-container-id-8 div.sk-label-container {\n",
       "  text-align: center;\n",
       "}\n",
       "\n",
       "/* Estimator-specific */\n",
       "#sk-container-id-8 div.sk-estimator {\n",
       "  font-family: monospace;\n",
       "  border: 1px dotted var(--sklearn-color-border-box);\n",
       "  border-radius: 0.25em;\n",
       "  box-sizing: border-box;\n",
       "  margin-bottom: 0.5em;\n",
       "  /* unfitted */\n",
       "  background-color: var(--sklearn-color-unfitted-level-0);\n",
       "}\n",
       "\n",
       "#sk-container-id-8 div.sk-estimator.fitted {\n",
       "  /* fitted */\n",
       "  background-color: var(--sklearn-color-fitted-level-0);\n",
       "}\n",
       "\n",
       "/* on hover */\n",
       "#sk-container-id-8 div.sk-estimator:hover {\n",
       "  /* unfitted */\n",
       "  background-color: var(--sklearn-color-unfitted-level-2);\n",
       "}\n",
       "\n",
       "#sk-container-id-8 div.sk-estimator.fitted:hover {\n",
       "  /* fitted */\n",
       "  background-color: var(--sklearn-color-fitted-level-2);\n",
       "}\n",
       "\n",
       "/* Specification for estimator info (e.g. \"i\" and \"?\") */\n",
       "\n",
       "/* Common style for \"i\" and \"?\" */\n",
       "\n",
       ".sk-estimator-doc-link,\n",
       "a:link.sk-estimator-doc-link,\n",
       "a:visited.sk-estimator-doc-link {\n",
       "  float: right;\n",
       "  font-size: smaller;\n",
       "  line-height: 1em;\n",
       "  font-family: monospace;\n",
       "  background-color: var(--sklearn-color-background);\n",
       "  border-radius: 1em;\n",
       "  height: 1em;\n",
       "  width: 1em;\n",
       "  text-decoration: none !important;\n",
       "  margin-left: 0.5em;\n",
       "  text-align: center;\n",
       "  /* unfitted */\n",
       "  border: var(--sklearn-color-unfitted-level-1) 1pt solid;\n",
       "  color: var(--sklearn-color-unfitted-level-1);\n",
       "}\n",
       "\n",
       ".sk-estimator-doc-link.fitted,\n",
       "a:link.sk-estimator-doc-link.fitted,\n",
       "a:visited.sk-estimator-doc-link.fitted {\n",
       "  /* fitted */\n",
       "  border: var(--sklearn-color-fitted-level-1) 1pt solid;\n",
       "  color: var(--sklearn-color-fitted-level-1);\n",
       "}\n",
       "\n",
       "/* On hover */\n",
       "div.sk-estimator:hover .sk-estimator-doc-link:hover,\n",
       ".sk-estimator-doc-link:hover,\n",
       "div.sk-label-container:hover .sk-estimator-doc-link:hover,\n",
       ".sk-estimator-doc-link:hover {\n",
       "  /* unfitted */\n",
       "  background-color: var(--sklearn-color-unfitted-level-3);\n",
       "  color: var(--sklearn-color-background);\n",
       "  text-decoration: none;\n",
       "}\n",
       "\n",
       "div.sk-estimator.fitted:hover .sk-estimator-doc-link.fitted:hover,\n",
       ".sk-estimator-doc-link.fitted:hover,\n",
       "div.sk-label-container:hover .sk-estimator-doc-link.fitted:hover,\n",
       ".sk-estimator-doc-link.fitted:hover {\n",
       "  /* fitted */\n",
       "  background-color: var(--sklearn-color-fitted-level-3);\n",
       "  color: var(--sklearn-color-background);\n",
       "  text-decoration: none;\n",
       "}\n",
       "\n",
       "/* Span, style for the box shown on hovering the info icon */\n",
       ".sk-estimator-doc-link span {\n",
       "  display: none;\n",
       "  z-index: 9999;\n",
       "  position: relative;\n",
       "  font-weight: normal;\n",
       "  right: .2ex;\n",
       "  padding: .5ex;\n",
       "  margin: .5ex;\n",
       "  width: min-content;\n",
       "  min-width: 20ex;\n",
       "  max-width: 50ex;\n",
       "  color: var(--sklearn-color-text);\n",
       "  box-shadow: 2pt 2pt 4pt #999;\n",
       "  /* unfitted */\n",
       "  background: var(--sklearn-color-unfitted-level-0);\n",
       "  border: .5pt solid var(--sklearn-color-unfitted-level-3);\n",
       "}\n",
       "\n",
       ".sk-estimator-doc-link.fitted span {\n",
       "  /* fitted */\n",
       "  background: var(--sklearn-color-fitted-level-0);\n",
       "  border: var(--sklearn-color-fitted-level-3);\n",
       "}\n",
       "\n",
       ".sk-estimator-doc-link:hover span {\n",
       "  display: block;\n",
       "}\n",
       "\n",
       "/* \"?\"-specific style due to the `<a>` HTML tag */\n",
       "\n",
       "#sk-container-id-8 a.estimator_doc_link {\n",
       "  float: right;\n",
       "  font-size: 1rem;\n",
       "  line-height: 1em;\n",
       "  font-family: monospace;\n",
       "  background-color: var(--sklearn-color-background);\n",
       "  border-radius: 1rem;\n",
       "  height: 1rem;\n",
       "  width: 1rem;\n",
       "  text-decoration: none;\n",
       "  /* unfitted */\n",
       "  color: var(--sklearn-color-unfitted-level-1);\n",
       "  border: var(--sklearn-color-unfitted-level-1) 1pt solid;\n",
       "}\n",
       "\n",
       "#sk-container-id-8 a.estimator_doc_link.fitted {\n",
       "  /* fitted */\n",
       "  border: var(--sklearn-color-fitted-level-1) 1pt solid;\n",
       "  color: var(--sklearn-color-fitted-level-1);\n",
       "}\n",
       "\n",
       "/* On hover */\n",
       "#sk-container-id-8 a.estimator_doc_link:hover {\n",
       "  /* unfitted */\n",
       "  background-color: var(--sklearn-color-unfitted-level-3);\n",
       "  color: var(--sklearn-color-background);\n",
       "  text-decoration: none;\n",
       "}\n",
       "\n",
       "#sk-container-id-8 a.estimator_doc_link.fitted:hover {\n",
       "  /* fitted */\n",
       "  background-color: var(--sklearn-color-fitted-level-3);\n",
       "}\n",
       "</style><div id=\"sk-container-id-8\" class=\"sk-top-container\"><div class=\"sk-text-repr-fallback\"><pre>LogisticRegression(class_weight=&#x27;balanced&#x27;, max_iter=1000, random_state=42)</pre><b>In a Jupyter environment, please rerun this cell to show the HTML representation or trust the notebook. <br />On GitHub, the HTML representation is unable to render, please try loading this page with nbviewer.org.</b></div><div class=\"sk-container\" hidden><div class=\"sk-item\"><div class=\"sk-estimator fitted sk-toggleable\"><input class=\"sk-toggleable__control sk-hidden--visually\" id=\"sk-estimator-id-8\" type=\"checkbox\" checked><label for=\"sk-estimator-id-8\" class=\"sk-toggleable__label fitted sk-toggleable__label-arrow\"><div><div>LogisticRegression</div></div><div><a class=\"sk-estimator-doc-link fitted\" rel=\"noreferrer\" target=\"_blank\" href=\"https://scikit-learn.org/1.6/modules/generated/sklearn.linear_model.LogisticRegression.html\">?<span>Documentation for LogisticRegression</span></a><span class=\"sk-estimator-doc-link fitted\">i<span>Fitted</span></span></div></label><div class=\"sk-toggleable__content fitted\"><pre>LogisticRegression(class_weight=&#x27;balanced&#x27;, max_iter=1000, random_state=42)</pre></div> </div></div></div></div>"
      ],
      "text/plain": [
       "LogisticRegression(class_weight='balanced', max_iter=1000, random_state=42)"
      ]
     },
     "execution_count": 132,
     "metadata": {},
     "output_type": "execute_result"
    }
   ],
   "source": [
    "model1 = LogisticRegression(class_weight='balanced',max_iter=1000, random_state=42) #Monitor \n",
    "model1.fit(X1_train_vectorized, y1_train)"
   ]
  },
  {
   "cell_type": "code",
   "execution_count": 133,
   "metadata": {},
   "outputs": [
    {
     "name": "stdout",
     "output_type": "stream",
     "text": [
      "Predictions: [ True  True  True  True  True  True  True  True  True  True]\n"
     ]
    }
   ],
   "source": [
    "y_pred = model.predict(X_test_vectorized)\n",
    "print(\"Predictions:\", y_pred[:10])  # Display first 10 predictions"
   ]
  },
  {
   "cell_type": "code",
   "execution_count": 134,
   "metadata": {},
   "outputs": [
    {
     "name": "stdout",
     "output_type": "stream",
     "text": [
      "Predictions: [False  True  True  True  True  True  True  True  True  True]\n"
     ]
    }
   ],
   "source": [
    "y1_pred = model.predict(X1_test_vectorized)\n",
    "print(\"Predictions:\", y1_pred[:10])  # Display first 10 predictions"
   ]
  },
  {
   "cell_type": "code",
   "execution_count": 135,
   "metadata": {},
   "outputs": [
    {
     "name": "stdout",
     "output_type": "stream",
     "text": [
      "Accuracy: 0.8888888888888888\n",
      "Classification Report:\n",
      "              precision    recall  f1-score   support\n",
      "\n",
      "       False       0.52      0.65      0.58        17\n",
      "        True       0.95      0.92      0.94       127\n",
      "\n",
      "    accuracy                           0.89       144\n",
      "   macro avg       0.74      0.78      0.76       144\n",
      "weighted avg       0.90      0.89      0.89       144\n",
      "\n"
     ]
    }
   ],
   "source": [
    "accuracy = accuracy_score(y_test, y_pred)\n",
    "print(\"Accuracy:\", accuracy)\n",
    "\n",
    "# Classification report\n",
    "print(\"Classification Report:\")\n",
    "print(classification_report(y_test, y_pred))"
   ]
  },
  {
   "cell_type": "code",
   "execution_count": 136,
   "metadata": {},
   "outputs": [
    {
     "name": "stdout",
     "output_type": "stream",
     "text": [
      "Accuracy: 0.8076923076923077\n",
      "Classification Report:\n",
      "              precision    recall  f1-score   support\n",
      "\n",
      "       False       0.00      0.00      0.00        19\n",
      "        True       0.82      0.99      0.89        85\n",
      "\n",
      "    accuracy                           0.81       104\n",
      "   macro avg       0.41      0.49      0.45       104\n",
      "weighted avg       0.67      0.81      0.73       104\n",
      "\n"
     ]
    }
   ],
   "source": [
    "accuracy = accuracy_score(y1_test, y1_pred)\n",
    "print(\"Accuracy:\", accuracy)\n",
    "\n",
    "# Classification report\n",
    "print(\"Classification Report:\")\n",
    "print(classification_report(y1_test, y1_pred))"
   ]
  },
  {
   "cell_type": "code",
   "execution_count": 137,
   "metadata": {},
   "outputs": [
    {
     "data": {
      "image/png": "[encoded data removed]",
      "text/plain": [
       "<Figure size 640x480 with 2 Axes>"
      ]
     },
     "metadata": {},
     "output_type": "display_data"
    }
   ],
   "source": [
    "# Plot confusion matrix\n",
    "conf_matrix = confusion_matrix(y_test, y_pred)\n",
    "sns.heatmap(conf_matrix, annot=True, fmt='d', cmap='Greens')\n",
    "plt.title('Confusion Matrix for SOPHIE GIRAFFE')\n",
    "plt.xlabel('Predicted')\n",
    "plt.ylabel('Actual')\n",
    "plt.show()"
   ]
  },
  {
   "cell_type": "code",
   "execution_count": 138,
   "metadata": {},
   "outputs": [
    {
     "data": {
      "image/png": "[encoded data removed]",
      "text/plain": [
       "<Figure size 640x480 with 2 Axes>"
      ]
     },
     "metadata": {},
     "output_type": "display_data"
    }
   ],
   "source": [
    "# Plot confusion matrix\n",
    "conf_matrix = confusion_matrix(y1_test, y1_pred)\n",
    "sns.heatmap(conf_matrix, annot=True, fmt='d', cmap='Greens')\n",
    "plt.title('Confusion Matrix for BABY MONITOR')\n",
    "plt.xlabel('Predicted')\n",
    "plt.ylabel('Actual')\n",
    "plt.show()"
   ]
  },
  {
   "cell_type": "code",
   "execution_count": 139,
   "metadata": {},
   "outputs": [
    {
     "name": "stdout",
     "output_type": "stream",
     "text": [
      "Number of reviews for the product: 490\n",
      "                                                    name  \\\n",
      "23339  Cloud b Twilight Constellation Night Light, Tu...   \n",
      "23340  Cloud b Twilight Constellation Night Light, Tu...   \n",
      "23342  Cloud b Twilight Constellation Night Light, Tu...   \n",
      "23343  Cloud b Twilight Constellation Night Light, Tu...   \n",
      "23344  Cloud b Twilight Constellation Night Light, Tu...   \n",
      "...                                                  ...   \n",
      "23853  Cloud b Twilight Constellation Night Light, Tu...   \n",
      "23854  Cloud b Twilight Constellation Night Light, Tu...   \n",
      "23855  Cloud b Twilight Constellation Night Light, Tu...   \n",
      "23857  Cloud b Twilight Constellation Night Light, Tu...   \n",
      "23858  Cloud b Twilight Constellation Night Light, Tu...   \n",
      "\n",
      "                                                  review  rating  is_negative  \n",
      "23339  This ladybug has helped my 2 year old daughter...       5        False  \n",
      "23340  this thing puts stars everywhere, ceiling and ...       5        False  \n",
      "23342  We got this for our baby. While he was sleepin...       5        False  \n",
      "23343  I see some customers got defective products, w...       5        False  \n",
      "23344  Our son had been having trouble staying in his...       4        False  \n",
      "...                                                  ...     ...          ...  \n",
      "23853  The product I receive is not from cloud b as d...       2         True  \n",
      "23854  It was for my new grandson and my daughters sa...       5        False  \n",
      "23855  We bought the Cloud B Twilight Constellation N...       5        False  \n",
      "23857  Stars do not move, no music to play. Only fain...       1         True  \n",
      "23858  Highly recommend this product~ It is soft enou...       5        False  \n",
      "\n",
      "[490 rows x 4 columns]\n"
     ]
    }
   ],
   "source": [
    "test_data= data[data['name'] == 'Cloud b Twilight Constellation Night Light, Turtle']\n",
    "test_data_rating=data['rating']\n",
    "\n",
    "print(f\"Number of reviews for the product: {len(test_data['name'])}\")\n",
    "print (test_data)"
   ]
  },
  {
   "cell_type": "code",
   "execution_count": 27,
   "metadata": {},
   "outputs": [],
   "source": [
    "#print(test_data['rating'])"
   ]
  },
  {
   "cell_type": "code",
   "execution_count": 140,
   "metadata": {},
   "outputs": [
    {
     "name": "stdout",
     "output_type": "stream",
     "text": [
      "23843    We bought this and our kids (who share a room)...\n",
      "23700    I bought this ladybug for my daughter who is a...\n",
      "23435    This is absolutely the best night light I\\'ve ...\n",
      "23786    My kids got this when they were infants. It is...\n",
      "23576    We bought this for my daughter as a birthday g...\n",
      "23493    I bought the twilight turtle and sea turtle fo...\n",
      "23741    I originally bought one of these, the turtle, ...\n",
      "23350    I like the product.  It will be perfect if the...\n",
      "23450    Bought my son who is now 4 the turtle two year...\n",
      "23546    I bought the Twilight Turtle for my niece\\'s b...\n",
      "Name: review, dtype: object\n"
     ]
    }
   ],
   "source": [
    "test10=test_data['review'].sample(n=10)\n",
    "\n",
    "\n",
    "print (test10)\n",
    "#sample_reviews = data.sample(n=10, random_state=42)"
   ]
  },
  {
   "cell_type": "code",
   "execution_count": 142,
   "metadata": {},
   "outputs": [
    {
     "name": "stdout",
     "output_type": "stream",
     "text": [
      "Review: We bought this and our kids (who share a room) love it. Our 4 year old doesn\\'t even fuss about brushing her teeth because if she does, she\\'ll get to turn on the turtle and pick the color. Our kids have a large bedroom and it shows the stars very well. Great product, good price.\n",
      "Prediction: Positive\n",
      "\n",
      "Review: I bought this ladybug for my daughter who is almost 3 and she loves it.  My 4 month old son has the turtle one which is great too!\n",
      "Prediction: Positive\n",
      "\n",
      "Review: This is absolutely the best night light I\\'ve bought so far. We only have blinds covering the windows, so there\\'s always quite a bit of outdoor light shining in, but this little lady bug really works! It projects perfectly shaped stars onto the walls and every night my little one positions it so that the moon is right above her head. It\\'s her little nighttime routine to &#34;find the moon&#34;. Ladybug is right next to her pillow and even though the light shining through the little holes is quite strong, it\\'s not bothersome. The plush is very soft and the quality is very sturyd. The colors (red, blue, green) are very nice and soft, which makes the whole atmosphere so magical. We now have a little game every night where we try to &#34;catch&#34; the stars while singing &#34;Twinkle Twinkle&#34;... Absolutely love it!\n",
      "Prediction: Positive\n",
      "\n",
      "Review: My kids got this when they were infants. It is cute and puts lots of stars on the walls they loved that. As they got older it became more of a problem and eventually the shell got broke. Also at one point the buttons broke from over use. But over all its a good toy for a nightlight.\n",
      "Prediction: Positive\n",
      "\n",
      "Review: We bought this for my daughter as a birthday gift and I think it was just as loved (if not more) than her princess dress! She loves the different colors to choose from but loves the blue the best. She has a small room so it fills the walls and ceiling. I will definitely be buying one for our boys room next.\n",
      "Prediction: Positive\n",
      "\n",
      "Review: I bought the twilight turtle and sea turtle for my 4 year old son and the ladybug for my 3 year old daughter and they totally LOVE it!! I\\'m extremely happy with this purchase for it is totally worth every penny!! My son was afraid of the dark and the twilight turtle has totally helped him overcome his fear!  We showed everyone the wonderful light display at our Christmas party when it had gotton dark and EVERYONE, especially the adults all wanted one!! Great gift for ALL AGES, even adults!!\n",
      "Prediction: Positive\n",
      "\n",
      "Review: I originally bought one of these, the turtle, for my grandson. Then his twin sisters liked it so mom put it in their room which left my grandson without. I bought another but the girls began fighting over who would have that one! I bought yet another and now everyone has one!! They love them and offers a little comfort in a dark room!!\n",
      "Prediction: Positive\n",
      "\n",
      "Review: I like the product.  It will be perfect if theres is the option to left it on during all night.  I\\'m forced to the 45-minutes turn off function.\n",
      "Prediction: Negative\n",
      "\n",
      "Review: Bought my son who is now 4 the turtle two years ago at Christmas. It has been a Godsend. Only requires regular batteries which actually last quite a long time. Very easy to use and maintain. Soft for cuddling and yet durable. Has nice star display and he likes that he can choose the color. Feature I enjoy is the auto shut off after about a half hour...this typically allows ample time for him to fall asleep with it and yet not waste unnessary battery life. It is also just bright enough to light up his room and comfort him.  Would buy this again 100 times over.\n",
      "Prediction: Positive\n",
      "\n",
      "Review: I bought the Twilight Turtle for my niece\\'s birthday. She absolutely loves it. It is very peaceful at bedtime looking at the stars. I think newborns to grade school children would enjoy this little turtle.\n",
      "Prediction: Positive\n",
      "\n",
      "Review us Bad: We bought this and our kids (who share a room) love it. Our 4 year old doesn\\'t even fuss about brushing her teeth because if she does, she\\'ll get to turn on the turtle and pick the color. Our kids have a large bedroom and it shows the stars very well. Great product, good price.\n",
      "Prediction: Negative\n",
      "\n",
      "Review us Bad: I bought this ladybug for my daughter who is almost 3 and she loves it.  My 4 month old son has the turtle one which is great too!\n",
      "Prediction: Negative\n",
      "\n",
      "Review us Bad: This is absolutely the best night light I\\'ve bought so far. We only have blinds covering the windows, so there\\'s always quite a bit of outdoor light shining in, but this little lady bug really works! It projects perfectly shaped stars onto the walls and every night my little one positions it so that the moon is right above her head. It\\'s her little nighttime routine to &#34;find the moon&#34;. Ladybug is right next to her pillow and even though the light shining through the little holes is quite strong, it\\'s not bothersome. The plush is very soft and the quality is very sturyd. The colors (red, blue, green) are very nice and soft, which makes the whole atmosphere so magical. We now have a little game every night where we try to &#34;catch&#34; the stars while singing &#34;Twinkle Twinkle&#34;... Absolutely love it!\n",
      "Prediction: Positive\n",
      "\n",
      "Review us Bad: My kids got this when they were infants. It is cute and puts lots of stars on the walls they loved that. As they got older it became more of a problem and eventually the shell got broke. Also at one point the buttons broke from over use. But over all its a good toy for a nightlight.\n",
      "Prediction: Positive\n",
      "\n",
      "Review us Bad: We bought this for my daughter as a birthday gift and I think it was just as loved (if not more) than her princess dress! She loves the different colors to choose from but loves the blue the best. She has a small room so it fills the walls and ceiling. I will definitely be buying one for our boys room next.\n",
      "Prediction: Negative\n",
      "\n",
      "Review us Bad: I bought the twilight turtle and sea turtle for my 4 year old son and the ladybug for my 3 year old daughter and they totally LOVE it!! I\\'m extremely happy with this purchase for it is totally worth every penny!! My son was afraid of the dark and the twilight turtle has totally helped him overcome his fear!  We showed everyone the wonderful light display at our Christmas party when it had gotton dark and EVERYONE, especially the adults all wanted one!! Great gift for ALL AGES, even adults!!\n",
      "Prediction: Positive\n",
      "\n",
      "Review us Bad: I originally bought one of these, the turtle, for my grandson. Then his twin sisters liked it so mom put it in their room which left my grandson without. I bought another but the girls began fighting over who would have that one! I bought yet another and now everyone has one!! They love them and offers a little comfort in a dark room!!\n",
      "Prediction: Negative\n",
      "\n",
      "Review us Bad: I like the product.  It will be perfect if theres is the option to left it on during all night.  I\\'m forced to the 45-minutes turn off function.\n",
      "Prediction: Negative\n",
      "\n",
      "Review us Bad: Bought my son who is now 4 the turtle two years ago at Christmas. It has been a Godsend. Only requires regular batteries which actually last quite a long time. Very easy to use and maintain. Soft for cuddling and yet durable. Has nice star display and he likes that he can choose the color. Feature I enjoy is the auto shut off after about a half hour...this typically allows ample time for him to fall asleep with it and yet not waste unnessary battery life. It is also just bright enough to light up his room and comfort him.  Would buy this again 100 times over.\n",
      "Prediction: Negative\n",
      "\n",
      "Review us Bad: I bought the Twilight Turtle for my niece\\'s birthday. She absolutely loves it. It is very peaceful at bedtime looking at the stars. I think newborns to grade school children would enjoy this little turtle.\n",
      "Prediction: Positive\n",
      "\n"
     ]
    }
   ],
   "source": [
    "test10_vectorized = vectorizer.transform(test10)\n",
    "\n",
    "# Make predictions\n",
    "new_predictions = model.predict(test10_vectorized)\n",
    "new_bad_predictions = model1.predict(test10_vectorized)\n",
    "# Map predictions to labels\n",
    "label_map = {0: \"Negative\", 1: \"Positive\"}\n",
    "labeled_predictions = [label_map[pred] for pred in new_predictions]\n",
    "labeled_predictions1 = [label_map[pred] for pred in new_bad_predictions]\n",
    "# Display results\n",
    "for review, prediction in zip(test10, labeled_predictions):\n",
    "    print(f\"Review: {review}\\nPrediction: {prediction}\\n\")\n",
    "for review, prediction in zip(test10, labeled_predictions1):    \n",
    "    print(f\"Review us Bad: {review}\\nPrediction: {prediction}\\n\")"
   ]
  },
  {
   "cell_type": "code",
   "execution_count": 143,
   "metadata": {},
   "outputs": [
    {
     "data": {
      "image/png": "[encoded data removed]",
      "text/plain": [
       "<Figure size 640x480 with 1 Axes>"
      ]
     },
     "metadata": {},
     "output_type": "display_data"
    }
   ],
   "source": [
    "# Use predict_proba to get probabilities for the positive class USING MODEL WHIH GIRAFE\n",
    "y_prob = model.predict_proba(X_test_vectorized)[:, 1]\n",
    "\n",
    "# Compute ROC curve\n",
    "fpr, tpr, _ = metrics.roc_curve(y_test, y_prob)\n",
    "\n",
    "# Compute AUC\n",
    "auc = metrics.roc_auc_score(y_test, y_prob)\n",
    "\n",
    "# Plot ROC curve\n",
    "plt.plot(fpr, tpr, label=\"AUC = \" + str(round(auc, 4)))\n",
    "plt.xlabel(\"False Positive Rate\")\n",
    "plt.ylabel(\"True Positive Rate\")\n",
    "plt.title(\"ROC Curve\")\n",
    "plt.legend(loc=4)\n",
    "plt.show()"
   ]
  },
  {
   "cell_type": "markdown",
   "metadata": {},
   "source": []
  },
  {
   "cell_type": "code",
   "execution_count": 146,
   "metadata": {},
   "outputs": [
    {
     "data": {
      "image/png": "[encoded data removed]",
      "text/plain": [
       "<Figure size 640x480 with 1 Axes>"
      ]
     },
     "metadata": {},
     "output_type": "display_data"
    }
   ],
   "source": [
    "# Use predict_proba to get probabilities for the positive class BABY MONITOR \n",
    "y1_prob = model1.predict_proba(X1_test_vectorized)[:, 1]\n",
    "\n",
    "# Compute ROC curve\n",
    "fpr1, tpr1, _ = metrics.roc_curve(y1_test, y1_prob)\n",
    "\n",
    "# Compute AUC\n",
    "auc1 = metrics.roc_auc_score(y1_test, y1_prob)\n",
    "\n",
    "# Plot ROC curve\n",
    "plt.plot(fpr1, tpr1, label=\"AUC1 = \" + str(round(auc, 4)))\n",
    "plt.xlabel(\"False Positive Rate\")\n",
    "plt.ylabel(\"True Positive Rate\")\n",
    "plt.title(\"ROC Curve\")\n",
    "plt.legend(loc=4)\n",
    "plt.show()"
   ]
  },
  {
   "cell_type": "code",
   "execution_count": 158,
   "metadata": {},
   "outputs": [
    {
     "data": {
      "image/png": "[encoded data removed]",
      "text/plain": [
       "<Figure size 640x480 with 1 Axes>"
      ]
     },
     "metadata": {},
     "output_type": "display_data"
    }
   ],
   "source": [
    "plt.plot(fpr, tpr, label=\"Model 1 AUC = \" + str(round(auc, 4)), linestyle=\"--\", color=\"blue\")\n",
    "plt.plot(fpr1, tpr1, label=\"Model 2 AUC = \" + str(round(auc1, 4)),linestyle=\"-\", color=\"orange\")\n",
    "plt.xlabel(\"False Positive Rate\")\n",
    "plt.ylabel(\"True Positive Rate\")\n",
    "plt.title(\"Comparison of ROC Curves\")\n",
    "plt.legend(loc=4)\n",
    "plt.show()"
   ]
  },
  {
   "cell_type": "code",
   "execution_count": 151,
   "metadata": {},
   "outputs": [
    {
     "name": "stdout",
     "output_type": "stream",
     "text": [
      "Correlation between y_prob and y1_prob: -0.1640\n"
     ]
    }
   ],
   "source": [
    "min_length = min(len(y_prob), len(y1_prob))  # Find the shorter length\n",
    "\n",
    "y_prob_truncated = y_prob[:min_length]  # Trim longer array\n",
    "y1_prob_truncated = y1_prob[:min_length]  # Trim longer array\n",
    "\n",
    "correlation = np.corrcoef(y_prob_truncated, y1_prob_truncated)[0, 1]\n",
    "print(f\"Correlation between y_prob and y1_prob: {correlation:.4f}\")"
   ]
  },
  {
   "cell_type": "code",
   "execution_count": 149,
   "metadata": {},
   "outputs": [
    {
     "name": "stdout",
     "output_type": "stream",
     "text": [
      "Class distribution in y_test: [ 17 127]\n",
      "Class distribution in y1_test: [19 85]\n"
     ]
    }
   ],
   "source": [
    "print(\"Class distribution in y_test:\", np.bincount(y_test))\n",
    "print(\"Class distribution in y1_test:\", np.bincount(y1_test))"
   ]
  },
  {
   "cell_type": "code",
   "execution_count": 159,
   "metadata": {},
   "outputs": [
    {
     "name": "stdout",
     "output_type": "stream",
     "text": [
      "fpr (Model 1): [0.         0.         0.         0.05263158 0.05263158 0.10526316\n",
      " 0.10526316 0.15789474 0.15789474 0.21052632]\n",
      "fpr (Model 2): [0.         0.         0.         0.05263158 0.05263158 0.10526316\n",
      " 0.10526316 0.15789474 0.15789474 0.21052632]\n"
     ]
    }
   ],
   "source": [
    "print(f\"fpr (Model 1): {fpr[:10]}\")\n",
    "print(f\"fpr (Model 2): {fpr1[:10]}\")"
   ]
  },
  {
   "cell_type": "code",
   "execution_count": 160,
   "metadata": {},
   "outputs": [
    {
     "data": {
      "image/png": "[encoded data removed]",
      "text/plain": [
       "<Figure size 640x480 with 1 Axes>"
      ]
     },
     "metadata": {},
     "output_type": "display_data"
    }
   ],
   "source": [
    "plt.plot(y_prob[:100], label=\"Model 1 Predictions\")\n",
    "plt.plot(y1_prob[:100], label=\"Model 2 Predictions\")\n",
    "plt.legend()\n",
    "plt.show()"
   ]
  }
 ],
 "metadata": {
  "kernelspec": {
   "display_name": "Python 3",
   "language": "python",
   "name": "python3"
  },
  "language_info": {
   "codemirror_mode": {
    "name": "ipython",
    "version": 3
   },
   "file_extension": ".py",
   "mimetype": "text/x-python",
   "name": "python",
   "nbconvert_exporter": "python",
   "pygments_lexer": "ipython3",
   "version": "3.11.9"
  }
 },
 "nbformat": 4,
 "nbformat_minor": 2
}

{
 "cells": [
  {
   "cell_type": "code",
   "execution_count": 1,
   "metadata": {},
   "outputs": [],
   "source": [
    "from sklearn.model_selection import train_test_split\n",
    "from sklearn.metrics import roc_curve, auc\n",
    "from sklearn.preprocessing import label_binarize\n",
    "from collections import Counter\n",
    "import seaborn as sns\n",
    "from sklearn.metrics import confusion_matrix, classification_report\n",
    "import os\n",
    "import tensorflow as tf\n",
    "import random"
   ]
  },
  {
   "cell_type": "code",
   "execution_count": 2,
   "metadata": {},
   "outputs": [],
   "source": [
    "import pandas as pd\n",
    "import numpy as np\n",
    "import matplotlib.pyplot as plt\n",
    "from sklearn.model_selection import train_test_split\n",
    "from sklearn.linear_model import LogisticRegression\n",
    "from sklearn.preprocessing import MinMaxScaler\n",
    "from sklearn.metrics import classification_report, confusion_matrix, accuracy_score\n",
    "import seaborn as sns"
   ]
  },
  {
   "cell_type": "code",
   "execution_count": 3,
   "metadata": {},
   "outputs": [],
   "source": [
    "from sklearn.ensemble import RandomForestClassifier\n",
    "from sklearn.tree import DecisionTreeClassifier \n",
    "from sklearn.linear_model import LogisticRegression, LinearRegression\n",
    "from sklearn.model_selection import train_test_split\n",
    "from sklearn.metrics import mean_squared_error, r2_score, confusion_matrix\n",
    "from sklearn.preprocessing import StandardScaler"
   ]
  },
  {
   "cell_type": "code",
   "execution_count": 4,
   "metadata": {},
   "outputs": [
    {
     "name": "stdout",
     "output_type": "stream",
     "text": [
      "Dataset columns: Index(['erythema', 'scaling', 'definite_borders', 'itching',\n",
      "       'koebner_phenomenon', 'polygonal_papules', 'follicular_papules',\n",
      "       'oral_mucosal_involvement', 'knee_and_elbow_involvement',\n",
      "       'scalp_involvement', 'family_history', 'melanin_incontinence',\n",
      "       'eosinophils_infiltrate', 'PNL_infiltrate', 'fibrosis_papillary_dermis',\n",
      "       'exocytosis', 'acanthosis', 'hyperkeratosis', 'parakeratosis',\n",
      "       'clubbing_rete_ridges', 'elongation_rete_ridges',\n",
      "       'thinning_suprapapillary_epidermis', 'spongiform_pustule',\n",
      "       'munro_microabcess', 'focal_hypergranulosis',\n",
      "       'disappearance_granular_layer', 'vacuolisation_damage_basal_layer',\n",
      "       'spongiosis', 'saw_tooth_appearance_retes', 'follicular_horn_plug',\n",
      "       'perifollicular_parakeratosis', 'inflammatory_mononuclear_infiltrate',\n",
      "       'band_like_infiltrate', 'age', 'class'],\n",
      "      dtype='object')\n",
      "<class 'pandas.core.frame.DataFrame'>\n",
      "RangeIndex: 366 entries, 0 to 365\n",
      "Data columns (total 35 columns):\n",
      " #   Column                               Non-Null Count  Dtype \n",
      "---  ------                               --------------  ----- \n",
      " 0   erythema                             366 non-null    int64 \n",
      " 1   scaling                              366 non-null    int64 \n",
      " 2   definite_borders                     366 non-null    int64 \n",
      " 3   itching                              366 non-null    int64 \n",
      " 4   koebner_phenomenon                   366 non-null    int64 \n",
      " 5   polygonal_papules                    366 non-null    int64 \n",
      " 6   follicular_papules                   366 non-null    int64 \n",
      " 7   oral_mucosal_involvement             366 non-null    int64 \n",
      " 8   knee_and_elbow_involvement           366 non-null    int64 \n",
      " 9   scalp_involvement                    366 non-null    int64 \n",
      " 10  family_history                       366 non-null    int64 \n",
      " 11  melanin_incontinence                 366 non-null    int64 \n",
      " 12  eosinophils_infiltrate               366 non-null    int64 \n",
      " 13  PNL_infiltrate                       366 non-null    int64 \n",
      " 14  fibrosis_papillary_dermis            366 non-null    int64 \n",
      " 15  exocytosis                           366 non-null    int64 \n",
      " 16  acanthosis                           366 non-null    int64 \n",
      " 17  hyperkeratosis                       366 non-null    int64 \n",
      " 18  parakeratosis                        366 non-null    int64 \n",
      " 19  clubbing_rete_ridges                 366 non-null    int64 \n",
      " 20  elongation_rete_ridges               366 non-null    int64 \n",
      " 21  thinning_suprapapillary_epidermis    366 non-null    int64 \n",
      " 22  spongiform_pustule                   366 non-null    int64 \n",
      " 23  munro_microabcess                    366 non-null    int64 \n",
      " 24  focal_hypergranulosis                366 non-null    int64 \n",
      " 25  disappearance_granular_layer         366 non-null    int64 \n",
      " 26  vacuolisation_damage_basal_layer     366 non-null    int64 \n",
      " 27  spongiosis                           366 non-null    int64 \n",
      " 28  saw_tooth_appearance_retes           366 non-null    int64 \n",
      " 29  follicular_horn_plug                 366 non-null    int64 \n",
      " 30  perifollicular_parakeratosis         366 non-null    int64 \n",
      " 31  inflammatory_mononuclear_infiltrate  366 non-null    int64 \n",
      " 32  band_like_infiltrate                 366 non-null    int64 \n",
      " 33  age                                  366 non-null    object\n",
      " 34  class                                366 non-null    int64 \n",
      "dtypes: int64(34), object(1)\n",
      "memory usage: 100.2+ KB\n",
      "   erythema  scaling  definite_borders  itching  koebner_phenomenon  \\\n",
      "0         2        2                 0        3                   0   \n",
      "1         3        3                 3        2                   1   \n",
      "2         2        1                 2        3                   1   \n",
      "3         2        2                 2        0                   0   \n",
      "4         2        3                 2        2                   2   \n",
      "\n",
      "   polygonal_papules  follicular_papules  oral_mucosal_involvement  \\\n",
      "0                  0                   0                         0   \n",
      "1                  0                   0                         0   \n",
      "2                  3                   0                         3   \n",
      "3                  0                   0                         0   \n",
      "4                  2                   0                         2   \n",
      "\n",
      "   knee_and_elbow_involvement  scalp_involvement  ...  \\\n",
      "0                           1                  0  ...   \n",
      "1                           1                  1  ...   \n",
      "2                           0                  0  ...   \n",
      "3                           3                  2  ...   \n",
      "4                           0                  0  ...   \n",
      "\n",
      "   disappearance_granular_layer  vacuolisation_damage_basal_layer  spongiosis  \\\n",
      "0                             0                                 0           3   \n",
      "1                             0                                 0           0   \n",
      "2                             0                                 2           3   \n",
      "3                             3                                 0           0   \n",
      "4                             2                                 3           2   \n",
      "\n",
      "   saw_tooth_appearance_retes  follicular_horn_plug  \\\n",
      "0                           0                     0   \n",
      "1                           0                     0   \n",
      "2                           2                     0   \n",
      "3                           0                     0   \n",
      "4                           3                     0   \n",
      "\n",
      "   perifollicular_parakeratosis  inflammatory_mononuclear_infiltrate  \\\n",
      "0                             0                                    1   \n",
      "1                             0                                    1   \n",
      "2                             0                                    2   \n",
      "3                             0                                    3   \n",
      "4                             0                                    2   \n",
      "\n",
      "   band_like_infiltrate  age  class  \n",
      "0                     0   55      2  \n",
      "1                     0    8      1  \n",
      "2                     3   26      3  \n",
      "3                     0   40      1  \n",
      "4                     3   45      3  \n",
      "\n",
      "[5 rows x 35 columns]\n"
     ]
    }
   ],
   "source": [
    "# Load the dataset\n",
    "data = pd.read_csv('dermatology_database_1.csv')\n",
    "\n",
    "data1= pd.read_csv('dermatology_database_1.csv')\n",
    "# Display basic information about the dataset\n",
    "print(\"Dataset columns:\", data.columns)\n",
    "data.info()\n",
    "print(data.head())"
   ]
  },
  {
   "cell_type": "code",
   "execution_count": 5,
   "metadata": {},
   "outputs": [
    {
     "name": "stdout",
     "output_type": "stream",
     "text": [
      "\n",
      "Missing Values Count Per Column:\n",
      "erythema                               0\n",
      "scaling                                0\n",
      "definite_borders                       0\n",
      "itching                                0\n",
      "koebner_phenomenon                     0\n",
      "polygonal_papules                      0\n",
      "follicular_papules                     0\n",
      "oral_mucosal_involvement               0\n",
      "knee_and_elbow_involvement             0\n",
      "scalp_involvement                      0\n",
      "family_history                         0\n",
      "melanin_incontinence                   0\n",
      "eosinophils_infiltrate                 0\n",
      "PNL_infiltrate                         0\n",
      "fibrosis_papillary_dermis              0\n",
      "exocytosis                             0\n",
      "acanthosis                             0\n",
      "hyperkeratosis                         0\n",
      "parakeratosis                          0\n",
      "clubbing_rete_ridges                   0\n",
      "elongation_rete_ridges                 0\n",
      "thinning_suprapapillary_epidermis      0\n",
      "spongiform_pustule                     0\n",
      "munro_microabcess                      0\n",
      "focal_hypergranulosis                  0\n",
      "disappearance_granular_layer           0\n",
      "vacuolisation_damage_basal_layer       0\n",
      "spongiosis                             0\n",
      "saw_tooth_appearance_retes             0\n",
      "follicular_horn_plug                   0\n",
      "perifollicular_parakeratosis           0\n",
      "inflammatory_mononuclear_infiltrate    0\n",
      "band_like_infiltrate                   0\n",
      "age                                    0\n",
      "class                                  0\n",
      "dtype: int64\n"
     ]
    }
   ],
   "source": [
    "print(\"\\nMissing Values Count Per Column:\")\n",
    "print(data.isnull().sum())  # Counts missing values in each column"
   ]
  },
  {
   "cell_type": "code",
   "execution_count": 6,
   "metadata": {},
   "outputs": [
    {
     "name": "stdout",
     "output_type": "stream",
     "text": [
      "\n",
      "Rows with Missing Values:\n",
      "Empty DataFrame\n",
      "Columns: [erythema, scaling, definite_borders, itching, koebner_phenomenon, polygonal_papules, follicular_papules, oral_mucosal_involvement, knee_and_elbow_involvement, scalp_involvement, family_history, melanin_incontinence, eosinophils_infiltrate, PNL_infiltrate, fibrosis_papillary_dermis, exocytosis, acanthosis, hyperkeratosis, parakeratosis, clubbing_rete_ridges, elongation_rete_ridges, thinning_suprapapillary_epidermis, spongiform_pustule, munro_microabcess, focal_hypergranulosis, disappearance_granular_layer, vacuolisation_damage_basal_layer, spongiosis, saw_tooth_appearance_retes, follicular_horn_plug, perifollicular_parakeratosis, inflammatory_mononuclear_infiltrate, band_like_infiltrate, age, class]\n",
      "Index: []\n",
      "\n",
      "[0 rows x 35 columns]\n"
     ]
    }
   ],
   "source": [
    "missing_rows = data[data.isnull().any(axis=1)]\n",
    "print(\"\\nRows with Missing Values:\")\n",
    "print(missing_rows)"
   ]
  },
  {
   "cell_type": "code",
   "execution_count": 7,
   "metadata": {},
   "outputs": [
    {
     "name": "stdout",
     "output_type": "stream",
     "text": [
      "\n",
      "Percentage of Missing Values Per Column:\n",
      "erythema                               0.0\n",
      "scaling                                0.0\n",
      "definite_borders                       0.0\n",
      "itching                                0.0\n",
      "koebner_phenomenon                     0.0\n",
      "polygonal_papules                      0.0\n",
      "follicular_papules                     0.0\n",
      "oral_mucosal_involvement               0.0\n",
      "knee_and_elbow_involvement             0.0\n",
      "scalp_involvement                      0.0\n",
      "family_history                         0.0\n",
      "melanin_incontinence                   0.0\n",
      "eosinophils_infiltrate                 0.0\n",
      "PNL_infiltrate                         0.0\n",
      "fibrosis_papillary_dermis              0.0\n",
      "exocytosis                             0.0\n",
      "acanthosis                             0.0\n",
      "hyperkeratosis                         0.0\n",
      "parakeratosis                          0.0\n",
      "clubbing_rete_ridges                   0.0\n",
      "elongation_rete_ridges                 0.0\n",
      "thinning_suprapapillary_epidermis      0.0\n",
      "spongiform_pustule                     0.0\n",
      "munro_microabcess                      0.0\n",
      "focal_hypergranulosis                  0.0\n",
      "disappearance_granular_layer           0.0\n",
      "vacuolisation_damage_basal_layer       0.0\n",
      "spongiosis                             0.0\n",
      "saw_tooth_appearance_retes             0.0\n",
      "follicular_horn_plug                   0.0\n",
      "perifollicular_parakeratosis           0.0\n",
      "inflammatory_mononuclear_infiltrate    0.0\n",
      "band_like_infiltrate                   0.0\n",
      "age                                    0.0\n",
      "class                                  0.0\n",
      "dtype: float64\n"
     ]
    }
   ],
   "source": [
    "missing_percentage = (data.isnull().sum() / len(data)) * 100\n",
    "print(\"\\nPercentage of Missing Values Per Column:\")\n",
    "print(missing_percentage)"
   ]
  },
  {
   "cell_type": "code",
   "execution_count": 8,
   "metadata": {},
   "outputs": [
    {
     "data": {
      "image/png": "[encoded data removed]",
      "text/plain": [
       "<Figure size 1000x600 with 1 Axes>"
      ]
     },
     "metadata": {},
     "output_type": "display_data"
    }
   ],
   "source": [
    "import seaborn as sns\n",
    "import matplotlib.pyplot as plt\n",
    "\n",
    "plt.figure(figsize=(10, 6))\n",
    "sns.heatmap(data.isnull(), cmap=\"viridis\", cbar=False, yticklabels=False)\n",
    "plt.title(\"Missing Values in Dataset\")\n",
    "plt.show()"
   ]
  },
  {
   "cell_type": "code",
   "execution_count": 9,
   "metadata": {},
   "outputs": [
    {
     "name": "stdout",
     "output_type": "stream",
     "text": [
      "\n",
      "Data Types of Each Column:\n",
      "erythema                                int64\n",
      "scaling                                 int64\n",
      "definite_borders                        int64\n",
      "itching                                 int64\n",
      "koebner_phenomenon                      int64\n",
      "polygonal_papules                       int64\n",
      "follicular_papules                      int64\n",
      "oral_mucosal_involvement                int64\n",
      "knee_and_elbow_involvement              int64\n",
      "scalp_involvement                       int64\n",
      "family_history                          int64\n",
      "melanin_incontinence                    int64\n",
      "eosinophils_infiltrate                  int64\n",
      "PNL_infiltrate                          int64\n",
      "fibrosis_papillary_dermis               int64\n",
      "exocytosis                              int64\n",
      "acanthosis                              int64\n",
      "hyperkeratosis                          int64\n",
      "parakeratosis                           int64\n",
      "clubbing_rete_ridges                    int64\n",
      "elongation_rete_ridges                  int64\n",
      "thinning_suprapapillary_epidermis       int64\n",
      "spongiform_pustule                      int64\n",
      "munro_microabcess                       int64\n",
      "focal_hypergranulosis                   int64\n",
      "disappearance_granular_layer            int64\n",
      "vacuolisation_damage_basal_layer        int64\n",
      "spongiosis                              int64\n",
      "saw_tooth_appearance_retes              int64\n",
      "follicular_horn_plug                    int64\n",
      "perifollicular_parakeratosis            int64\n",
      "inflammatory_mononuclear_infiltrate     int64\n",
      "band_like_infiltrate                    int64\n",
      "age                                    object\n",
      "class                                   int64\n",
      "dtype: object\n"
     ]
    }
   ],
   "source": [
    "print(\"\\nData Types of Each Column:\")\n",
    "print(data.dtypes)"
   ]
  },
  {
   "cell_type": "code",
   "execution_count": 10,
   "metadata": {},
   "outputs": [
    {
     "name": "stdout",
     "output_type": "stream",
     "text": [
      "\n",
      "Categorical Columns: ['age']\n",
      "Numerical Columns: ['erythema', 'scaling', 'definite_borders', 'itching', 'koebner_phenomenon', 'polygonal_papules', 'follicular_papules', 'oral_mucosal_involvement', 'knee_and_elbow_involvement', 'scalp_involvement', 'family_history', 'melanin_incontinence', 'eosinophils_infiltrate', 'PNL_infiltrate', 'fibrosis_papillary_dermis', 'exocytosis', 'acanthosis', 'hyperkeratosis', 'parakeratosis', 'clubbing_rete_ridges', 'elongation_rete_ridges', 'thinning_suprapapillary_epidermis', 'spongiform_pustule', 'munro_microabcess', 'focal_hypergranulosis', 'disappearance_granular_layer', 'vacuolisation_damage_basal_layer', 'spongiosis', 'saw_tooth_appearance_retes', 'follicular_horn_plug', 'perifollicular_parakeratosis', 'inflammatory_mononuclear_infiltrate', 'band_like_infiltrate', 'class']\n",
      "Boolean Columns: []\n"
     ]
    }
   ],
   "source": [
    "# Identify categorical, numerical, and boolean columns\n",
    "categorical_cols = data.select_dtypes(include=['object']).columns\n",
    "numerical_cols = data.select_dtypes(include=['int64', 'float64']).columns\n",
    "boolean_cols = data.select_dtypes(include=['bool']).columns\n",
    "\n",
    "print(\"\\nCategorical Columns:\", list(categorical_cols))\n",
    "print(\"Numerical Columns:\", list(numerical_cols))\n",
    "print(\"Boolean Columns:\", list(boolean_cols))"
   ]
  },
  {
   "cell_type": "code",
   "execution_count": 11,
   "metadata": {},
   "outputs": [
    {
     "name": "stdout",
     "output_type": "stream",
     "text": [
      "\n",
      "Unique values in 'age':\n",
      "['55' '8' '26' '40' '45' '41' '18' '57' '22' '30' '20' '21' '10' '65' '38'\n",
      " '23' '17' '51' '42' '44' '33' '43' '50' '34' '?' '15' '46' '62' '35' '48'\n",
      " '12' '52' '60' '32' '19' '29' '25' '36' '13' '27' '31' '28' '64' '39'\n",
      " '47' '16' '0' '7' '70' '37' '61' '67' '56' '53' '24' '58' '49' '63' '68'\n",
      " '9' '75']\n"
     ]
    }
   ],
   "source": [
    "for col in categorical_cols:\n",
    "    print(f\"\\nUnique values in '{col}':\")\n",
    "    print(data[col].unique())"
   ]
  },
  {
   "cell_type": "code",
   "execution_count": 12,
   "metadata": {},
   "outputs": [],
   "source": [
    "data['age'] = pd.to_numeric(data['age'], errors='coerce')"
   ]
  },
  {
   "cell_type": "code",
   "execution_count": 13,
   "metadata": {},
   "outputs": [
    {
     "data": {
      "image/png": "[encoded data removed]",
      "text/plain": [
       "<Figure size 1600x800 with 1 Axes>"
      ]
     },
     "metadata": {},
     "output_type": "display_data"
    }
   ],
   "source": [
    "plt.figure(figsize=(16, 8))\n",
    "plt.title('Class Distribution')\n",
    "plt.xlabel('Class')\n",
    "plt.ylabel('Frequency')\n",
    "data['class'].value_counts().plot(kind='bar')\n",
    "plt.grid(axis='y', linestyle='--', alpha=0.6)\n",
    "plt.show()"
   ]
  },
  {
   "cell_type": "code",
   "execution_count": 14,
   "metadata": {},
   "outputs": [
    {
     "name": "stdout",
     "output_type": "stream",
     "text": [
      "Data after Min-Max Scaling:\n",
      "    erythema   scaling  definite_borders   itching  koebner_phenomenon  \\\n",
      "0  0.666667  0.666667          0.000000  1.000000            0.000000   \n",
      "1  1.000000  1.000000          1.000000  0.666667            0.333333   \n",
      "2  0.666667  0.333333          0.666667  1.000000            0.333333   \n",
      "3  0.666667  0.666667          0.666667  0.000000            0.000000   \n",
      "4  0.666667  1.000000          0.666667  0.666667            0.666667   \n",
      "\n",
      "   polygonal_papules  follicular_papules  oral_mucosal_involvement  \\\n",
      "0           0.000000                 0.0                  0.000000   \n",
      "1           0.000000                 0.0                  0.000000   \n",
      "2           1.000000                 0.0                  1.000000   \n",
      "3           0.000000                 0.0                  0.000000   \n",
      "4           0.666667                 0.0                  0.666667   \n",
      "\n",
      "   knee_and_elbow_involvement  scalp_involvement  ...  \\\n",
      "0                    0.333333           0.000000  ...   \n",
      "1                    0.333333           0.333333  ...   \n",
      "2                    0.000000           0.000000  ...   \n",
      "3                    1.000000           0.666667  ...   \n",
      "4                    0.000000           0.000000  ...   \n",
      "\n",
      "   disappearance_granular_layer  vacuolisation_damage_basal_layer  spongiosis  \\\n",
      "0                      0.000000                          0.000000    1.000000   \n",
      "1                      0.000000                          0.000000    0.000000   \n",
      "2                      0.000000                          0.666667    1.000000   \n",
      "3                      1.000000                          0.000000    0.000000   \n",
      "4                      0.666667                          1.000000    0.666667   \n",
      "\n",
      "   saw_tooth_appearance_retes  follicular_horn_plug  \\\n",
      "0                    0.000000                   0.0   \n",
      "1                    0.000000                   0.0   \n",
      "2                    0.666667                   0.0   \n",
      "3                    0.000000                   0.0   \n",
      "4                    1.000000                   0.0   \n",
      "\n",
      "   perifollicular_parakeratosis  inflammatory_mononuclear_infiltrate  \\\n",
      "0                           0.0                             0.333333   \n",
      "1                           0.0                             0.333333   \n",
      "2                           0.0                             0.666667   \n",
      "3                           0.0                             1.000000   \n",
      "4                           0.0                             0.666667   \n",
      "\n",
      "   band_like_infiltrate       age  class  \n",
      "0                   0.0  0.733333    0.2  \n",
      "1                   0.0  0.106667    0.0  \n",
      "2                   1.0  0.346667    0.4  \n",
      "3                   0.0  0.533333    0.0  \n",
      "4                   1.0  0.600000    0.4  \n",
      "\n",
      "[5 rows x 35 columns]\n"
     ]
    }
   ],
   "source": [
    "from sklearn.preprocessing import MinMaxScaler\n",
    "\n",
    "# Select numerical columns only\n",
    "numerical_cols = data.select_dtypes(include=['int64', 'float64']).columns\n",
    "\n",
    "# Apply Min-Max scaling\n",
    "scaler = MinMaxScaler()\n",
    "data[numerical_cols] = scaler.fit_transform(data[numerical_cols])\n",
    "\n",
    "print(\"Data after Min-Max Scaling:\\n\", data.head())"
   ]
  },
  {
   "cell_type": "code",
   "execution_count": 15,
   "metadata": {},
   "outputs": [
    {
     "name": "stdout",
     "output_type": "stream",
     "text": [
      "Decision Tree Accuracy: 0.9459\n",
      "Random Forest Accuracy: 1.0000\n"
     ]
    }
   ],
   "source": [
    "from sklearn.model_selection import train_test_split\n",
    "from sklearn.tree import DecisionTreeClassifier\n",
    "from sklearn.ensemble import RandomForestClassifier\n",
    "from sklearn.metrics import accuracy_score\n",
    "\n",
    "# Define features (X) and target labels (y)\n",
    "y = data['class']  # Replace 'class' with the actual column name of your target variable\n",
    "X = data.drop(columns=['class'])  # Ensure this matches your dataset\n",
    "# Convert y into discrete class labels\n",
    "# Convert continuous y values into categorical bins\n",
    "\n",
    "y = np.digitize(y, bins=[0, 0.3, 0.7, 1.0], right=True) - 1  # Example binning\n",
    "\n",
    "\n",
    "\n",
    "# Разделение данных на train и test\n",
    "X_train, X_test, y_train, y_test = train_test_split(X, y, test_size=0.2, random_state=42)\n",
    "\n",
    "# Дерево решений\n",
    "dt_clf = DecisionTreeClassifier(max_depth=5, random_state=42)\n",
    "dt_clf.fit(X_train, y_train)\n",
    "dt_preds = dt_clf.predict(X_test)\n",
    "print(f\"Decision Tree Accuracy: {accuracy_score(y_test, dt_preds):.4f}\")\n",
    "\n",
    "# Случайный лес\n",
    "rf_clf = RandomForestClassifier(n_estimators=100, max_depth=10, random_state=42)\n",
    "rf_clf.fit(X_train, y_train)\n",
    "rf_preds = rf_clf.predict(X_test)\n",
    "print(f\"Random Forest Accuracy: {accuracy_score(y_test, rf_preds):.4f}\")"
   ]
  },
  {
   "cell_type": "code",
   "execution_count": 16,
   "metadata": {},
   "outputs": [
    {
     "name": "stdout",
     "output_type": "stream",
     "text": [
      "Best parameters: {'max_depth': 20, 'n_estimators': 100}\n",
      "Best accuracy: 0.9726\n"
     ]
    }
   ],
   "source": [
    "from sklearn.model_selection import GridSearchCV\n",
    "\n",
    "param_grid = {\n",
    "    'n_estimators': [50, 100, 200],\n",
    "    'max_depth': [5, 10, 20]\n",
    "}\n",
    "\n",
    "grid_search = GridSearchCV(RandomForestClassifier(random_state=42), param_grid, cv=5, scoring='accuracy')\n",
    "grid_search.fit(X_train, y_train)\n",
    "\n",
    "print(f\"Best parameters: {grid_search.best_params_}\")\n",
    "print(f\"Best accuracy: {grid_search.best_score_:.4f}\")"
   ]
  },
  {
   "cell_type": "code",
   "execution_count": 17,
   "metadata": {},
   "outputs": [
    {
     "name": "stdout",
     "output_type": "stream",
     "text": [
      "Classification Report:\n",
      "              precision    recall  f1-score   support\n",
      "\n",
      "          -1       1.00      1.00      1.00        31\n",
      "           0       1.00      1.00      1.00         9\n",
      "           1       1.00      1.00      1.00        21\n",
      "           2       1.00      1.00      1.00        10\n",
      "           3       1.00      1.00      1.00         3\n",
      "\n",
      "    accuracy                           1.00        74\n",
      "   macro avg       1.00      1.00      1.00        74\n",
      "weighted avg       1.00      1.00      1.00        74\n",
      "\n"
     ]
    }
   ],
   "source": [
    "from sklearn.metrics import classification_report\n",
    "\n",
    "y_pred = grid_search.best_estimator_.predict(X_test)\n",
    "print(\"Classification Report:\")\n",
    "print(classification_report(y_test, y_pred))"
   ]
  },
  {
   "cell_type": "code",
   "execution_count": 18,
   "metadata": {},
   "outputs": [
    {
     "data": {
      "image/png": "[encoded data removed]",
      "text/plain": [
       "<Figure size 640x480 with 2 Axes>"
      ]
     },
     "metadata": {},
     "output_type": "display_data"
    }
   ],
   "source": [
    "import seaborn as sns\n",
    "import matplotlib.pyplot as plt\n",
    "from sklearn.metrics import confusion_matrix\n",
    "\n",
    "cm = confusion_matrix(y_test, y_pred)\n",
    "sns.heatmap(cm, annot=True, fmt=\"d\", cmap=\"Blues\")\n",
    "plt.xlabel(\"Predicted\")\n",
    "plt.ylabel(\"Actual\")\n",
    "plt.title(\"Confusion Matrix\")\n",
    "plt.show()"
   ]
  },
  {
   "cell_type": "code",
   "execution_count": 19,
   "metadata": {},
   "outputs": [
    {
     "data": {
      "text/html": [
       "<div>\n",
       "<style scoped>\n",
       "    .dataframe tbody tr th:only-of-type {\n",
       "        vertical-align: middle;\n",
       "    }\n",
       "\n",
       "    .dataframe tbody tr th {\n",
       "        vertical-align: top;\n",
       "    }\n",
       "\n",
       "    .dataframe thead th {\n",
       "        text-align: right;\n",
       "    }\n",
       "</style>\n",
       "<table border=\"1\" class=\"dataframe\">\n",
       "  <thead>\n",
       "    <tr style=\"text-align: right;\">\n",
       "      <th></th>\n",
       "      <th>class</th>\n",
       "      <th>Count</th>\n",
       "    </tr>\n",
       "  </thead>\n",
       "  <tbody>\n",
       "    <tr>\n",
       "      <th>0</th>\n",
       "      <td>1</td>\n",
       "      <td>112</td>\n",
       "    </tr>\n",
       "    <tr>\n",
       "      <th>1</th>\n",
       "      <td>3</td>\n",
       "      <td>72</td>\n",
       "    </tr>\n",
       "    <tr>\n",
       "      <th>2</th>\n",
       "      <td>2</td>\n",
       "      <td>61</td>\n",
       "    </tr>\n",
       "    <tr>\n",
       "      <th>3</th>\n",
       "      <td>5</td>\n",
       "      <td>52</td>\n",
       "    </tr>\n",
       "    <tr>\n",
       "      <th>4</th>\n",
       "      <td>4</td>\n",
       "      <td>49</td>\n",
       "    </tr>\n",
       "    <tr>\n",
       "      <th>5</th>\n",
       "      <td>6</td>\n",
       "      <td>20</td>\n",
       "    </tr>\n",
       "  </tbody>\n",
       "</table>\n",
       "</div>"
      ],
      "text/plain": [
       "   class  Count\n",
       "0      1    112\n",
       "1      3     72\n",
       "2      2     61\n",
       "3      5     52\n",
       "4      4     49\n",
       "5      6     20"
      ]
     },
     "execution_count": 19,
     "metadata": {},
     "output_type": "execute_result"
    }
   ],
   "source": [
    "contagem_classe = data1['class'].value_counts().reset_index(name='Count')\n",
    "contagem_classe.columns = ['class','Count']\n",
    "contagem_classe"
   ]
  },
  {
   "cell_type": "code",
   "execution_count": 20,
   "metadata": {},
   "outputs": [
    {
     "data": {
      "image/png": "[encoded data removed]",
      "text/plain": [
       "<Figure size 2500x1200 with 1 Axes>"
      ]
     },
     "metadata": {},
     "output_type": "display_data"
    }
   ],
   "source": [
    "data1['age'] = pd.to_numeric(data1['age'], errors='coerce')\n",
    "data1 = data1.dropna(subset=['age'])\n",
    "data1_ordenado = data1.sort_values(by='age')\n",
    "\n",
    "plt.figure(figsize=(25, 12))\n",
    "sns.barplot(data=data1_ordenado, x='age', y='class')\n",
    "plt.xlabel('Age')\n",
    "plt.ylabel('Class')\n",
    "plt.grid(axis='y', linestyle='--', alpha=0.6)\n",
    "plt.show()"
   ]
  },
  {
   "cell_type": "code",
   "execution_count": 21,
   "metadata": {},
   "outputs": [],
   "source": [
    "X = data1.drop('class',axis=1)\n",
    "y = data1['class']\n",
    "X_train,X_test,y_train,y_test = train_test_split(X,y,test_size=0.2,random_state=42)"
   ]
  },
  {
   "cell_type": "code",
   "execution_count": 22,
   "metadata": {},
   "outputs": [
    {
     "name": "stdout",
     "output_type": "stream",
     "text": [
      "MSE: 0.4519059939092453\n",
      "R²: 0.8091035957932262\n"
     ]
    }
   ],
   "source": [
    "#Chamada do modelo\n",
    "\n",
    "model = LinearRegression()\n",
    "model.fit(X_train, y_train)\n",
    "y_pred = model.predict(X_test)\n",
    "\n",
    "#Avaliando\n",
    "mse = mean_squared_error(y_test, y_pred)\n",
    "print(\"MSE:\", mse)\n",
    "r2 = r2_score(y_test, y_pred)\n",
    "print(\"R²:\", r2)"
   ]
  },
  {
   "cell_type": "code",
   "execution_count": 23,
   "metadata": {},
   "outputs": [
    {
     "name": "stdout",
     "output_type": "stream",
     "text": [
      "[1 2 3 4 5 6]\n"
     ]
    }
   ],
   "source": [
    "\n",
    "print(np.unique(y_train)) "
   ]
  },
  {
   "cell_type": "code",
   "execution_count": 24,
   "metadata": {},
   "outputs": [
    {
     "name": "stdout",
     "output_type": "stream",
     "text": [
      "[1 2 3 4 5 6]\n",
      "[1 2 3 4 5 6]\n"
     ]
    }
   ],
   "source": [
    "print(np.unique(y_train))  # Should show at least two classes\n",
    "print(np.unique(y_test))   # Should also show at least two classes"
   ]
  },
  {
   "cell_type": "code",
   "execution_count": 25,
   "metadata": {},
   "outputs": [
    {
     "name": "stdout",
     "output_type": "stream",
     "text": [
      "Classes in y_train: [1 2 3 4 5 6]\n",
      "Classes in y_test: [1 2 3 4 5 6]\n"
     ]
    }
   ],
   "source": [
    "from sklearn.model_selection import train_test_split\n",
    "\n",
    "X_train, X_test, y_train, y_test = train_test_split(\n",
    "    X, y, test_size=0.2, stratify=y, random_state=42\n",
    ")\n",
    "\n",
    "print(\"Classes in y_train:\", np.unique(y_train))\n",
    "print(\"Classes in y_test:\", np.unique(y_test))"
   ]
  },
  {
   "cell_type": "code",
   "execution_count": 26,
   "metadata": {},
   "outputs": [
    {
     "name": "stdout",
     "output_type": "stream",
     "text": [
      "Overlap between X_train and X_test: 39\n"
     ]
    }
   ],
   "source": [
    "\n",
    "overlap = np.intersect1d(X_train, X_test)\n",
    "print(\"Overlap between X_train and X_test:\", overlap.shape[0])"
   ]
  },
  {
   "cell_type": "code",
   "execution_count": 27,
   "metadata": {},
   "outputs": [],
   "source": [
    "X_train, X_test, y_train, y_test = train_test_split(X, y, test_size=0.2, stratify=y, shuffle=True, random_state=42)"
   ]
  },
  {
   "cell_type": "code",
   "execution_count": 28,
   "metadata": {},
   "outputs": [],
   "source": [
    "X = X.drop_duplicates()\n",
    "y = y[X.index]"
   ]
  },
  {
   "cell_type": "code",
   "execution_count": 29,
   "metadata": {},
   "outputs": [
    {
     "name": "stdout",
     "output_type": "stream",
     "text": [
      "Overlap indices: []\n",
      "Number of overlapping samples: 0\n"
     ]
    }
   ],
   "source": [
    "overlap_indices = np.intersect1d(X_train.index, X_test.index)\n",
    "print(\"Overlap indices:\", overlap_indices)  # Should be empty\n",
    "print(\"Number of overlapping samples:\", overlap_indices.shape[0])"
   ]
  },
  {
   "cell_type": "code",
   "execution_count": 30,
   "metadata": {},
   "outputs": [
    {
     "name": "stdout",
     "output_type": "stream",
     "text": [
      "Number of duplicate rows: 0\n"
     ]
    }
   ],
   "source": [
    "# Check for duplicate rows in X\n",
    "duplicate_rows = X.duplicated()\n",
    "print(f\"Number of duplicate rows: {duplicate_rows.sum()}\")"
   ]
  },
  {
   "cell_type": "code",
   "execution_count": 31,
   "metadata": {},
   "outputs": [
    {
     "name": "stdout",
     "output_type": "stream",
     "text": [
      "Number of identical rows: 0\n"
     ]
    }
   ],
   "source": [
    "# Convert X_train and X_test to DataFrames and reset indices for comparison\n",
    "X_train_reset = pd.DataFrame(X_train)\n",
    "X_test_reset = pd.DataFrame(X_test)\n",
    "\n",
    "# Find the identical rows using merge\n",
    "overlap_rows = pd.merge(X_train_reset, X_test_reset, how='inner')\n",
    "\n",
    "# Display the number of identical rows\n",
    "print(f\"Number of identical rows: {overlap_rows.shape[0]}\")"
   ]
  },
  {
   "cell_type": "code",
   "execution_count": 32,
   "metadata": {},
   "outputs": [
    {
     "name": "stdout",
     "output_type": "stream",
     "text": [
      "Sample from X_train:\n",
      "     erythema  scaling  definite_borders  itching  koebner_phenomenon  \\\n",
      "81          3        2                 2        2                   0   \n",
      "101         1        1                 2        0                   0   \n",
      "174         3        2                 2        2                   0   \n",
      "27          1        2                 2        3                   0   \n",
      "229         2        2                 0        2                   0   \n",
      "\n",
      "     polygonal_papules  follicular_papules  oral_mucosal_involvement  \\\n",
      "81                   0                   0                         0   \n",
      "101                  0                   0                         0   \n",
      "174                  2                   0                         2   \n",
      "27                   0                   0                         0   \n",
      "229                  0                   0                         0   \n",
      "\n",
      "     knee_and_elbow_involvement  scalp_involvement  ...  \\\n",
      "81                            0                  0  ...   \n",
      "101                           0                  0  ...   \n",
      "174                           0                  0  ...   \n",
      "27                            0                  0  ...   \n",
      "229                           0                  0  ...   \n",
      "\n",
      "     focal_hypergranulosis  disappearance_granular_layer  \\\n",
      "81                       0                             0   \n",
      "101                      0                             0   \n",
      "174                      2                             0   \n",
      "27                       0                             0   \n",
      "229                      0                             0   \n",
      "\n",
      "     vacuolisation_damage_basal_layer  spongiosis  saw_tooth_appearance_retes  \\\n",
      "81                                  0           2                           0   \n",
      "101                                 0           0                           0   \n",
      "174                                 2           3                           2   \n",
      "27                                  0           1                           0   \n",
      "229                                 0           3                           0   \n",
      "\n",
      "     follicular_horn_plug  perifollicular_parakeratosis  \\\n",
      "81                      0                             0   \n",
      "101                     0                             0   \n",
      "174                     0                             0   \n",
      "27                      0                             0   \n",
      "229                     0                             0   \n",
      "\n",
      "     inflammatory_mononuclear_infiltrate  band_like_infiltrate   age  \n",
      "81                                     1                     0  31.0  \n",
      "101                                    1                     0  64.0  \n",
      "174                                    2                     3  40.0  \n",
      "27                                     3                     0  17.0  \n",
      "229                                    2                     0  47.0  \n",
      "\n",
      "[5 rows x 34 columns]\n",
      "Sample from X_test:\n",
      "     erythema  scaling  definite_borders  itching  koebner_phenomenon  \\\n",
      "60          2        2                 1        1                   0   \n",
      "219         2        2                 1        0                   1   \n",
      "321         2        2                 2        0                   1   \n",
      "161         2        1                 1        2                   0   \n",
      "322         2        1                 1        0                   1   \n",
      "\n",
      "     polygonal_papules  follicular_papules  oral_mucosal_involvement  \\\n",
      "60                   0                   1                         0   \n",
      "219                  0                   0                         0   \n",
      "321                  0                   0                         0   \n",
      "161                  0                   0                         0   \n",
      "322                  0                   0                         0   \n",
      "\n",
      "     knee_and_elbow_involvement  scalp_involvement  ...  \\\n",
      "60                            1                  1  ...   \n",
      "219                           0                  0  ...   \n",
      "321                           0                  0  ...   \n",
      "161                           0                  0  ...   \n",
      "322                           0                  0  ...   \n",
      "\n",
      "     focal_hypergranulosis  disappearance_granular_layer  \\\n",
      "60                       0                             0   \n",
      "219                      0                             0   \n",
      "321                      0                             1   \n",
      "161                      0                             0   \n",
      "322                      0                             0   \n",
      "\n",
      "     vacuolisation_damage_basal_layer  spongiosis  saw_tooth_appearance_retes  \\\n",
      "60                                  0           1                           0   \n",
      "219                                 0           3                           0   \n",
      "321                                 0           2                           0   \n",
      "161                                 0           2                           0   \n",
      "322                                 0           1                           0   \n",
      "\n",
      "     follicular_horn_plug  perifollicular_parakeratosis  \\\n",
      "60                      1                             1   \n",
      "219                     0                             0   \n",
      "321                     0                             0   \n",
      "161                     0                             0   \n",
      "322                     0                             0   \n",
      "\n",
      "     inflammatory_mononuclear_infiltrate  band_like_infiltrate   age  \n",
      "60                                     1                     0   8.0  \n",
      "219                                    2                     0  35.0  \n",
      "321                                    2                     0  32.0  \n",
      "161                                    3                     0  61.0  \n",
      "322                                    1                     0  27.0  \n",
      "\n",
      "[5 rows x 34 columns]\n"
     ]
    }
   ],
   "source": [
    "# Print sample data from both X_train and X_test\n",
    "print(\"Sample from X_train:\")\n",
    "print(X_train.head())\n",
    "\n",
    "print(\"Sample from X_test:\")\n",
    "print(X_test.head())"
   ]
  },
  {
   "cell_type": "code",
   "execution_count": 33,
   "metadata": {},
   "outputs": [
    {
     "name": "stdout",
     "output_type": "stream",
     "text": [
      "Number of overlapping indices: 0\n"
     ]
    }
   ],
   "source": [
    "# Check if there is any overlap in indices between X_train and X_test\n",
    "overlap_indices = np.intersect1d(X_train.index, X_test.index)\n",
    "print(f\"Number of overlapping indices: {len(overlap_indices)}\")"
   ]
  },
  {
   "cell_type": "code",
   "execution_count": 34,
   "metadata": {},
   "outputs": [
    {
     "name": "stdout",
     "output_type": "stream",
     "text": [
      "X_train shape: (286, 34)\n",
      "X_test shape: (72, 34)\n"
     ]
    }
   ],
   "source": [
    "from sklearn.model_selection import train_test_split\n",
    "\n",
    "# Check how you split the data\n",
    "X_train, X_test, y_train, y_test = train_test_split(X, y, test_size=0.2, random_state=42)\n",
    "\n",
    "# Check the number of rows in each set\n",
    "print(f\"X_train shape: {X_train.shape}\")\n",
    "print(f\"X_test shape: {X_test.shape}\")"
   ]
  },
  {
   "cell_type": "code",
   "execution_count": 35,
   "metadata": {},
   "outputs": [
    {
     "name": "stdout",
     "output_type": "stream",
     "text": [
      "Overlap after split: 40\n"
     ]
    }
   ],
   "source": [
    "overlap = np.intersect1d(X_train, X_test)\n",
    "print(\"Overlap after split:\", overlap.shape[0])"
   ]
  },
  {
   "cell_type": "code",
   "execution_count": 36,
   "metadata": {},
   "outputs": [
    {
     "name": "stdout",
     "output_type": "stream",
     "text": [
      "MSE: 0.125\n",
      "R²: 0.9471968709256845\n"
     ]
    }
   ],
   "source": [
    "# Foi preciso escalonar os dados por conta do solver usado pela biblioteca, não conseguiamos terminar os cálculos\n",
    "scaler = StandardScaler()\n",
    "X_scaled = scaler.fit_transform(X)\n",
    "\n",
    "# Example: Convert continuous values into 3 categories (low, medium, high)\n",
    "y_train = np.digitize(y_train, bins=[0.5, 1.5, 2.5, 3.5, 4.5, 5.5])  # Adjust bins based on your data distribution\n",
    "y_test = np.digitize(y_test, bins=[0.5, 1.5, 2.5, 3.5, 4.5, 5.5])\n",
    "\n",
    "\n",
    "model = LogisticRegression(class_weight=\"balanced\", max_iter=1000)\n",
    "model.fit(X_train, y_train)\n",
    "y_pred = model.predict(X_test)\n",
    "\n",
    "\n",
    "mse = mean_squared_error(y_test, y_pred)\n",
    "print(\"MSE:\", mse)\n",
    "r2 = r2_score(y_test, y_pred)\n",
    "print(\"R²:\", r2)"
   ]
  },
  {
   "cell_type": "code",
   "execution_count": 37,
   "metadata": {},
   "outputs": [
    {
     "name": "stdout",
     "output_type": "stream",
     "text": [
      "{1: 89, 2: 46, 3: 57, 4: 40, 5: 36, 6: 18}\n"
     ]
    }
   ],
   "source": [
    "unique, counts = np.unique(y_train, return_counts=True)\n",
    "print(dict(zip(unique, counts)))"
   ]
  },
  {
   "cell_type": "code",
   "execution_count": 38,
   "metadata": {},
   "outputs": [
    {
     "name": "stdout",
     "output_type": "stream",
     "text": [
      "Classification Report:\n",
      "              precision    recall  f1-score   support\n",
      "\n",
      "          -1       0.00      0.00      0.00       0.0\n",
      "           0       0.00      0.00      0.00       0.0\n",
      "           1       0.00      0.00      0.00      22.0\n",
      "           2       0.00      0.00      0.00      14.0\n",
      "           3       0.00      0.00      0.00      14.0\n",
      "           4       0.00      0.00      0.00       8.0\n",
      "           5       0.00      0.00      0.00      12.0\n",
      "           6       0.00      0.00      0.00       2.0\n",
      "\n",
      "    accuracy                           0.00      72.0\n",
      "   macro avg       0.00      0.00      0.00      72.0\n",
      "weighted avg       0.00      0.00      0.00      72.0\n",
      "\n"
     ]
    },
    {
     "name": "stderr",
     "output_type": "stream",
     "text": [
      "c:\\Users\\shvve\\anaconda3\\envs\\tf_env\\lib\\site-packages\\sklearn\\metrics\\_classification.py:1565: UndefinedMetricWarning: Precision is ill-defined and being set to 0.0 in labels with no predicted samples. Use `zero_division` parameter to control this behavior.\n",
      "  _warn_prf(average, modifier, f\"{metric.capitalize()} is\", len(result))\n",
      "c:\\Users\\shvve\\anaconda3\\envs\\tf_env\\lib\\site-packages\\sklearn\\metrics\\_classification.py:1565: UndefinedMetricWarning: Recall is ill-defined and being set to 0.0 in labels with no true samples. Use `zero_division` parameter to control this behavior.\n",
      "  _warn_prf(average, modifier, f\"{metric.capitalize()} is\", len(result))\n",
      "c:\\Users\\shvve\\anaconda3\\envs\\tf_env\\lib\\site-packages\\sklearn\\metrics\\_classification.py:1565: UndefinedMetricWarning: Precision is ill-defined and being set to 0.0 in labels with no predicted samples. Use `zero_division` parameter to control this behavior.\n",
      "  _warn_prf(average, modifier, f\"{metric.capitalize()} is\", len(result))\n",
      "c:\\Users\\shvve\\anaconda3\\envs\\tf_env\\lib\\site-packages\\sklearn\\metrics\\_classification.py:1565: UndefinedMetricWarning: Recall is ill-defined and being set to 0.0 in labels with no true samples. Use `zero_division` parameter to control this behavior.\n",
      "  _warn_prf(average, modifier, f\"{metric.capitalize()} is\", len(result))\n",
      "c:\\Users\\shvve\\anaconda3\\envs\\tf_env\\lib\\site-packages\\sklearn\\metrics\\_classification.py:1565: UndefinedMetricWarning: Precision is ill-defined and being set to 0.0 in labels with no predicted samples. Use `zero_division` parameter to control this behavior.\n",
      "  _warn_prf(average, modifier, f\"{metric.capitalize()} is\", len(result))\n",
      "c:\\Users\\shvve\\anaconda3\\envs\\tf_env\\lib\\site-packages\\sklearn\\metrics\\_classification.py:1565: UndefinedMetricWarning: Recall is ill-defined and being set to 0.0 in labels with no true samples. Use `zero_division` parameter to control this behavior.\n",
      "  _warn_prf(average, modifier, f\"{metric.capitalize()} is\", len(result))\n"
     ]
    }
   ],
   "source": [
    "from sklearn.metrics import classification_report\n",
    "\n",
    "y_pred = grid_search.best_estimator_.predict(X_test)\n",
    "print(\"Classification Report:\")\n",
    "print(classification_report(y_test, y_pred))"
   ]
  },
  {
   "cell_type": "code",
   "execution_count": 39,
   "metadata": {},
   "outputs": [
    {
     "data": {
      "image/png": "[encoded data removed]",
      "text/plain": [
       "<Figure size 640x480 with 2 Axes>"
      ]
     },
     "metadata": {},
     "output_type": "display_data"
    }
   ],
   "source": [
    "import seaborn as sns\n",
    "import matplotlib.pyplot as plt\n",
    "from sklearn.metrics import confusion_matrix\n",
    "\n",
    "cm = confusion_matrix(y_test, y_pred)\n",
    "sns.heatmap(cm, annot=True, fmt=\"d\", cmap=\"Blues\")\n",
    "plt.xlabel(\"Predicted\")\n",
    "plt.ylabel(\"Actual\")\n",
    "plt.title(\"Confusion Matrix\")\n",
    "plt.show()"
   ]
  }
 ],
 "metadata": {
  "kernelspec": {
   "display_name": "tf_env",
   "language": "python",
   "name": "python3"
  },
  "language_info": {
   "codemirror_mode": {
    "name": "ipython",
    "version": 3
   },
   "file_extension": ".py",
   "mimetype": "text/x-python",
   "name": "python",
   "nbconvert_exporter": "python",
   "pygments_lexer": "ipython3",
   "version": "3.9.21"
  }
 },
 "nbformat": 4,
 "nbformat_minor": 2
}

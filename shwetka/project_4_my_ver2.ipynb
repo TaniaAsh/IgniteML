{
 "cells": [
  {
   "cell_type": "code",
   "execution_count": 36,
   "metadata": {},
   "outputs": [],
   "source": [
    "from sklearn.model_selection import train_test_split\n",
    "from sklearn.metrics import roc_curve, auc\n",
    "from sklearn.preprocessing import label_binarize\n",
    "from collections import Counter\n",
    "import seaborn as sns\n",
    "from sklearn.metrics import confusion_matrix, classification_report\n",
    "import os\n",
    "import tensorflow as tf\n",
    "import random"
   ]
  },
  {
   "cell_type": "code",
   "execution_count": 37,
   "metadata": {},
   "outputs": [],
   "source": [
    "import pandas as pd\n",
    "import numpy as np\n",
    "import matplotlib.pyplot as plt\n",
    "from sklearn.model_selection import train_test_split\n",
    "from sklearn.linear_model import LogisticRegression\n",
    "from sklearn.preprocessing import MinMaxScaler\n",
    "from sklearn.metrics import classification_report, confusion_matrix, accuracy_score\n",
    "import seaborn as sns"
   ]
  },
  {
   "cell_type": "code",
   "execution_count": 38,
   "metadata": {},
   "outputs": [],
   "source": [
    "from sklearn.ensemble import RandomForestClassifier\n",
    "from sklearn.tree import DecisionTreeClassifier \n",
    "from sklearn.linear_model import LogisticRegression, LinearRegression\n",
    "from sklearn.model_selection import train_test_split\n",
    "from sklearn.metrics import mean_squared_error, r2_score, confusion_matrix\n",
    "from sklearn.preprocessing import StandardScaler"
   ]
  },
  {
   "cell_type": "code",
   "execution_count": 39,
   "metadata": {},
   "outputs": [
    {
     "name": "stdout",
     "output_type": "stream",
     "text": [
      "Dataset columns: Index(['erythema', 'scaling', 'definite_borders', 'itching',\n",
      "       'koebner_phenomenon', 'polygonal_papules', 'follicular_papules',\n",
      "       'oral_mucosal_involvement', 'knee_and_elbow_involvement',\n",
      "       'scalp_involvement', 'family_history', 'melanin_incontinence',\n",
      "       'eosinophils_infiltrate', 'PNL_infiltrate', 'fibrosis_papillary_dermis',\n",
      "       'exocytosis', 'acanthosis', 'hyperkeratosis', 'parakeratosis',\n",
      "       'clubbing_rete_ridges', 'elongation_rete_ridges',\n",
      "       'thinning_suprapapillary_epidermis', 'spongiform_pustule',\n",
      "       'munro_microabcess', 'focal_hypergranulosis',\n",
      "       'disappearance_granular_layer', 'vacuolisation_damage_basal_layer',\n",
      "       'spongiosis', 'saw_tooth_appearance_retes', 'follicular_horn_plug',\n",
      "       'perifollicular_parakeratosis', 'inflammatory_mononuclear_infiltrate',\n",
      "       'band_like_infiltrate', 'age', 'class'],\n",
      "      dtype='object')\n",
      "<class 'pandas.core.frame.DataFrame'>\n",
      "RangeIndex: 366 entries, 0 to 365\n",
      "Data columns (total 35 columns):\n",
      " #   Column                               Non-Null Count  Dtype \n",
      "---  ------                               --------------  ----- \n",
      " 0   erythema                             366 non-null    int64 \n",
      " 1   scaling                              366 non-null    int64 \n",
      " 2   definite_borders                     366 non-null    int64 \n",
      " 3   itching                              366 non-null    int64 \n",
      " 4   koebner_phenomenon                   366 non-null    int64 \n",
      " 5   polygonal_papules                    366 non-null    int64 \n",
      " 6   follicular_papules                   366 non-null    int64 \n",
      " 7   oral_mucosal_involvement             366 non-null    int64 \n",
      " 8   knee_and_elbow_involvement           366 non-null    int64 \n",
      " 9   scalp_involvement                    366 non-null    int64 \n",
      " 10  family_history                       366 non-null    int64 \n",
      " 11  melanin_incontinence                 366 non-null    int64 \n",
      " 12  eosinophils_infiltrate               366 non-null    int64 \n",
      " 13  PNL_infiltrate                       366 non-null    int64 \n",
      " 14  fibrosis_papillary_dermis            366 non-null    int64 \n",
      " 15  exocytosis                           366 non-null    int64 \n",
      " 16  acanthosis                           366 non-null    int64 \n",
      " 17  hyperkeratosis                       366 non-null    int64 \n",
      " 18  parakeratosis                        366 non-null    int64 \n",
      " 19  clubbing_rete_ridges                 366 non-null    int64 \n",
      " 20  elongation_rete_ridges               366 non-null    int64 \n",
      " 21  thinning_suprapapillary_epidermis    366 non-null    int64 \n",
      " 22  spongiform_pustule                   366 non-null    int64 \n",
      " 23  munro_microabcess                    366 non-null    int64 \n",
      " 24  focal_hypergranulosis                366 non-null    int64 \n",
      " 25  disappearance_granular_layer         366 non-null    int64 \n",
      " 26  vacuolisation_damage_basal_layer     366 non-null    int64 \n",
      " 27  spongiosis                           366 non-null    int64 \n",
      " 28  saw_tooth_appearance_retes           366 non-null    int64 \n",
      " 29  follicular_horn_plug                 366 non-null    int64 \n",
      " 30  perifollicular_parakeratosis         366 non-null    int64 \n",
      " 31  inflammatory_mononuclear_infiltrate  366 non-null    int64 \n",
      " 32  band_like_infiltrate                 366 non-null    int64 \n",
      " 33  age                                  366 non-null    object\n",
      " 34  class                                366 non-null    int64 \n",
      "dtypes: int64(34), object(1)\n",
      "memory usage: 100.2+ KB\n",
      "   erythema  scaling  definite_borders  itching  koebner_phenomenon  \\\n",
      "0         2        2                 0        3                   0   \n",
      "1         3        3                 3        2                   1   \n",
      "2         2        1                 2        3                   1   \n",
      "3         2        2                 2        0                   0   \n",
      "4         2        3                 2        2                   2   \n",
      "\n",
      "   polygonal_papules  follicular_papules  oral_mucosal_involvement  \\\n",
      "0                  0                   0                         0   \n",
      "1                  0                   0                         0   \n",
      "2                  3                   0                         3   \n",
      "3                  0                   0                         0   \n",
      "4                  2                   0                         2   \n",
      "\n",
      "   knee_and_elbow_involvement  scalp_involvement  ...  \\\n",
      "0                           1                  0  ...   \n",
      "1                           1                  1  ...   \n",
      "2                           0                  0  ...   \n",
      "3                           3                  2  ...   \n",
      "4                           0                  0  ...   \n",
      "\n",
      "   disappearance_granular_layer  vacuolisation_damage_basal_layer  spongiosis  \\\n",
      "0                             0                                 0           3   \n",
      "1                             0                                 0           0   \n",
      "2                             0                                 2           3   \n",
      "3                             3                                 0           0   \n",
      "4                             2                                 3           2   \n",
      "\n",
      "   saw_tooth_appearance_retes  follicular_horn_plug  \\\n",
      "0                           0                     0   \n",
      "1                           0                     0   \n",
      "2                           2                     0   \n",
      "3                           0                     0   \n",
      "4                           3                     0   \n",
      "\n",
      "   perifollicular_parakeratosis  inflammatory_mononuclear_infiltrate  \\\n",
      "0                             0                                    1   \n",
      "1                             0                                    1   \n",
      "2                             0                                    2   \n",
      "3                             0                                    3   \n",
      "4                             0                                    2   \n",
      "\n",
      "   band_like_infiltrate  age  class  \n",
      "0                     0   55      2  \n",
      "1                     0    8      1  \n",
      "2                     3   26      3  \n",
      "3                     0   40      1  \n",
      "4                     3   45      3  \n",
      "\n",
      "[5 rows x 35 columns]\n"
     ]
    }
   ],
   "source": [
    "# Load the dataset\n",
    "\n",
    "\n",
    "data1= pd.read_csv('dermatology_database_1.csv')\n",
    "# Display basic information about the dataset\n",
    "print(\"Dataset columns:\", data1.columns)\n",
    "data1.info()\n",
    "print(data1.head())"
   ]
  },
  {
   "cell_type": "code",
   "execution_count": 40,
   "metadata": {},
   "outputs": [
    {
     "name": "stdout",
     "output_type": "stream",
     "text": [
      "\n",
      "Missing Values Count Per Column:\n",
      "erythema                               0\n",
      "scaling                                0\n",
      "definite_borders                       0\n",
      "itching                                0\n",
      "koebner_phenomenon                     0\n",
      "polygonal_papules                      0\n",
      "follicular_papules                     0\n",
      "oral_mucosal_involvement               0\n",
      "knee_and_elbow_involvement             0\n",
      "scalp_involvement                      0\n",
      "family_history                         0\n",
      "melanin_incontinence                   0\n",
      "eosinophils_infiltrate                 0\n",
      "PNL_infiltrate                         0\n",
      "fibrosis_papillary_dermis              0\n",
      "exocytosis                             0\n",
      "acanthosis                             0\n",
      "hyperkeratosis                         0\n",
      "parakeratosis                          0\n",
      "clubbing_rete_ridges                   0\n",
      "elongation_rete_ridges                 0\n",
      "thinning_suprapapillary_epidermis      0\n",
      "spongiform_pustule                     0\n",
      "munro_microabcess                      0\n",
      "focal_hypergranulosis                  0\n",
      "disappearance_granular_layer           0\n",
      "vacuolisation_damage_basal_layer       0\n",
      "spongiosis                             0\n",
      "saw_tooth_appearance_retes             0\n",
      "follicular_horn_plug                   0\n",
      "perifollicular_parakeratosis           0\n",
      "inflammatory_mononuclear_infiltrate    0\n",
      "band_like_infiltrate                   0\n",
      "age                                    0\n",
      "class                                  0\n",
      "dtype: int64\n"
     ]
    }
   ],
   "source": [
    "print(\"\\nMissing Values Count Per Column:\")\n",
    "print(data1.isnull().sum())  # Counts missing values in each column"
   ]
  },
  {
   "cell_type": "code",
   "execution_count": 41,
   "metadata": {},
   "outputs": [
    {
     "name": "stdout",
     "output_type": "stream",
     "text": [
      "\n",
      "Rows with Missing Values:\n",
      "Empty DataFrame\n",
      "Columns: [erythema, scaling, definite_borders, itching, koebner_phenomenon, polygonal_papules, follicular_papules, oral_mucosal_involvement, knee_and_elbow_involvement, scalp_involvement, family_history, melanin_incontinence, eosinophils_infiltrate, PNL_infiltrate, fibrosis_papillary_dermis, exocytosis, acanthosis, hyperkeratosis, parakeratosis, clubbing_rete_ridges, elongation_rete_ridges, thinning_suprapapillary_epidermis, spongiform_pustule, munro_microabcess, focal_hypergranulosis, disappearance_granular_layer, vacuolisation_damage_basal_layer, spongiosis, saw_tooth_appearance_retes, follicular_horn_plug, perifollicular_parakeratosis, inflammatory_mononuclear_infiltrate, band_like_infiltrate, age, class]\n",
      "Index: []\n",
      "\n",
      "[0 rows x 35 columns]\n"
     ]
    }
   ],
   "source": [
    "missing_rows = data1[data1.isnull().any(axis=1)]\n",
    "print(\"\\nRows with Missing Values:\")\n",
    "print(missing_rows)"
   ]
  },
  {
   "cell_type": "code",
   "execution_count": 42,
   "metadata": {},
   "outputs": [
    {
     "name": "stdout",
     "output_type": "stream",
     "text": [
      "\n",
      "Percentage of Missing Values Per Column:\n",
      "erythema                               0.0\n",
      "scaling                                0.0\n",
      "definite_borders                       0.0\n",
      "itching                                0.0\n",
      "koebner_phenomenon                     0.0\n",
      "polygonal_papules                      0.0\n",
      "follicular_papules                     0.0\n",
      "oral_mucosal_involvement               0.0\n",
      "knee_and_elbow_involvement             0.0\n",
      "scalp_involvement                      0.0\n",
      "family_history                         0.0\n",
      "melanin_incontinence                   0.0\n",
      "eosinophils_infiltrate                 0.0\n",
      "PNL_infiltrate                         0.0\n",
      "fibrosis_papillary_dermis              0.0\n",
      "exocytosis                             0.0\n",
      "acanthosis                             0.0\n",
      "hyperkeratosis                         0.0\n",
      "parakeratosis                          0.0\n",
      "clubbing_rete_ridges                   0.0\n",
      "elongation_rete_ridges                 0.0\n",
      "thinning_suprapapillary_epidermis      0.0\n",
      "spongiform_pustule                     0.0\n",
      "munro_microabcess                      0.0\n",
      "focal_hypergranulosis                  0.0\n",
      "disappearance_granular_layer           0.0\n",
      "vacuolisation_damage_basal_layer       0.0\n",
      "spongiosis                             0.0\n",
      "saw_tooth_appearance_retes             0.0\n",
      "follicular_horn_plug                   0.0\n",
      "perifollicular_parakeratosis           0.0\n",
      "inflammatory_mononuclear_infiltrate    0.0\n",
      "band_like_infiltrate                   0.0\n",
      "age                                    0.0\n",
      "class                                  0.0\n",
      "dtype: float64\n"
     ]
    }
   ],
   "source": [
    "missing_percentage = (data1.isnull().sum() / len(data1)) * 100\n",
    "print(\"\\nPercentage of Missing Values Per Column:\")\n",
    "print(missing_percentage)"
   ]
  },
  {
   "cell_type": "code",
   "execution_count": 43,
   "metadata": {},
   "outputs": [
    {
     "data": {
      "image/png": "[encoded data removed]",
      "text/plain": [
       "<Figure size 1000x600 with 1 Axes>"
      ]
     },
     "metadata": {},
     "output_type": "display_data"
    }
   ],
   "source": [
    "import seaborn as sns\n",
    "import matplotlib.pyplot as plt\n",
    "\n",
    "plt.figure(figsize=(10, 6))\n",
    "sns.heatmap(data1.isnull(), cmap=\"viridis\", cbar=False, yticklabels=False)\n",
    "plt.title(\"Missing Values in Dataset\")\n",
    "plt.show()"
   ]
  },
  {
   "cell_type": "code",
   "execution_count": 44,
   "metadata": {},
   "outputs": [
    {
     "name": "stdout",
     "output_type": "stream",
     "text": [
      "\n",
      "Data Types of Each Column:\n",
      "erythema                                int64\n",
      "scaling                                 int64\n",
      "definite_borders                        int64\n",
      "itching                                 int64\n",
      "koebner_phenomenon                      int64\n",
      "polygonal_papules                       int64\n",
      "follicular_papules                      int64\n",
      "oral_mucosal_involvement                int64\n",
      "knee_and_elbow_involvement              int64\n",
      "scalp_involvement                       int64\n",
      "family_history                          int64\n",
      "melanin_incontinence                    int64\n",
      "eosinophils_infiltrate                  int64\n",
      "PNL_infiltrate                          int64\n",
      "fibrosis_papillary_dermis               int64\n",
      "exocytosis                              int64\n",
      "acanthosis                              int64\n",
      "hyperkeratosis                          int64\n",
      "parakeratosis                           int64\n",
      "clubbing_rete_ridges                    int64\n",
      "elongation_rete_ridges                  int64\n",
      "thinning_suprapapillary_epidermis       int64\n",
      "spongiform_pustule                      int64\n",
      "munro_microabcess                       int64\n",
      "focal_hypergranulosis                   int64\n",
      "disappearance_granular_layer            int64\n",
      "vacuolisation_damage_basal_layer        int64\n",
      "spongiosis                              int64\n",
      "saw_tooth_appearance_retes              int64\n",
      "follicular_horn_plug                    int64\n",
      "perifollicular_parakeratosis            int64\n",
      "inflammatory_mononuclear_infiltrate     int64\n",
      "band_like_infiltrate                    int64\n",
      "age                                    object\n",
      "class                                   int64\n",
      "dtype: object\n"
     ]
    }
   ],
   "source": [
    "print(\"\\nData Types of Each Column:\")\n",
    "print(data1.dtypes)"
   ]
  },
  {
   "cell_type": "code",
   "execution_count": 45,
   "metadata": {},
   "outputs": [
    {
     "name": "stdout",
     "output_type": "stream",
     "text": [
      "\n",
      "Categorical Columns: ['age']\n",
      "Numerical Columns: ['erythema', 'scaling', 'definite_borders', 'itching', 'koebner_phenomenon', 'polygonal_papules', 'follicular_papules', 'oral_mucosal_involvement', 'knee_and_elbow_involvement', 'scalp_involvement', 'family_history', 'melanin_incontinence', 'eosinophils_infiltrate', 'PNL_infiltrate', 'fibrosis_papillary_dermis', 'exocytosis', 'acanthosis', 'hyperkeratosis', 'parakeratosis', 'clubbing_rete_ridges', 'elongation_rete_ridges', 'thinning_suprapapillary_epidermis', 'spongiform_pustule', 'munro_microabcess', 'focal_hypergranulosis', 'disappearance_granular_layer', 'vacuolisation_damage_basal_layer', 'spongiosis', 'saw_tooth_appearance_retes', 'follicular_horn_plug', 'perifollicular_parakeratosis', 'inflammatory_mononuclear_infiltrate', 'band_like_infiltrate', 'class']\n",
      "Boolean Columns: []\n"
     ]
    }
   ],
   "source": [
    "# Identify categorical, numerical, and boolean columns\n",
    "categorical_cols = data1.select_dtypes(include=['object']).columns\n",
    "numerical_cols = data1.select_dtypes(include=['int64', 'float64']).columns\n",
    "boolean_cols = data1.select_dtypes(include=['bool']).columns\n",
    "\n",
    "print(\"\\nCategorical Columns:\", list(categorical_cols))\n",
    "print(\"Numerical Columns:\", list(numerical_cols))\n",
    "print(\"Boolean Columns:\", list(boolean_cols))"
   ]
  },
  {
   "cell_type": "code",
   "execution_count": 46,
   "metadata": {},
   "outputs": [
    {
     "name": "stdout",
     "output_type": "stream",
     "text": [
      "\n",
      "Unique values in 'age':\n",
      "['55' '8' '26' '40' '45' '41' '18' '57' '22' '30' '20' '21' '10' '65' '38'\n",
      " '23' '17' '51' '42' '44' '33' '43' '50' '34' '?' '15' '46' '62' '35' '48'\n",
      " '12' '52' '60' '32' '19' '29' '25' '36' '13' '27' '31' '28' '64' '39'\n",
      " '47' '16' '0' '7' '70' '37' '61' '67' '56' '53' '24' '58' '49' '63' '68'\n",
      " '9' '75']\n"
     ]
    }
   ],
   "source": [
    "for col in categorical_cols:\n",
    "    print(f\"\\nUnique values in '{col}':\")\n",
    "    print(data1[col].unique())"
   ]
  },
  {
   "cell_type": "code",
   "execution_count": 47,
   "metadata": {},
   "outputs": [],
   "source": [
    "data1['age'] = pd.to_numeric(data1['age'], errors='coerce')"
   ]
  },
  {
   "cell_type": "code",
   "execution_count": 48,
   "metadata": {},
   "outputs": [
    {
     "data": {
      "image/png": "[encoded data removed]",
      "text/plain": [
       "<Figure size 1600x800 with 1 Axes>"
      ]
     },
     "metadata": {},
     "output_type": "display_data"
    }
   ],
   "source": [
    "plt.figure(figsize=(16, 8))\n",
    "plt.title('Class Distribution')\n",
    "plt.xlabel('Class')\n",
    "plt.ylabel('Frequency')\n",
    "data1['class'].value_counts().plot(kind='bar')\n",
    "plt.grid(axis='y', linestyle='--', alpha=0.6)\n",
    "plt.show()"
   ]
  },
  {
   "cell_type": "code",
   "execution_count": 49,
   "metadata": {},
   "outputs": [
    {
     "data": {
      "text/html": [
       "<div>\n",
       "<style scoped>\n",
       "    .dataframe tbody tr th:only-of-type {\n",
       "        vertical-align: middle;\n",
       "    }\n",
       "\n",
       "    .dataframe tbody tr th {\n",
       "        vertical-align: top;\n",
       "    }\n",
       "\n",
       "    .dataframe thead th {\n",
       "        text-align: right;\n",
       "    }\n",
       "</style>\n",
       "<table border=\"1\" class=\"dataframe\">\n",
       "  <thead>\n",
       "    <tr style=\"text-align: right;\">\n",
       "      <th></th>\n",
       "      <th>class</th>\n",
       "      <th>Count</th>\n",
       "    </tr>\n",
       "  </thead>\n",
       "  <tbody>\n",
       "    <tr>\n",
       "      <th>0</th>\n",
       "      <td>1</td>\n",
       "      <td>112</td>\n",
       "    </tr>\n",
       "    <tr>\n",
       "      <th>1</th>\n",
       "      <td>3</td>\n",
       "      <td>72</td>\n",
       "    </tr>\n",
       "    <tr>\n",
       "      <th>2</th>\n",
       "      <td>2</td>\n",
       "      <td>61</td>\n",
       "    </tr>\n",
       "    <tr>\n",
       "      <th>3</th>\n",
       "      <td>5</td>\n",
       "      <td>52</td>\n",
       "    </tr>\n",
       "    <tr>\n",
       "      <th>4</th>\n",
       "      <td>4</td>\n",
       "      <td>49</td>\n",
       "    </tr>\n",
       "    <tr>\n",
       "      <th>5</th>\n",
       "      <td>6</td>\n",
       "      <td>20</td>\n",
       "    </tr>\n",
       "  </tbody>\n",
       "</table>\n",
       "</div>"
      ],
      "text/plain": [
       "   class  Count\n",
       "0      1    112\n",
       "1      3     72\n",
       "2      2     61\n",
       "3      5     52\n",
       "4      4     49\n",
       "5      6     20"
      ]
     },
     "execution_count": 49,
     "metadata": {},
     "output_type": "execute_result"
    }
   ],
   "source": [
    "contagem_classe = data1['class'].value_counts().reset_index(name='Count')\n",
    "contagem_classe.columns = ['class','Count']\n",
    "contagem_classe"
   ]
  },
  {
   "cell_type": "code",
   "execution_count": 50,
   "metadata": {},
   "outputs": [
    {
     "data": {
      "image/png": "[encoded data removed]",
      "text/plain": [
       "<Figure size 2500x1200 with 1 Axes>"
      ]
     },
     "metadata": {},
     "output_type": "display_data"
    }
   ],
   "source": [
    "data1['age'] = pd.to_numeric(data1['age'], errors='coerce')\n",
    "data1 = data1.dropna(subset=['age'])\n",
    "data1_ordenado = data1.sort_values(by='age')\n",
    "\n",
    "plt.figure(figsize=(25, 12))\n",
    "sns.barplot(data=data1_ordenado, x='age', y='class')\n",
    "plt.xlabel('Age')\n",
    "plt.ylabel('Class')\n",
    "plt.grid(axis='y', linestyle='--', alpha=0.6)\n",
    "plt.show()"
   ]
  },
  {
   "cell_type": "code",
   "execution_count": 51,
   "metadata": {},
   "outputs": [],
   "source": [
    "X = data1.drop('class',axis=1)\n",
    "y = data1['class']\n",
    "X_train,X_test,y_train,y_test = train_test_split(X,y,test_size=0.2,random_state=42)"
   ]
  },
  {
   "cell_type": "code",
   "execution_count": 52,
   "metadata": {},
   "outputs": [
    {
     "name": "stdout",
     "output_type": "stream",
     "text": [
      "MSE: 0.4519059939092453\n",
      "R²: 0.8091035957932262\n"
     ]
    }
   ],
   "source": [
    "#Chamada do modelo\n",
    "\n",
    "model = LinearRegression()\n",
    "model.fit(X_train, y_train)\n",
    "y_pred = model.predict(X_test)\n",
    "\n",
    "#Avaliando\n",
    "mse = mean_squared_error(y_test, y_pred)\n",
    "print(\"MSE:\", mse)\n",
    "r2 = r2_score(y_test, y_pred)\n",
    "print(\"R²:\", r2)"
   ]
  },
  {
   "cell_type": "code",
   "execution_count": 53,
   "metadata": {},
   "outputs": [
    {
     "name": "stdout",
     "output_type": "stream",
     "text": [
      "[1 2 3 4 5 6]\n"
     ]
    }
   ],
   "source": [
    "\n",
    "print(np.unique(y_train)) "
   ]
  },
  {
   "cell_type": "code",
   "execution_count": 54,
   "metadata": {},
   "outputs": [
    {
     "name": "stdout",
     "output_type": "stream",
     "text": [
      "[1 2 3 4 5 6]\n",
      "[1 2 3 4 5 6]\n"
     ]
    }
   ],
   "source": [
    "print(np.unique(y_train))  # Should show at least two classes\n",
    "print(np.unique(y_test))   # Should also show at least two classes"
   ]
  },
  {
   "cell_type": "code",
   "execution_count": 55,
   "metadata": {},
   "outputs": [
    {
     "name": "stdout",
     "output_type": "stream",
     "text": [
      "Classes in y_train: [1 2 3 4 5 6]\n",
      "Classes in y_test: [1 2 3 4 5 6]\n"
     ]
    }
   ],
   "source": [
    "from sklearn.model_selection import train_test_split\n",
    "\n",
    "X_train, X_test, y_train, y_test = train_test_split(\n",
    "    X, y, test_size=0.2, stratify=y, random_state=42\n",
    ")\n",
    "\n",
    "print(\"Classes in y_train:\", np.unique(y_train))\n",
    "print(\"Classes in y_test:\", np.unique(y_test))"
   ]
  },
  {
   "cell_type": "code",
   "execution_count": 56,
   "metadata": {},
   "outputs": [
    {
     "name": "stdout",
     "output_type": "stream",
     "text": [
      "Overlap between X_train and X_test: 39\n"
     ]
    }
   ],
   "source": [
    "\n",
    "overlap = np.intersect1d(X_train, X_test)\n",
    "print(\"Overlap between X_train and X_test:\", overlap.shape[0])"
   ]
  },
  {
   "cell_type": "code",
   "execution_count": 57,
   "metadata": {},
   "outputs": [],
   "source": [
    "X_train, X_test, y_train, y_test = train_test_split(X, y, test_size=0.2, stratify=y, shuffle=True, random_state=42)"
   ]
  },
  {
   "cell_type": "code",
   "execution_count": 58,
   "metadata": {},
   "outputs": [],
   "source": [
    "X = X.drop_duplicates()\n",
    "y = y[X.index]"
   ]
  },
  {
   "cell_type": "code",
   "execution_count": 59,
   "metadata": {},
   "outputs": [
    {
     "name": "stdout",
     "output_type": "stream",
     "text": [
      "Overlap indices: []\n",
      "Number of overlapping samples: 0\n"
     ]
    }
   ],
   "source": [
    "overlap_indices = np.intersect1d(X_train.index, X_test.index)\n",
    "print(\"Overlap indices:\", overlap_indices)  # Should be empty\n",
    "print(\"Number of overlapping samples:\", overlap_indices.shape[0])"
   ]
  },
  {
   "cell_type": "code",
   "execution_count": 60,
   "metadata": {},
   "outputs": [
    {
     "name": "stdout",
     "output_type": "stream",
     "text": [
      "Number of duplicate rows: 0\n"
     ]
    }
   ],
   "source": [
    "# Check for duplicate rows in X\n",
    "duplicate_rows = X.duplicated()\n",
    "print(f\"Number of duplicate rows: {duplicate_rows.sum()}\")"
   ]
  },
  {
   "cell_type": "code",
   "execution_count": 61,
   "metadata": {},
   "outputs": [
    {
     "name": "stdout",
     "output_type": "stream",
     "text": [
      "Number of identical rows: 0\n"
     ]
    }
   ],
   "source": [
    "# Convert X_train and X_test to DataFrames and reset indices for comparison\n",
    "X_train_reset = pd.DataFrame(X_train)\n",
    "X_test_reset = pd.DataFrame(X_test)\n",
    "\n",
    "# Find the identical rows using merge\n",
    "overlap_rows = pd.merge(X_train_reset, X_test_reset, how='inner')\n",
    "\n",
    "# Display the number of identical rows\n",
    "print(f\"Number of identical rows: {overlap_rows.shape[0]}\")"
   ]
  },
  {
   "cell_type": "code",
   "execution_count": 62,
   "metadata": {},
   "outputs": [
    {
     "name": "stdout",
     "output_type": "stream",
     "text": [
      "Sample from X_train:\n",
      "     erythema  scaling  definite_borders  itching  koebner_phenomenon  \\\n",
      "81          3        2                 2        2                   0   \n",
      "101         1        1                 2        0                   0   \n",
      "174         3        2                 2        2                   0   \n",
      "27          1        2                 2        3                   0   \n",
      "229         2        2                 0        2                   0   \n",
      "\n",
      "     polygonal_papules  follicular_papules  oral_mucosal_involvement  \\\n",
      "81                   0                   0                         0   \n",
      "101                  0                   0                         0   \n",
      "174                  2                   0                         2   \n",
      "27                   0                   0                         0   \n",
      "229                  0                   0                         0   \n",
      "\n",
      "     knee_and_elbow_involvement  scalp_involvement  ...  \\\n",
      "81                            0                  0  ...   \n",
      "101                           0                  0  ...   \n",
      "174                           0                  0  ...   \n",
      "27                            0                  0  ...   \n",
      "229                           0                  0  ...   \n",
      "\n",
      "     focal_hypergranulosis  disappearance_granular_layer  \\\n",
      "81                       0                             0   \n",
      "101                      0                             0   \n",
      "174                      2                             0   \n",
      "27                       0                             0   \n",
      "229                      0                             0   \n",
      "\n",
      "     vacuolisation_damage_basal_layer  spongiosis  saw_tooth_appearance_retes  \\\n",
      "81                                  0           2                           0   \n",
      "101                                 0           0                           0   \n",
      "174                                 2           3                           2   \n",
      "27                                  0           1                           0   \n",
      "229                                 0           3                           0   \n",
      "\n",
      "     follicular_horn_plug  perifollicular_parakeratosis  \\\n",
      "81                      0                             0   \n",
      "101                     0                             0   \n",
      "174                     0                             0   \n",
      "27                      0                             0   \n",
      "229                     0                             0   \n",
      "\n",
      "     inflammatory_mononuclear_infiltrate  band_like_infiltrate   age  \n",
      "81                                     1                     0  31.0  \n",
      "101                                    1                     0  64.0  \n",
      "174                                    2                     3  40.0  \n",
      "27                                     3                     0  17.0  \n",
      "229                                    2                     0  47.0  \n",
      "\n",
      "[5 rows x 34 columns]\n",
      "Sample from X_test:\n",
      "     erythema  scaling  definite_borders  itching  koebner_phenomenon  \\\n",
      "60          2        2                 1        1                   0   \n",
      "219         2        2                 1        0                   1   \n",
      "321         2        2                 2        0                   1   \n",
      "161         2        1                 1        2                   0   \n",
      "322         2        1                 1        0                   1   \n",
      "\n",
      "     polygonal_papules  follicular_papules  oral_mucosal_involvement  \\\n",
      "60                   0                   1                         0   \n",
      "219                  0                   0                         0   \n",
      "321                  0                   0                         0   \n",
      "161                  0                   0                         0   \n",
      "322                  0                   0                         0   \n",
      "\n",
      "     knee_and_elbow_involvement  scalp_involvement  ...  \\\n",
      "60                            1                  1  ...   \n",
      "219                           0                  0  ...   \n",
      "321                           0                  0  ...   \n",
      "161                           0                  0  ...   \n",
      "322                           0                  0  ...   \n",
      "\n",
      "     focal_hypergranulosis  disappearance_granular_layer  \\\n",
      "60                       0                             0   \n",
      "219                      0                             0   \n",
      "321                      0                             1   \n",
      "161                      0                             0   \n",
      "322                      0                             0   \n",
      "\n",
      "     vacuolisation_damage_basal_layer  spongiosis  saw_tooth_appearance_retes  \\\n",
      "60                                  0           1                           0   \n",
      "219                                 0           3                           0   \n",
      "321                                 0           2                           0   \n",
      "161                                 0           2                           0   \n",
      "322                                 0           1                           0   \n",
      "\n",
      "     follicular_horn_plug  perifollicular_parakeratosis  \\\n",
      "60                      1                             1   \n",
      "219                     0                             0   \n",
      "321                     0                             0   \n",
      "161                     0                             0   \n",
      "322                     0                             0   \n",
      "\n",
      "     inflammatory_mononuclear_infiltrate  band_like_infiltrate   age  \n",
      "60                                     1                     0   8.0  \n",
      "219                                    2                     0  35.0  \n",
      "321                                    2                     0  32.0  \n",
      "161                                    3                     0  61.0  \n",
      "322                                    1                     0  27.0  \n",
      "\n",
      "[5 rows x 34 columns]\n"
     ]
    }
   ],
   "source": [
    "# Print sample data from both X_train and X_test\n",
    "print(\"Sample from X_train:\")\n",
    "print(X_train.head())\n",
    "\n",
    "print(\"Sample from X_test:\")\n",
    "print(X_test.head())"
   ]
  },
  {
   "cell_type": "code",
   "execution_count": 63,
   "metadata": {},
   "outputs": [
    {
     "name": "stdout",
     "output_type": "stream",
     "text": [
      "Number of overlapping indices: 0\n"
     ]
    }
   ],
   "source": [
    "# Check if there is any overlap in indices between X_train and X_test\n",
    "overlap_indices = np.intersect1d(X_train.index, X_test.index)\n",
    "print(f\"Number of overlapping indices: {len(overlap_indices)}\")"
   ]
  },
  {
   "cell_type": "code",
   "execution_count": 64,
   "metadata": {},
   "outputs": [
    {
     "name": "stdout",
     "output_type": "stream",
     "text": [
      "X_train shape: (286, 34)\n",
      "X_test shape: (72, 34)\n"
     ]
    }
   ],
   "source": [
    "from sklearn.model_selection import train_test_split\n",
    "\n",
    "# Check how you split the data\n",
    "X_train, X_test, y_train, y_test = train_test_split(X, y, test_size=0.2, random_state=42)\n",
    "\n",
    "# Check the number of rows in each set\n",
    "print(f\"X_train shape: {X_train.shape}\")\n",
    "print(f\"X_test shape: {X_test.shape}\")"
   ]
  },
  {
   "cell_type": "code",
   "execution_count": 65,
   "metadata": {},
   "outputs": [
    {
     "data": {
      "text/html": [
       "<style>#sk-container-id-2 {\n",
       "  /* Definition of color scheme common for light and dark mode */\n",
       "  --sklearn-color-text: #000;\n",
       "  --sklearn-color-text-muted: #666;\n",
       "  --sklearn-color-line: gray;\n",
       "  /* Definition of color scheme for unfitted estimators */\n",
       "  --sklearn-color-unfitted-level-0: #fff5e6;\n",
       "  --sklearn-color-unfitted-level-1: #f6e4d2;\n",
       "  --sklearn-color-unfitted-level-2: #ffe0b3;\n",
       "  --sklearn-color-unfitted-level-3: chocolate;\n",
       "  /* Definition of color scheme for fitted estimators */\n",
       "  --sklearn-color-fitted-level-0: #f0f8ff;\n",
       "  --sklearn-color-fitted-level-1: #d4ebff;\n",
       "  --sklearn-color-fitted-level-2: #b3dbfd;\n",
       "  --sklearn-color-fitted-level-3: cornflowerblue;\n",
       "\n",
       "  /* Specific color for light theme */\n",
       "  --sklearn-color-text-on-default-background: var(--sg-text-color, var(--theme-code-foreground, var(--jp-content-font-color1, black)));\n",
       "  --sklearn-color-background: var(--sg-background-color, var(--theme-background, var(--jp-layout-color0, white)));\n",
       "  --sklearn-color-border-box: var(--sg-text-color, var(--theme-code-foreground, var(--jp-content-font-color1, black)));\n",
       "  --sklearn-color-icon: #696969;\n",
       "\n",
       "  @media (prefers-color-scheme: dark) {\n",
       "    /* Redefinition of color scheme for dark theme */\n",
       "    --sklearn-color-text-on-default-background: var(--sg-text-color, var(--theme-code-foreground, var(--jp-content-font-color1, white)));\n",
       "    --sklearn-color-background: var(--sg-background-color, var(--theme-background, var(--jp-layout-color0, #111)));\n",
       "    --sklearn-color-border-box: var(--sg-text-color, var(--theme-code-foreground, var(--jp-content-font-color1, white)));\n",
       "    --sklearn-color-icon: #878787;\n",
       "  }\n",
       "}\n",
       "\n",
       "#sk-container-id-2 {\n",
       "  color: var(--sklearn-color-text);\n",
       "}\n",
       "\n",
       "#sk-container-id-2 pre {\n",
       "  padding: 0;\n",
       "}\n",
       "\n",
       "#sk-container-id-2 input.sk-hidden--visually {\n",
       "  border: 0;\n",
       "  clip: rect(1px 1px 1px 1px);\n",
       "  clip: rect(1px, 1px, 1px, 1px);\n",
       "  height: 1px;\n",
       "  margin: -1px;\n",
       "  overflow: hidden;\n",
       "  padding: 0;\n",
       "  position: absolute;\n",
       "  width: 1px;\n",
       "}\n",
       "\n",
       "#sk-container-id-2 div.sk-dashed-wrapped {\n",
       "  border: 1px dashed var(--sklearn-color-line);\n",
       "  margin: 0 0.4em 0.5em 0.4em;\n",
       "  box-sizing: border-box;\n",
       "  padding-bottom: 0.4em;\n",
       "  background-color: var(--sklearn-color-background);\n",
       "}\n",
       "\n",
       "#sk-container-id-2 div.sk-container {\n",
       "  /* jupyter's `normalize.less` sets `[hidden] { display: none; }`\n",
       "     but bootstrap.min.css set `[hidden] { display: none !important; }`\n",
       "     so we also need the `!important` here to be able to override the\n",
       "     default hidden behavior on the sphinx rendered scikit-learn.org.\n",
       "     See: https://github.com/scikit-learn/scikit-learn/issues/21755 */\n",
       "  display: inline-block !important;\n",
       "  position: relative;\n",
       "}\n",
       "\n",
       "#sk-container-id-2 div.sk-text-repr-fallback {\n",
       "  display: none;\n",
       "}\n",
       "\n",
       "div.sk-parallel-item,\n",
       "div.sk-serial,\n",
       "div.sk-item {\n",
       "  /* draw centered vertical line to link estimators */\n",
       "  background-image: linear-gradient(var(--sklearn-color-text-on-default-background), var(--sklearn-color-text-on-default-background));\n",
       "  background-size: 2px 100%;\n",
       "  background-repeat: no-repeat;\n",
       "  background-position: center center;\n",
       "}\n",
       "\n",
       "/* Parallel-specific style estimator block */\n",
       "\n",
       "#sk-container-id-2 div.sk-parallel-item::after {\n",
       "  content: \"\";\n",
       "  width: 100%;\n",
       "  border-bottom: 2px solid var(--sklearn-color-text-on-default-background);\n",
       "  flex-grow: 1;\n",
       "}\n",
       "\n",
       "#sk-container-id-2 div.sk-parallel {\n",
       "  display: flex;\n",
       "  align-items: stretch;\n",
       "  justify-content: center;\n",
       "  background-color: var(--sklearn-color-background);\n",
       "  position: relative;\n",
       "}\n",
       "\n",
       "#sk-container-id-2 div.sk-parallel-item {\n",
       "  display: flex;\n",
       "  flex-direction: column;\n",
       "}\n",
       "\n",
       "#sk-container-id-2 div.sk-parallel-item:first-child::after {\n",
       "  align-self: flex-end;\n",
       "  width: 50%;\n",
       "}\n",
       "\n",
       "#sk-container-id-2 div.sk-parallel-item:last-child::after {\n",
       "  align-self: flex-start;\n",
       "  width: 50%;\n",
       "}\n",
       "\n",
       "#sk-container-id-2 div.sk-parallel-item:only-child::after {\n",
       "  width: 0;\n",
       "}\n",
       "\n",
       "/* Serial-specific style estimator block */\n",
       "\n",
       "#sk-container-id-2 div.sk-serial {\n",
       "  display: flex;\n",
       "  flex-direction: column;\n",
       "  align-items: center;\n",
       "  background-color: var(--sklearn-color-background);\n",
       "  padding-right: 1em;\n",
       "  padding-left: 1em;\n",
       "}\n",
       "\n",
       "\n",
       "/* Toggleable style: style used for estimator/Pipeline/ColumnTransformer box that is\n",
       "clickable and can be expanded/collapsed.\n",
       "- Pipeline and ColumnTransformer use this feature and define the default style\n",
       "- Estimators will overwrite some part of the style using the `sk-estimator` class\n",
       "*/\n",
       "\n",
       "/* Pipeline and ColumnTransformer style (default) */\n",
       "\n",
       "#sk-container-id-2 div.sk-toggleable {\n",
       "  /* Default theme specific background. It is overwritten whether we have a\n",
       "  specific estimator or a Pipeline/ColumnTransformer */\n",
       "  background-color: var(--sklearn-color-background);\n",
       "}\n",
       "\n",
       "/* Toggleable label */\n",
       "#sk-container-id-2 label.sk-toggleable__label {\n",
       "  cursor: pointer;\n",
       "  display: flex;\n",
       "  width: 100%;\n",
       "  margin-bottom: 0;\n",
       "  padding: 0.5em;\n",
       "  box-sizing: border-box;\n",
       "  text-align: center;\n",
       "  align-items: start;\n",
       "  justify-content: space-between;\n",
       "  gap: 0.5em;\n",
       "}\n",
       "\n",
       "#sk-container-id-2 label.sk-toggleable__label .caption {\n",
       "  font-size: 0.6rem;\n",
       "  font-weight: lighter;\n",
       "  color: var(--sklearn-color-text-muted);\n",
       "}\n",
       "\n",
       "#sk-container-id-2 label.sk-toggleable__label-arrow:before {\n",
       "  /* Arrow on the left of the label */\n",
       "  content: \"▸\";\n",
       "  float: left;\n",
       "  margin-right: 0.25em;\n",
       "  color: var(--sklearn-color-icon);\n",
       "}\n",
       "\n",
       "#sk-container-id-2 label.sk-toggleable__label-arrow:hover:before {\n",
       "  color: var(--sklearn-color-text);\n",
       "}\n",
       "\n",
       "/* Toggleable content - dropdown */\n",
       "\n",
       "#sk-container-id-2 div.sk-toggleable__content {\n",
       "  max-height: 0;\n",
       "  max-width: 0;\n",
       "  overflow: hidden;\n",
       "  text-align: left;\n",
       "  /* unfitted */\n",
       "  background-color: var(--sklearn-color-unfitted-level-0);\n",
       "}\n",
       "\n",
       "#sk-container-id-2 div.sk-toggleable__content.fitted {\n",
       "  /* fitted */\n",
       "  background-color: var(--sklearn-color-fitted-level-0);\n",
       "}\n",
       "\n",
       "#sk-container-id-2 div.sk-toggleable__content pre {\n",
       "  margin: 0.2em;\n",
       "  border-radius: 0.25em;\n",
       "  color: var(--sklearn-color-text);\n",
       "  /* unfitted */\n",
       "  background-color: var(--sklearn-color-unfitted-level-0);\n",
       "}\n",
       "\n",
       "#sk-container-id-2 div.sk-toggleable__content.fitted pre {\n",
       "  /* unfitted */\n",
       "  background-color: var(--sklearn-color-fitted-level-0);\n",
       "}\n",
       "\n",
       "#sk-container-id-2 input.sk-toggleable__control:checked~div.sk-toggleable__content {\n",
       "  /* Expand drop-down */\n",
       "  max-height: 200px;\n",
       "  max-width: 100%;\n",
       "  overflow: auto;\n",
       "}\n",
       "\n",
       "#sk-container-id-2 input.sk-toggleable__control:checked~label.sk-toggleable__label-arrow:before {\n",
       "  content: \"▾\";\n",
       "}\n",
       "\n",
       "/* Pipeline/ColumnTransformer-specific style */\n",
       "\n",
       "#sk-container-id-2 div.sk-label input.sk-toggleable__control:checked~label.sk-toggleable__label {\n",
       "  color: var(--sklearn-color-text);\n",
       "  background-color: var(--sklearn-color-unfitted-level-2);\n",
       "}\n",
       "\n",
       "#sk-container-id-2 div.sk-label.fitted input.sk-toggleable__control:checked~label.sk-toggleable__label {\n",
       "  background-color: var(--sklearn-color-fitted-level-2);\n",
       "}\n",
       "\n",
       "/* Estimator-specific style */\n",
       "\n",
       "/* Colorize estimator box */\n",
       "#sk-container-id-2 div.sk-estimator input.sk-toggleable__control:checked~label.sk-toggleable__label {\n",
       "  /* unfitted */\n",
       "  background-color: var(--sklearn-color-unfitted-level-2);\n",
       "}\n",
       "\n",
       "#sk-container-id-2 div.sk-estimator.fitted input.sk-toggleable__control:checked~label.sk-toggleable__label {\n",
       "  /* fitted */\n",
       "  background-color: var(--sklearn-color-fitted-level-2);\n",
       "}\n",
       "\n",
       "#sk-container-id-2 div.sk-label label.sk-toggleable__label,\n",
       "#sk-container-id-2 div.sk-label label {\n",
       "  /* The background is the default theme color */\n",
       "  color: var(--sklearn-color-text-on-default-background);\n",
       "}\n",
       "\n",
       "/* On hover, darken the color of the background */\n",
       "#sk-container-id-2 div.sk-label:hover label.sk-toggleable__label {\n",
       "  color: var(--sklearn-color-text);\n",
       "  background-color: var(--sklearn-color-unfitted-level-2);\n",
       "}\n",
       "\n",
       "/* Label box, darken color on hover, fitted */\n",
       "#sk-container-id-2 div.sk-label.fitted:hover label.sk-toggleable__label.fitted {\n",
       "  color: var(--sklearn-color-text);\n",
       "  background-color: var(--sklearn-color-fitted-level-2);\n",
       "}\n",
       "\n",
       "/* Estimator label */\n",
       "\n",
       "#sk-container-id-2 div.sk-label label {\n",
       "  font-family: monospace;\n",
       "  font-weight: bold;\n",
       "  display: inline-block;\n",
       "  line-height: 1.2em;\n",
       "}\n",
       "\n",
       "#sk-container-id-2 div.sk-label-container {\n",
       "  text-align: center;\n",
       "}\n",
       "\n",
       "/* Estimator-specific */\n",
       "#sk-container-id-2 div.sk-estimator {\n",
       "  font-family: monospace;\n",
       "  border: 1px dotted var(--sklearn-color-border-box);\n",
       "  border-radius: 0.25em;\n",
       "  box-sizing: border-box;\n",
       "  margin-bottom: 0.5em;\n",
       "  /* unfitted */\n",
       "  background-color: var(--sklearn-color-unfitted-level-0);\n",
       "}\n",
       "\n",
       "#sk-container-id-2 div.sk-estimator.fitted {\n",
       "  /* fitted */\n",
       "  background-color: var(--sklearn-color-fitted-level-0);\n",
       "}\n",
       "\n",
       "/* on hover */\n",
       "#sk-container-id-2 div.sk-estimator:hover {\n",
       "  /* unfitted */\n",
       "  background-color: var(--sklearn-color-unfitted-level-2);\n",
       "}\n",
       "\n",
       "#sk-container-id-2 div.sk-estimator.fitted:hover {\n",
       "  /* fitted */\n",
       "  background-color: var(--sklearn-color-fitted-level-2);\n",
       "}\n",
       "\n",
       "/* Specification for estimator info (e.g. \"i\" and \"?\") */\n",
       "\n",
       "/* Common style for \"i\" and \"?\" */\n",
       "\n",
       ".sk-estimator-doc-link,\n",
       "a:link.sk-estimator-doc-link,\n",
       "a:visited.sk-estimator-doc-link {\n",
       "  float: right;\n",
       "  font-size: smaller;\n",
       "  line-height: 1em;\n",
       "  font-family: monospace;\n",
       "  background-color: var(--sklearn-color-background);\n",
       "  border-radius: 1em;\n",
       "  height: 1em;\n",
       "  width: 1em;\n",
       "  text-decoration: none !important;\n",
       "  margin-left: 0.5em;\n",
       "  text-align: center;\n",
       "  /* unfitted */\n",
       "  border: var(--sklearn-color-unfitted-level-1) 1pt solid;\n",
       "  color: var(--sklearn-color-unfitted-level-1);\n",
       "}\n",
       "\n",
       ".sk-estimator-doc-link.fitted,\n",
       "a:link.sk-estimator-doc-link.fitted,\n",
       "a:visited.sk-estimator-doc-link.fitted {\n",
       "  /* fitted */\n",
       "  border: var(--sklearn-color-fitted-level-1) 1pt solid;\n",
       "  color: var(--sklearn-color-fitted-level-1);\n",
       "}\n",
       "\n",
       "/* On hover */\n",
       "div.sk-estimator:hover .sk-estimator-doc-link:hover,\n",
       ".sk-estimator-doc-link:hover,\n",
       "div.sk-label-container:hover .sk-estimator-doc-link:hover,\n",
       ".sk-estimator-doc-link:hover {\n",
       "  /* unfitted */\n",
       "  background-color: var(--sklearn-color-unfitted-level-3);\n",
       "  color: var(--sklearn-color-background);\n",
       "  text-decoration: none;\n",
       "}\n",
       "\n",
       "div.sk-estimator.fitted:hover .sk-estimator-doc-link.fitted:hover,\n",
       ".sk-estimator-doc-link.fitted:hover,\n",
       "div.sk-label-container:hover .sk-estimator-doc-link.fitted:hover,\n",
       ".sk-estimator-doc-link.fitted:hover {\n",
       "  /* fitted */\n",
       "  background-color: var(--sklearn-color-fitted-level-3);\n",
       "  color: var(--sklearn-color-background);\n",
       "  text-decoration: none;\n",
       "}\n",
       "\n",
       "/* Span, style for the box shown on hovering the info icon */\n",
       ".sk-estimator-doc-link span {\n",
       "  display: none;\n",
       "  z-index: 9999;\n",
       "  position: relative;\n",
       "  font-weight: normal;\n",
       "  right: .2ex;\n",
       "  padding: .5ex;\n",
       "  margin: .5ex;\n",
       "  width: min-content;\n",
       "  min-width: 20ex;\n",
       "  max-width: 50ex;\n",
       "  color: var(--sklearn-color-text);\n",
       "  box-shadow: 2pt 2pt 4pt #999;\n",
       "  /* unfitted */\n",
       "  background: var(--sklearn-color-unfitted-level-0);\n",
       "  border: .5pt solid var(--sklearn-color-unfitted-level-3);\n",
       "}\n",
       "\n",
       ".sk-estimator-doc-link.fitted span {\n",
       "  /* fitted */\n",
       "  background: var(--sklearn-color-fitted-level-0);\n",
       "  border: var(--sklearn-color-fitted-level-3);\n",
       "}\n",
       "\n",
       ".sk-estimator-doc-link:hover span {\n",
       "  display: block;\n",
       "}\n",
       "\n",
       "/* \"?\"-specific style due to the `<a>` HTML tag */\n",
       "\n",
       "#sk-container-id-2 a.estimator_doc_link {\n",
       "  float: right;\n",
       "  font-size: 1rem;\n",
       "  line-height: 1em;\n",
       "  font-family: monospace;\n",
       "  background-color: var(--sklearn-color-background);\n",
       "  border-radius: 1rem;\n",
       "  height: 1rem;\n",
       "  width: 1rem;\n",
       "  text-decoration: none;\n",
       "  /* unfitted */\n",
       "  color: var(--sklearn-color-unfitted-level-1);\n",
       "  border: var(--sklearn-color-unfitted-level-1) 1pt solid;\n",
       "}\n",
       "\n",
       "#sk-container-id-2 a.estimator_doc_link.fitted {\n",
       "  /* fitted */\n",
       "  border: var(--sklearn-color-fitted-level-1) 1pt solid;\n",
       "  color: var(--sklearn-color-fitted-level-1);\n",
       "}\n",
       "\n",
       "/* On hover */\n",
       "#sk-container-id-2 a.estimator_doc_link:hover {\n",
       "  /* unfitted */\n",
       "  background-color: var(--sklearn-color-unfitted-level-3);\n",
       "  color: var(--sklearn-color-background);\n",
       "  text-decoration: none;\n",
       "}\n",
       "\n",
       "#sk-container-id-2 a.estimator_doc_link.fitted:hover {\n",
       "  /* fitted */\n",
       "  background-color: var(--sklearn-color-fitted-level-3);\n",
       "}\n",
       "</style><div id=\"sk-container-id-2\" class=\"sk-top-container\"><div class=\"sk-text-repr-fallback\"><pre>Pipeline(steps=[(&#x27;standardscaler&#x27;, StandardScaler()),\n",
       "                (&#x27;logisticregression&#x27;, LogisticRegression())])</pre><b>In a Jupyter environment, please rerun this cell to show the HTML representation or trust the notebook. <br />On GitHub, the HTML representation is unable to render, please try loading this page with nbviewer.org.</b></div><div class=\"sk-container\" hidden><div class=\"sk-item sk-dashed-wrapped\"><div class=\"sk-label-container\"><div class=\"sk-label fitted sk-toggleable\"><input class=\"sk-toggleable__control sk-hidden--visually\" id=\"sk-estimator-id-4\" type=\"checkbox\" ><label for=\"sk-estimator-id-4\" class=\"sk-toggleable__label fitted sk-toggleable__label-arrow\"><div><div>Pipeline</div></div><div><a class=\"sk-estimator-doc-link fitted\" rel=\"noreferrer\" target=\"_blank\" href=\"https://scikit-learn.org/1.6/modules/generated/sklearn.pipeline.Pipeline.html\">?<span>Documentation for Pipeline</span></a><span class=\"sk-estimator-doc-link fitted\">i<span>Fitted</span></span></div></label><div class=\"sk-toggleable__content fitted\"><pre>Pipeline(steps=[(&#x27;standardscaler&#x27;, StandardScaler()),\n",
       "                (&#x27;logisticregression&#x27;, LogisticRegression())])</pre></div> </div></div><div class=\"sk-serial\"><div class=\"sk-item\"><div class=\"sk-estimator fitted sk-toggleable\"><input class=\"sk-toggleable__control sk-hidden--visually\" id=\"sk-estimator-id-5\" type=\"checkbox\" ><label for=\"sk-estimator-id-5\" class=\"sk-toggleable__label fitted sk-toggleable__label-arrow\"><div><div>StandardScaler</div></div><div><a class=\"sk-estimator-doc-link fitted\" rel=\"noreferrer\" target=\"_blank\" href=\"https://scikit-learn.org/1.6/modules/generated/sklearn.preprocessing.StandardScaler.html\">?<span>Documentation for StandardScaler</span></a></div></label><div class=\"sk-toggleable__content fitted\"><pre>StandardScaler()</pre></div> </div></div><div class=\"sk-item\"><div class=\"sk-estimator fitted sk-toggleable\"><input class=\"sk-toggleable__control sk-hidden--visually\" id=\"sk-estimator-id-6\" type=\"checkbox\" ><label for=\"sk-estimator-id-6\" class=\"sk-toggleable__label fitted sk-toggleable__label-arrow\"><div><div>LogisticRegression</div></div><div><a class=\"sk-estimator-doc-link fitted\" rel=\"noreferrer\" target=\"_blank\" href=\"https://scikit-learn.org/1.6/modules/generated/sklearn.linear_model.LogisticRegression.html\">?<span>Documentation for LogisticRegression</span></a></div></label><div class=\"sk-toggleable__content fitted\"><pre>LogisticRegression()</pre></div> </div></div></div></div></div></div>"
      ],
      "text/plain": [
       "Pipeline(steps=[('standardscaler', StandardScaler()),\n",
       "                ('logisticregression', LogisticRegression())])"
      ]
     },
     "execution_count": 65,
     "metadata": {},
     "output_type": "execute_result"
    }
   ],
   "source": [
    "from sklearn.preprocessing import StandardScaler\n",
    "from sklearn.pipeline import make_pipeline\n",
    "\n",
    "# Use a pipeline to ensure proper handling of transformations\n",
    "pipeline = make_pipeline(StandardScaler(), LogisticRegression())\n",
    "pipeline.fit(X_train, y_train)"
   ]
  },
  {
   "cell_type": "code",
   "execution_count": 66,
   "metadata": {},
   "outputs": [
    {
     "name": "stdout",
     "output_type": "stream",
     "text": [
      "Overlap after split: 40\n"
     ]
    }
   ],
   "source": [
    "overlap = np.intersect1d(X_train, X_test)\n",
    "print(\"Overlap after split:\", overlap.shape[0])"
   ]
  },
  {
   "cell_type": "code",
   "execution_count": 67,
   "metadata": {},
   "outputs": [
    {
     "name": "stdout",
     "output_type": "stream",
     "text": [
      "MSE: 0.125\n",
      "R²: 0.9471968709256845\n"
     ]
    }
   ],
   "source": [
    "# Foi preciso escalonar os dados por conta do solver usado pela biblioteca, não conseguiamos terminar os cálculos\n",
    "scaler = StandardScaler()\n",
    "X_scaled = scaler.fit_transform(X)\n",
    "\n",
    "# Example: Convert continuous values into 3 categories (low, medium, high)\n",
    "y_train = np.digitize(y_train, bins=[0.5, 1.5, 2.5, 3.5, 4.5, 5.5])  # Adjust bins based on your data distribution\n",
    "y_test = np.digitize(y_test, bins=[0.5, 1.5, 2.5, 3.5, 4.5, 5.5])\n",
    "\n",
    "\n",
    "model = LogisticRegression(class_weight=\"balanced\", max_iter=1000)\n",
    "model.fit(X_train, y_train)\n",
    "y_pred = model.predict(X_test)\n",
    "\n",
    "\n",
    "mse = mean_squared_error(y_test, y_pred)\n",
    "print(\"MSE:\", mse)\n",
    "r2 = r2_score(y_test, y_pred)\n",
    "print(\"R²:\", r2)"
   ]
  },
  {
   "cell_type": "code",
   "execution_count": 68,
   "metadata": {},
   "outputs": [
    {
     "name": "stdout",
     "output_type": "stream",
     "text": [
      "{1: 89, 2: 46, 3: 57, 4: 40, 5: 36, 6: 18}\n"
     ]
    }
   ],
   "source": [
    "unique, counts = np.unique(y_train, return_counts=True)\n",
    "print(dict(zip(unique, counts)))"
   ]
  },
  {
   "cell_type": "code",
   "execution_count": 69,
   "metadata": {},
   "outputs": [
    {
     "name": "stdout",
     "output_type": "stream",
     "text": [
      "Classification Report:\n",
      "              precision    recall  f1-score   support\n",
      "\n",
      "           1       1.00      1.00      1.00        22\n",
      "           2       1.00      0.86      0.92        14\n",
      "           3       1.00      0.93      0.96        14\n",
      "           4       0.73      1.00      0.84         8\n",
      "           5       1.00      1.00      1.00        12\n",
      "           6       1.00      1.00      1.00         2\n",
      "\n",
      "    accuracy                           0.96        72\n",
      "   macro avg       0.95      0.96      0.95        72\n",
      "weighted avg       0.97      0.96      0.96        72\n",
      "\n"
     ]
    }
   ],
   "source": [
    "from sklearn.metrics import classification_report\n",
    "\n",
    "print(\"Classification Report:\")\n",
    "print(classification_report(y_test, y_pred))"
   ]
  },
  {
   "cell_type": "code",
   "execution_count": 70,
   "metadata": {},
   "outputs": [
    {
     "data": {
      "image/png": "[encoded data removed]",
      "text/plain": [
       "<Figure size 640x480 with 2 Axes>"
      ]
     },
     "metadata": {},
     "output_type": "display_data"
    }
   ],
   "source": [
    "import seaborn as sns\n",
    "import matplotlib.pyplot as plt\n",
    "from sklearn.metrics import confusion_matrix\n",
    "\n",
    "cm = confusion_matrix(y_test, y_pred)\n",
    "sns.heatmap(cm, annot=True, fmt=\"d\", cmap=\"Blues\")\n",
    "plt.xlabel(\"Predicted\")\n",
    "plt.ylabel(\"Actual\")\n",
    "plt.title(\"Confusion Matrix\")\n",
    "plt.show()"
   ]
  }
 ],
 "metadata": {
  "kernelspec": {
   "display_name": "tf_env",
   "language": "python",
   "name": "python3"
  },
  "language_info": {
   "codemirror_mode": {
    "name": "ipython",
    "version": 3
   },
   "file_extension": ".py",
   "mimetype": "text/x-python",
   "name": "python",
   "nbconvert_exporter": "python",
   "pygments_lexer": "ipython3",
   "version": "3.9.21"
  }
 },
 "nbformat": 4,
 "nbformat_minor": 2
}

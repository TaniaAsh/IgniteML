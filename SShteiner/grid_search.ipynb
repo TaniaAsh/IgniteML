{
 "cells": [
  {
   "cell_type": "markdown",
   "metadata": {},
   "source": [
    "# Оптимизация гиперпараметров моделей в scikit-learn\n",
    "\n",
    "Оптимизация гиперпараметров — это важный шаг в машинном обучении, который помогает улучшить производительность модели на тестовых данных. \n",
    "В этом ноутбуке мы:\n",
    "1. Изучим использование **GridSearchCV**.\n",
    "2. Реализуем перебор параметров вручную.\n",
    "3. Рассмотрим альтернативные подходы, такие как **RandomizedSearchCV**.\n"
   ]
  },
  {
   "cell_type": "markdown",
   "metadata": {},
   "source": [
    "## Генерация данных"
   ]
  },
  {
   "cell_type": "code",
   "execution_count": 6,
   "metadata": {},
   "outputs": [
    {
     "name": "stdout",
     "output_type": "stream",
     "text": [
      "Размер обучающей выборки: (160, 3)\n",
      "Размер тестовой выборки: (40, 3)\n"
     ]
    }
   ],
   "source": [
    "from sklearn.datasets import make_regression\n",
    "from sklearn.model_selection import train_test_split\n",
    "\n",
    "# Генерация синтетического набора данных\n",
    "X, y = make_regression(n_samples=200, n_features=3, noise=10, random_state=42)\n",
    "X_train, X_test, y_train, y_test = train_test_split(X, y, test_size=0.2, random_state=42)\n",
    "\n",
    "print('Размер обучающей выборки:', X_train.shape)\n",
    "print('Размер тестовой выборки:', X_test.shape)"
   ]
  },
  {
   "cell_type": "markdown",
   "metadata": {},
   "source": [
    "## GridSearchCV"
   ]
  },
  {
   "cell_type": "code",
   "execution_count": 7,
   "metadata": {},
   "outputs": [
    {
     "name": "stdout",
     "output_type": "stream",
     "text": [
      "Лучшие параметры: {'alpha': 0.1, 'fit_intercept': False}\n",
      "Лучший результат (neg_mean_squared_error): -107.92350419524944\n",
      "MSE на тестовых данных: 131.2267578837927\n"
     ]
    }
   ],
   "source": [
    "from sklearn.model_selection import GridSearchCV\n",
    "from sklearn.linear_model import Ridge\n",
    "from sklearn.metrics import mean_squared_error\n",
    "\n",
    "# Сетка гиперпараметров\n",
    "param_grid = {\n",
    "    'alpha': [0.1, 1.0, 10.0],\n",
    "    'fit_intercept': [True, False]\n",
    "}\n",
    "\n",
    "# GridSearchCV\n",
    "grid_search = GridSearchCV(Ridge(), param_grid, cv=5, scoring='neg_mean_squared_error')\n",
    "grid_search.fit(X_train, y_train)\n",
    "\n",
    "print('Лучшие параметры:', grid_search.best_params_)\n",
    "print('Лучший результат (neg_mean_squared_error):', grid_search.best_score_)\n",
    "\n",
    "# Оценка на тестовых данных\n",
    "best_model = grid_search.best_estimator_\n",
    "y_pred = best_model.predict(X_test)\n",
    "mse_test = mean_squared_error(y_test, y_pred)\n",
    "print('MSE на тестовых данных:', mse_test)"
   ]
  },
  {
   "cell_type": "markdown",
   "metadata": {},
   "source": [
    "## Реализация GridSearchCV вручную"
   ]
  },
  {
   "cell_type": "code",
   "execution_count": 8,
   "metadata": {},
   "outputs": [
    {
     "name": "stdout",
     "output_type": "stream",
     "text": [
      "alpha=0.1, fit_intercept=True, MSE=108.48284280092784\n",
      "alpha=0.1, fit_intercept=False, MSE=107.94946185904796\n",
      "alpha=1.0, fit_intercept=True, MSE=109.18217563269107\n",
      "alpha=1.0, fit_intercept=False, MSE=108.68813800377514\n",
      "alpha=10.0, fit_intercept=True, MSE=172.54703849711206\n",
      "alpha=10.0, fit_intercept=False, MSE=170.768775289724\n",
      "Лучшие параметры (ручной перебор): {'alpha': 0.1, 'fit_intercept': False}\n"
     ]
    }
   ],
   "source": [
    "from sklearn.model_selection import KFold\n",
    "\n",
    "# Реализация руками\n",
    "kf = KFold(n_splits=5, shuffle=True, random_state=42)\n",
    "best_params = None\n",
    "best_mse = float('inf')\n",
    "\n",
    "for alpha in [0.1, 1.0, 10.0]:\n",
    "    for fit_intercept in [True, False]:\n",
    "        mse_scores = []\n",
    "        for train_idx, val_idx in kf.split(X_train):\n",
    "            X_tr, X_val = X_train[train_idx], X_train[val_idx]\n",
    "            y_tr, y_val = y_train[train_idx], y_train[val_idx]\n",
    "            model = Ridge(alpha=alpha, fit_intercept=fit_intercept)\n",
    "            model.fit(X_tr, y_tr)\n",
    "            y_pred = model.predict(X_val)\n",
    "            mse_scores.append(mean_squared_error(y_val, y_pred))\n",
    "        avg_mse = sum(mse_scores) / len(mse_scores)\n",
    "        print(f'alpha={alpha}, fit_intercept={fit_intercept}, MSE={avg_mse}')\n",
    "        if avg_mse < best_mse:\n",
    "            best_mse = avg_mse\n",
    "            best_params = {'alpha': alpha, 'fit_intercept': fit_intercept}\n",
    "\n",
    "print('Лучшие параметры (ручной перебор):', best_params)"
   ]
  },
  {
   "cell_type": "markdown",
   "metadata": {},
   "source": [
    "## RandomizedSearchCV"
   ]
  },
  {
   "cell_type": "code",
   "execution_count": 9,
   "metadata": {},
   "outputs": [
    {
     "name": "stdout",
     "output_type": "stream",
     "text": [
      "Лучшие параметры (RandomizedSearchCV): {'alpha': np.float64(0.10778765841014329), 'fit_intercept': False}\n"
     ]
    }
   ],
   "source": [
    "from sklearn.model_selection import RandomizedSearchCV\n",
    "from scipy.stats import uniform\n",
    "\n",
    "# RandomizedSearchCV\n",
    "param_distributions = {\n",
    "    'alpha': uniform(0.1, 10.0),\n",
    "    'fit_intercept': [True, False]\n",
    "}\n",
    "\n",
    "random_search = RandomizedSearchCV(\n",
    "    Ridge(), param_distributions, n_iter=20, cv=5, scoring='neg_mean_squared_error', random_state=42\n",
    ")\n",
    "random_search.fit(X_train, y_train)\n",
    "\n",
    "print('Лучшие параметры (RandomizedSearchCV):', random_search.best_params_)"
   ]
  },
  {
   "cell_type": "markdown",
   "metadata": {},
   "source": [
    "## Заключение\n",
    "\n",
    "В этом ноутбуке мы:\n",
    "- Изучили использование **GridSearchCV** и реализовали его вручную.\n",
    "- Рассмотрели альтернативный метод **RandomizedSearchCV**.\n",
    "\n",
    "Каждый метод имеет свои плюсы и минусы:\n",
    "- GridSearchCV подходит для небольших сеток гиперпараметров.\n",
    "- RandomizedSearchCV быстрее для больших пространств гиперпараметров.\n",
    "\n",
    "Выбор метода зависит от задачи, доступных ресурсов и размера пространства гиперпараметров."
   ]
  }
 ],
 "metadata": {
  "kernelspec": {
   "display_name": "Python 3",
   "language": "python",
   "name": "python3"
  },
  "language_info": {
   "codemirror_mode": {
    "name": "ipython",
    "version": 3
   },
   "file_extension": ".py",
   "mimetype": "text/x-python",
   "name": "python",
   "nbconvert_exporter": "python",
   "pygments_lexer": "ipython3",
   "version": "3.12.6"
  }
 },
 "nbformat": 4,
 "nbformat_minor": 4
}

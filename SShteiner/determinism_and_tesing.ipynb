{
 "cells": [
  {
   "cell_type": "markdown",
   "metadata": {},
   "source": [
    "Функции бывают недетерминированными, т.е. они могут возвращать разные ответы для одного и того же набора аргументов."
   ]
  },
  {
   "cell_type": "code",
   "execution_count": 130,
   "metadata": {},
   "outputs": [],
   "source": [
    "import numpy as np"
   ]
  },
  {
   "cell_type": "code",
   "execution_count": 131,
   "metadata": {},
   "outputs": [
    {
     "data": {
      "text/plain": [
       "4"
      ]
     },
     "execution_count": 131,
     "metadata": {},
     "output_type": "execute_result"
    }
   ],
   "source": [
    "np.random.randint(1, 10)"
   ]
  },
  {
   "cell_type": "code",
   "execution_count": 132,
   "metadata": {},
   "outputs": [
    {
     "data": {
      "text/plain": [
       "9"
      ]
     },
     "execution_count": 132,
     "metadata": {},
     "output_type": "execute_result"
    }
   ],
   "source": [
    "np.random.randint(1, 10)"
   ]
  },
  {
   "cell_type": "markdown",
   "metadata": {},
   "source": [
    "Но хаос можно контролировать, указав seed"
   ]
  },
  {
   "cell_type": "code",
   "execution_count": 133,
   "metadata": {},
   "outputs": [
    {
     "data": {
      "text/plain": [
       "7"
      ]
     },
     "execution_count": 133,
     "metadata": {},
     "output_type": "execute_result"
    }
   ],
   "source": [
    "np.random.seed(42)\n",
    "\n",
    "np.random.randint(1, 10) # у меня вернуло 7"
   ]
  },
  {
   "cell_type": "code",
   "execution_count": 134,
   "metadata": {},
   "outputs": [
    {
     "data": {
      "text/plain": [
       "7"
      ]
     },
     "execution_count": 134,
     "metadata": {},
     "output_type": "execute_result"
    }
   ],
   "source": [
    "np.random.seed(42)\n",
    "\n",
    "np.random.randint(1, 10)  # у меня опять вернуло 7"
   ]
  },
  {
   "cell_type": "code",
   "execution_count": 135,
   "metadata": {},
   "outputs": [
    {
     "data": {
      "text/plain": [
       "7"
      ]
     },
     "execution_count": 135,
     "metadata": {},
     "output_type": "execute_result"
    }
   ],
   "source": [
    "np.random.seed(42)\n",
    "\n",
    "np.random.randint(1, 10)  # и снова вернуло 7!"
   ]
  },
  {
   "cell_type": "markdown",
   "metadata": {},
   "source": [
    "Замечание: внимание, тут всё немного хитрее. Фиксированный сид не значит, что np.random.randint(1, 10) всегда выводит одно и то же!"
   ]
  },
  {
   "cell_type": "code",
   "execution_count": 136,
   "metadata": {},
   "outputs": [
    {
     "name": "stdout",
     "output_type": "stream",
     "text": [
      "7\n",
      "4\n",
      "8\n"
     ]
    }
   ],
   "source": [
    "np.random.seed(42)\n",
    "\n",
    "for _ in range(3):\n",
    "    print(np.random.randint(1, 10))  # 7 4 8\n"
   ]
  },
  {
   "cell_type": "markdown",
   "metadata": {},
   "source": [
    "Фиксированный сид не значит, что последовательность значений np.random.randint(1, 10) всегда одинаковая."
   ]
  },
  {
   "cell_type": "code",
   "execution_count": 137,
   "metadata": {},
   "outputs": [
    {
     "name": "stdout",
     "output_type": "stream",
     "text": [
      "7\n",
      "4\n",
      "8\n"
     ]
    }
   ],
   "source": [
    "np.random.seed(42)\n",
    "\n",
    "for _ in range(3):\n",
    "    print(np.random.randint(1, 10))  # опять 7 4 8\n"
   ]
  },
  {
   "cell_type": "markdown",
   "metadata": {},
   "source": [
    "Является ли LinearRegression детерминированной? Как мы неожиданно выяснили, LinearRegression вовсе не использует градиентный бустинг из курсеры, а решает задачу методами линейной алгебры. Вполне возможно, что она детерминирована. Но давайте проверим. "
   ]
  },
  {
   "cell_type": "code",
   "execution_count": 138,
   "metadata": {},
   "outputs": [],
   "source": [
    "# качаем наш датасет\n",
    "\n",
    "import kagglehub\n",
    "\n",
    "dataset_local_folder = kagglehub.dataset_download(\"jakewright/house-price-data\")\n",
    "dataset_local_csv = f\"{dataset_local_folder}/kaggle_london_house_price_data.csv\"\n",
    "\n",
    "import pandas as pd\n",
    "\n",
    "df = pd.read_csv(dataset_local_csv)\n",
    "df.dropna(subset=['floorAreaSqM', 'saleEstimate_currentPrice'], inplace=True)"
   ]
  },
  {
   "cell_type": "code",
   "execution_count": 139,
   "metadata": {},
   "outputs": [],
   "source": [
    "from sklearn.linear_model import LinearRegression\n",
    "\n",
    "X = df[['floorAreaSqM']]\n",
    "y = df['saleEstimate_currentPrice']\n",
    "    "
   ]
  },
  {
   "cell_type": "code",
   "execution_count": 140,
   "metadata": {},
   "outputs": [
    {
     "name": "stdout",
     "output_type": "stream",
     "text": [
      "11364.96911227819 -251334.1616502545\n"
     ]
    }
   ],
   "source": [
    "model = LinearRegression()\n",
    "model.fit(X, y)\n",
    "print(model.coef_[0], model.intercept_)"
   ]
  },
  {
   "cell_type": "code",
   "execution_count": 141,
   "metadata": {},
   "outputs": [
    {
     "name": "stdout",
     "output_type": "stream",
     "text": [
      "11364.96911227819 -251334.1616502545\n"
     ]
    }
   ],
   "source": [
    "model = LinearRegression()\n",
    "model.fit(X, y)\n",
    "print(model.coef_[0], model.intercept_)"
   ]
  },
  {
   "cell_type": "markdown",
   "metadata": {},
   "source": [
    "Вроде одно и то же! Ура! Давайте убедимся, что бывает и по-разному!"
   ]
  },
  {
   "cell_type": "code",
   "execution_count": 142,
   "metadata": {},
   "outputs": [],
   "source": [
    "# это другой алгоритм, но тоже линейный, зато наверняка недетерминированный\n",
    "from sklearn.linear_model import SGDRegressor"
   ]
  },
  {
   "cell_type": "code",
   "execution_count": 143,
   "metadata": {},
   "outputs": [
    {
     "name": "stdout",
     "output_type": "stream",
     "text": [
      "67823766.57967646 1761061509.3041806\n"
     ]
    }
   ],
   "source": [
    "model = SGDRegressor()\n",
    "model.fit(X, y)\n",
    "print(model.coef_[0], model.intercept_[0])"
   ]
  },
  {
   "cell_type": "code",
   "execution_count": 144,
   "metadata": {},
   "outputs": [
    {
     "name": "stdout",
     "output_type": "stream",
     "text": [
      "-91874179.35728526 91649144.34769498\n"
     ]
    }
   ],
   "source": [
    "model = SGDRegressor()\n",
    "model.fit(X, y)\n",
    "print(model.coef_[0], model.intercept_[0])"
   ]
  },
  {
   "cell_type": "markdown",
   "metadata": {},
   "source": [
    "Вроде теперь получается разное! Но и тут можно зафиксировать seed!"
   ]
  },
  {
   "cell_type": "code",
   "execution_count": 145,
   "metadata": {},
   "outputs": [
    {
     "name": "stdout",
     "output_type": "stream",
     "text": [
      "161006.19608022354 639026.7184629464\n"
     ]
    }
   ],
   "source": [
    "model = SGDRegressor(random_state=42)\n",
    "model.fit(X, y)\n",
    "print(model.coef_[0], model.intercept_[0])"
   ]
  },
  {
   "cell_type": "code",
   "execution_count": 146,
   "metadata": {},
   "outputs": [
    {
     "name": "stdout",
     "output_type": "stream",
     "text": [
      "161006.19608022354 639026.7184629464\n"
     ]
    }
   ],
   "source": [
    "model = SGDRegressor(random_state=42)\n",
    "model.fit(X, y)\n",
    "print(model.coef_[0], model.intercept_[0])"
   ]
  },
  {
   "cell_type": "markdown",
   "metadata": {},
   "source": [
    "Теперь одно и то же! Ещё мы говорили о тестировании."
   ]
  },
  {
   "cell_type": "code",
   "execution_count": 147,
   "metadata": {},
   "outputs": [
    {
     "name": "stdout",
     "output_type": "stream",
     "text": [
      "307964208100.029 8.249607145113637e+23\n",
      "Model 1 is better\n"
     ]
    }
   ],
   "source": [
    "from sklearn.model_selection import train_test_split\n",
    "\n",
    "# разобьем наш датасет на обучающую и тестовую выборки\n",
    "X_learn, X_test, y_learn, y_test = train_test_split(X, y, test_size=0.1)\n",
    "\n",
    "# вот так можно посчитать ошибку модели руками\n",
    "# конечно если и готовая функция, и именно её и нужно использовать, но так не очень наглядно\n",
    "def evaluate_model(model, X_test, y_test):\n",
    "    error = 0\n",
    "    for i in range(len(X_test)):\n",
    "        # тут всё приходится немного выкручиваться, потому что все эти библиотеки очень не любят циклы по отдельным строчкам\n",
    "        X_single = X_test.iloc[[i]] \n",
    "        y_pred = model.predict(X_single)[0]\n",
    "        error += (y_pred - y_test.iloc[i]) ** 2\n",
    "    error /= len(X_test)  # Среднеквадратичная ошибка\n",
    "    return error\n",
    "\n",
    "# правильнее конечно, вот так\n",
    "\"\"\"\n",
    "def evaluate_model(model, X_test, y_test):\n",
    "    predictions = model.predict(X_test)  # Предсказания для всей выборки\n",
    "    error = np.mean((predictions - y_test) ** 2)  # Среднеквадратичная ошибка\n",
    "    return error\n",
    "\"\"\"\n",
    "\n",
    "model1 = LinearRegression()\n",
    "model1.fit(X_learn, y_learn)\n",
    "error1 = evaluate_model(model1, X_test, y_test)\n",
    "\n",
    "model2 = SGDRegressor(random_state=42)\n",
    "model2.fit(X_learn, y_learn)\n",
    "error2 = evaluate_model(model2, X_test, y_test)\n",
    "\n",
    "print(error1, error2)\n",
    "if error1 < error2:\n",
    "    print(\"Model 1 is better\")\n",
    "else:\n",
    "    print(\"Model 2 is better\")"
   ]
  },
  {
   "cell_type": "markdown",
   "metadata": {},
   "source": [
    "ДЗ. Запустите код выше несколько раз и ответьте на следующие вопросы:\n",
    "\n",
    "1) Почему ошибки при каждом запуске разные? Ведь обе модели LinearRegression() и SGDRegressor(random_state=42) детерминированные!\n",
    "2) Как это исправить?\n",
    "3) Почему первая ошибка стабильно меньше второй?"
   ]
  }
 ],
 "metadata": {
  "kernelspec": {
   "display_name": "myenv",
   "language": "python",
   "name": "python3"
  },
  "language_info": {
   "codemirror_mode": {
    "name": "ipython",
    "version": 3
   },
   "file_extension": ".py",
   "mimetype": "text/x-python",
   "name": "python",
   "nbconvert_exporter": "python",
   "pygments_lexer": "ipython3",
   "version": "3.12.6"
  }
 },
 "nbformat": 4,
 "nbformat_minor": 2
}

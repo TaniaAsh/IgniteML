{
 "cells": [
  {
   "cell_type": "code",
   "execution_count": 1,
   "metadata": {},
   "outputs": [
    {
     "name": "stderr",
     "output_type": "stream",
     "text": [
      "C:\\Users\\tania\\AppData\\Local\\Temp\\ipykernel_18212\\3751563354.py:8: UserWarning: Parsing dates in %d-%m-%Y format when dayfirst=False (the default) was specified. Pass `dayfirst=True` or specify a format to silence this warning.\n",
      "  df['Date'] = pd.to_datetime(df['Date'])\n"
     ]
    },
    {
     "name": "stdout",
     "output_type": "stream",
     "text": [
      "              precision    recall  f1-score   support\n",
      "\n",
      "           0       0.49      0.83      0.62       859\n",
      "           1       0.63      0.25      0.36       991\n",
      "\n",
      "    accuracy                           0.52      1850\n",
      "   macro avg       0.56      0.54      0.49      1850\n",
      "weighted avg       0.56      0.52      0.48      1850\n",
      "\n",
      "ROC AUC: 0.5457499333348214\n"
     ]
    }
   ],
   "source": [
    "# Stock Movement Prediction: Best Practices Implementation (Classification)\n",
    "\n",
    "import pandas as pd\n",
    "import numpy as np\n",
    "\n",
    "# === 1. Load and Prepare Data ===\n",
    "df = pd.read_csv(\"MSFT.csv\")\n",
    "df['Date'] = pd.to_datetime(df['Date'])\n",
    "df = df.sort_values('Date').reset_index(drop=True)\n",
    "\n",
    "# Binary Target: Predict if Close_t+1 > Close_t\n",
    "df['Target'] = (df['Close'].shift(-1) > df['Close']).astype(int)\n",
    "\n",
    "# === 2. Feature Engineering ===\n",
    "df['DailyReturn'] = (df['Close'] - df['Open']) / df['Open']\n",
    "df['Volatility'] = (df['High'] - df['Low']) / df['Open']\n",
    "df['Close_Open_Diff'] = df['Close'] - df['Open']\n",
    "\n",
    "# Lag features\n",
    "df['Close_t-1'] = df['Close'].shift(1)\n",
    "df['Volume_t-1'] = df['Volume'].shift(1)\n",
    "df['DailyReturn_t-1'] = df['DailyReturn'].shift(1)\n",
    "\n",
    "# Rolling features\n",
    "df['SMA_3'] = df['Close'].rolling(3).mean()\n",
    "df['SMA_7'] = df['Close'].rolling(7).mean()\n",
    "df['EMA_10'] = df['Close'].ewm(span=10, adjust=False).mean()\n",
    "df['Momentum_3'] = df['Close'] - df['Close'].shift(3)\n",
    "\n",
    "# RSI\n",
    "change = df['Close'].diff()\n",
    "gain = change.clip(lower=0).rolling(14).mean()\n",
    "loss = -change.clip(upper=0).rolling(14).mean()\n",
    "rs = gain / loss\n",
    "df['RSI_14'] = 100 - (100 / (1 + rs))\n",
    "\n",
    "# Drop NA\n",
    "features = [\n",
    "    'DailyReturn', 'Volatility', 'Close_Open_Diff', 'Close_t-1',\n",
    "    'Volume_t-1', 'DailyReturn_t-1', 'SMA_3', 'SMA_7', 'EMA_10',\n",
    "    'Momentum_3', 'RSI_14']\n",
    "df = df.dropna(subset=features + ['Target']).reset_index(drop=True)\n",
    "\n",
    "# === 3. Train/Test Split ===\n",
    "from sklearn.model_selection import train_test_split\n",
    "X = df[features]\n",
    "y = df['Target']\n",
    "X_train, X_test, y_train, y_test = train_test_split(X, y, test_size=0.2, shuffle=False)\n",
    "\n",
    "# === 4. Scaling ===\n",
    "from sklearn.preprocessing import StandardScaler\n",
    "scaler = StandardScaler()\n",
    "X_train_scaled = scaler.fit_transform(X_train)\n",
    "X_test_scaled = scaler.transform(X_test)\n",
    "\n",
    "# === 5. Modeling with Best Practices ===\n",
    "from sklearn.linear_model import LogisticRegression\n",
    "from sklearn.svm import SVC\n",
    "from sklearn.neural_network import MLPClassifier\n",
    "from sklearn.ensemble import RandomForestClassifier, StackingClassifier\n",
    "from sklearn.metrics import classification_report, roc_auc_score\n",
    "\n",
    "base_models = [\n",
    "    ('svm', SVC(kernel='rbf', C=1, gamma='scale', probability=True)),\n",
    "    ('mlp', MLPClassifier(hidden_layer_sizes=(50,), max_iter=500)),\n",
    "    ('rf', RandomForestClassifier(n_estimators=100, max_depth=5))\n",
    "]\n",
    "\n",
    "meta_model = LogisticRegression()\n",
    "stack = StackingClassifier(estimators=base_models, final_estimator=meta_model, cv=5, passthrough=True)\n",
    "stack.fit(X_train_scaled, y_train)\n",
    "\n",
    "# === 6. Evaluation ===\n",
    "y_pred = stack.predict(X_test_scaled)\n",
    "y_proba = stack.predict_proba(X_test_scaled)[:, 1]\n",
    "\n",
    "print(classification_report(y_test, y_pred))\n",
    "print(\"ROC AUC:\", roc_auc_score(y_test, y_proba))\n"
   ]
  }
 ],
 "metadata": {
  "kernelspec": {
   "display_name": "tf_env",
   "language": "python",
   "name": "python3"
  },
  "language_info": {
   "codemirror_mode": {
    "name": "ipython",
    "version": 3
   },
   "file_extension": ".py",
   "mimetype": "text/x-python",
   "name": "python",
   "nbconvert_exporter": "python",
   "pygments_lexer": "ipython3",
   "version": "3.9.15"
  }
 },
 "nbformat": 4,
 "nbformat_minor": 2
}
